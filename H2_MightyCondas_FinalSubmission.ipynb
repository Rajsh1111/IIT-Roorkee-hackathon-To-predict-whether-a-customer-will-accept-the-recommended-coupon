{
 "cells": [
  {
   "cell_type": "markdown",
   "metadata": {},
   "source": [
    "# <center> POSTGRADUATE CERTIFICATE PROGRAM IN DATA SCIENCE AND MACHINE LEARNING (PGCP-DSML)</center>"
   ]
  },
  {
   "cell_type": "markdown",
   "metadata": {},
   "source": [
    "## <center> Hackathon 2  </center>"
   ]
  },
  {
   "cell_type": "markdown",
   "metadata": {},
   "source": [
    "## Submitted by \n",
    "- Shanthi S Guru\n",
    "- Ankur Patel\n",
    "- Rekha Mishra\n",
    "- Ekta Upadhyay\n",
    "- Sindhu Nair\n",
    "- Mohit Pareek\n",
    "- Rajeev Sharma\n",
    "- Sachin Ralhan\n"
   ]
  },
  {
   "cell_type": "code",
   "execution_count": 1,
   "metadata": {},
   "outputs": [],
   "source": [
    "## Importing required Libraries:\n",
    "\n",
    "import numpy as np\n",
    "import pandas as pd\n",
    "import matplotlib.pyplot as plt\n",
    "%matplotlib inline\n",
    "import seaborn as sns; sns.set()\n",
    "#import missingno as msn"
   ]
  },
  {
   "cell_type": "code",
   "execution_count": 2,
   "metadata": {},
   "outputs": [],
   "source": [
    "\n",
    "sns.set(rc={'figure.figsize':(20.7,8.27)})\n",
    "sns.set_style(\"whitegrid\")\n",
    "sns.color_palette(\"dark\")\n",
    "plt.style.use(\"fivethirtyeight\")"
   ]
  },
  {
   "cell_type": "code",
   "execution_count": 3,
   "metadata": {},
   "outputs": [
    {
     "data": {
      "text/html": [
       "<div>\n",
       "<style scoped>\n",
       "    .dataframe tbody tr th:only-of-type {\n",
       "        vertical-align: middle;\n",
       "    }\n",
       "\n",
       "    .dataframe tbody tr th {\n",
       "        vertical-align: top;\n",
       "    }\n",
       "\n",
       "    .dataframe thead th {\n",
       "        text-align: right;\n",
       "    }\n",
       "</style>\n",
       "<table border=\"1\" class=\"dataframe\">\n",
       "  <thead>\n",
       "    <tr style=\"text-align: right;\">\n",
       "      <th></th>\n",
       "      <th>customer_id</th>\n",
       "      <th>destination</th>\n",
       "      <th>passanger</th>\n",
       "      <th>weather</th>\n",
       "      <th>temperature</th>\n",
       "      <th>time</th>\n",
       "      <th>coupon</th>\n",
       "      <th>expiration</th>\n",
       "      <th>gender</th>\n",
       "      <th>age</th>\n",
       "      <th>...</th>\n",
       "      <th>CoffeeHouse</th>\n",
       "      <th>CarryAway</th>\n",
       "      <th>RestaurantLessThan20</th>\n",
       "      <th>Restaurant20To50</th>\n",
       "      <th>toCoupon_GEQ5min</th>\n",
       "      <th>toCoupon_GEQ15min</th>\n",
       "      <th>toCoupon_GEQ25min</th>\n",
       "      <th>direction_same</th>\n",
       "      <th>direction_opp</th>\n",
       "      <th>Y</th>\n",
       "    </tr>\n",
       "  </thead>\n",
       "  <tbody>\n",
       "    <tr>\n",
       "      <th>0</th>\n",
       "      <td>258868</td>\n",
       "      <td>No Urgent Place</td>\n",
       "      <td>Friend(s)</td>\n",
       "      <td>Sunny</td>\n",
       "      <td>80</td>\n",
       "      <td>6PM</td>\n",
       "      <td>Restaurant(&lt;20)</td>\n",
       "      <td>1d</td>\n",
       "      <td>Male</td>\n",
       "      <td>21</td>\n",
       "      <td>...</td>\n",
       "      <td>1~3</td>\n",
       "      <td>4~8</td>\n",
       "      <td>4~8</td>\n",
       "      <td>never</td>\n",
       "      <td>1</td>\n",
       "      <td>1</td>\n",
       "      <td>0</td>\n",
       "      <td>0</td>\n",
       "      <td>1</td>\n",
       "      <td>1</td>\n",
       "    </tr>\n",
       "    <tr>\n",
       "      <th>1</th>\n",
       "      <td>318369</td>\n",
       "      <td>Work</td>\n",
       "      <td>Alone</td>\n",
       "      <td>Sunny</td>\n",
       "      <td>80</td>\n",
       "      <td>7AM</td>\n",
       "      <td>Restaurant(&lt;20)</td>\n",
       "      <td>2h</td>\n",
       "      <td>Male</td>\n",
       "      <td>21</td>\n",
       "      <td>...</td>\n",
       "      <td>1~3</td>\n",
       "      <td>4~8</td>\n",
       "      <td>1~3</td>\n",
       "      <td>less1</td>\n",
       "      <td>1</td>\n",
       "      <td>0</td>\n",
       "      <td>0</td>\n",
       "      <td>1</td>\n",
       "      <td>0</td>\n",
       "      <td>0</td>\n",
       "    </tr>\n",
       "    <tr>\n",
       "      <th>2</th>\n",
       "      <td>320906</td>\n",
       "      <td>No Urgent Place</td>\n",
       "      <td>Alone</td>\n",
       "      <td>Sunny</td>\n",
       "      <td>80</td>\n",
       "      <td>10AM</td>\n",
       "      <td>Coffee House</td>\n",
       "      <td>2h</td>\n",
       "      <td>Female</td>\n",
       "      <td>21</td>\n",
       "      <td>...</td>\n",
       "      <td>gt8</td>\n",
       "      <td>4~8</td>\n",
       "      <td>1~3</td>\n",
       "      <td>1~3</td>\n",
       "      <td>1</td>\n",
       "      <td>1</td>\n",
       "      <td>0</td>\n",
       "      <td>0</td>\n",
       "      <td>1</td>\n",
       "      <td>0</td>\n",
       "    </tr>\n",
       "    <tr>\n",
       "      <th>3</th>\n",
       "      <td>412393</td>\n",
       "      <td>Work</td>\n",
       "      <td>Alone</td>\n",
       "      <td>Rainy</td>\n",
       "      <td>55</td>\n",
       "      <td>7AM</td>\n",
       "      <td>Restaurant(&lt;20)</td>\n",
       "      <td>2h</td>\n",
       "      <td>Female</td>\n",
       "      <td>26</td>\n",
       "      <td>...</td>\n",
       "      <td>less1</td>\n",
       "      <td>4~8</td>\n",
       "      <td>1~3</td>\n",
       "      <td>never</td>\n",
       "      <td>1</td>\n",
       "      <td>1</td>\n",
       "      <td>1</td>\n",
       "      <td>0</td>\n",
       "      <td>1</td>\n",
       "      <td>0</td>\n",
       "    </tr>\n",
       "    <tr>\n",
       "      <th>4</th>\n",
       "      <td>290854</td>\n",
       "      <td>Home</td>\n",
       "      <td>Alone</td>\n",
       "      <td>Snowy</td>\n",
       "      <td>30</td>\n",
       "      <td>6PM</td>\n",
       "      <td>Coffee House</td>\n",
       "      <td>1d</td>\n",
       "      <td>Male</td>\n",
       "      <td>31</td>\n",
       "      <td>...</td>\n",
       "      <td>less1</td>\n",
       "      <td>4~8</td>\n",
       "      <td>less1</td>\n",
       "      <td>never</td>\n",
       "      <td>1</td>\n",
       "      <td>1</td>\n",
       "      <td>0</td>\n",
       "      <td>0</td>\n",
       "      <td>1</td>\n",
       "      <td>0</td>\n",
       "    </tr>\n",
       "  </tbody>\n",
       "</table>\n",
       "<p>5 rows × 27 columns</p>\n",
       "</div>"
      ],
      "text/plain": [
       "   customer_id      destination  passanger weather  temperature  time  \\\n",
       "0       258868  No Urgent Place  Friend(s)   Sunny           80   6PM   \n",
       "1       318369             Work      Alone   Sunny           80   7AM   \n",
       "2       320906  No Urgent Place      Alone   Sunny           80  10AM   \n",
       "3       412393             Work      Alone   Rainy           55   7AM   \n",
       "4       290854             Home      Alone   Snowy           30   6PM   \n",
       "\n",
       "            coupon expiration  gender age  ... CoffeeHouse  CarryAway  \\\n",
       "0  Restaurant(<20)         1d    Male  21  ...         1~3        4~8   \n",
       "1  Restaurant(<20)         2h    Male  21  ...         1~3        4~8   \n",
       "2     Coffee House         2h  Female  21  ...         gt8        4~8   \n",
       "3  Restaurant(<20)         2h  Female  26  ...       less1        4~8   \n",
       "4     Coffee House         1d    Male  31  ...       less1        4~8   \n",
       "\n",
       "  RestaurantLessThan20 Restaurant20To50 toCoupon_GEQ5min toCoupon_GEQ15min  \\\n",
       "0                  4~8            never                1                 1   \n",
       "1                  1~3            less1                1                 0   \n",
       "2                  1~3              1~3                1                 1   \n",
       "3                  1~3            never                1                 1   \n",
       "4                less1            never                1                 1   \n",
       "\n",
       "  toCoupon_GEQ25min direction_same direction_opp  Y  \n",
       "0                 0              0             1  1  \n",
       "1                 0              1             0  0  \n",
       "2                 0              0             1  0  \n",
       "3                 1              0             1  0  \n",
       "4                 0              0             1  0  \n",
       "\n",
       "[5 rows x 27 columns]"
      ]
     },
     "execution_count": 3,
     "metadata": {},
     "output_type": "execute_result"
    }
   ],
   "source": [
    "# read training and test dataset\n",
    "\n",
    "df_train = pd.read_csv('train.csv')\n",
    "df_test = pd.read_csv('test.csv')\n",
    "\n",
    "df_train.head(5)"
   ]
  },
  {
   "cell_type": "code",
   "execution_count": 4,
   "metadata": {},
   "outputs": [
    {
     "data": {
      "text/plain": [
       "(10147, 27)"
      ]
     },
     "metadata": {},
     "output_type": "display_data"
    },
    {
     "data": {
      "text/plain": [
       "1    5768\n",
       "0    4379\n",
       "Name: Y, dtype: int64"
      ]
     },
     "execution_count": 4,
     "metadata": {},
     "output_type": "execute_result"
    }
   ],
   "source": [
    "display(df_train.shape)\n",
    "df_train.Y.value_counts()\n",
    "\n",
    "# it is found that the distribution of 0 and 1 class balanced"
   ]
  },
  {
   "cell_type": "code",
   "execution_count": 5,
   "metadata": {},
   "outputs": [
    {
     "data": {
      "text/plain": [
       "(2537, 26)"
      ]
     },
     "metadata": {},
     "output_type": "display_data"
    }
   ],
   "source": [
    "display(df_test.shape)\n"
   ]
  },
  {
   "cell_type": "markdown",
   "metadata": {},
   "source": [
    "## Data Quality check"
   ]
  },
  {
   "cell_type": "code",
   "execution_count": 6,
   "metadata": {},
   "outputs": [
    {
     "name": "stdout",
     "output_type": "stream",
     "text": [
      "<class 'pandas.core.frame.DataFrame'>\n",
      "RangeIndex: 10147 entries, 0 to 10146\n",
      "Data columns (total 27 columns):\n",
      " #   Column                Non-Null Count  Dtype \n",
      "---  ------                --------------  ----- \n",
      " 0   customer_id           10147 non-null  int64 \n",
      " 1   destination           10147 non-null  object\n",
      " 2   passanger             10147 non-null  object\n",
      " 3   weather               10147 non-null  object\n",
      " 4   temperature           10147 non-null  int64 \n",
      " 5   time                  10147 non-null  object\n",
      " 6   coupon                10147 non-null  object\n",
      " 7   expiration            10147 non-null  object\n",
      " 8   gender                10147 non-null  object\n",
      " 9   age                   10147 non-null  object\n",
      " 10  maritalStatus         10147 non-null  object\n",
      " 11  has_children          10147 non-null  int64 \n",
      " 12  education             10147 non-null  object\n",
      " 13  occupation            10147 non-null  object\n",
      " 14  income                10147 non-null  object\n",
      " 15  car                   84 non-null     object\n",
      " 16  Bar                   10059 non-null  object\n",
      " 17  CoffeeHouse           9975 non-null   object\n",
      " 18  CarryAway             10025 non-null  object\n",
      " 19  RestaurantLessThan20  10050 non-null  object\n",
      " 20  Restaurant20To50      9999 non-null   object\n",
      " 21  toCoupon_GEQ5min      10147 non-null  int64 \n",
      " 22  toCoupon_GEQ15min     10147 non-null  int64 \n",
      " 23  toCoupon_GEQ25min     10147 non-null  int64 \n",
      " 24  direction_same        10147 non-null  int64 \n",
      " 25  direction_opp         10147 non-null  int64 \n",
      " 26  Y                     10147 non-null  int64 \n",
      "dtypes: int64(9), object(18)\n",
      "memory usage: 2.1+ MB\n"
     ]
    }
   ],
   "source": [
    "df_train.info()\n",
    "\n",
    "# it is found that some of the features have null values. "
   ]
  },
  {
   "cell_type": "code",
   "execution_count": 7,
   "metadata": {},
   "outputs": [
    {
     "data": {
      "text/html": [
       "<div>\n",
       "<style scoped>\n",
       "    .dataframe tbody tr th:only-of-type {\n",
       "        vertical-align: middle;\n",
       "    }\n",
       "\n",
       "    .dataframe tbody tr th {\n",
       "        vertical-align: top;\n",
       "    }\n",
       "\n",
       "    .dataframe thead th {\n",
       "        text-align: right;\n",
       "    }\n",
       "</style>\n",
       "<table border=\"1\" class=\"dataframe\">\n",
       "  <thead>\n",
       "    <tr style=\"text-align: right;\">\n",
       "      <th></th>\n",
       "      <th>customer_id</th>\n",
       "      <th>temperature</th>\n",
       "      <th>has_children</th>\n",
       "      <th>toCoupon_GEQ5min</th>\n",
       "      <th>toCoupon_GEQ15min</th>\n",
       "      <th>toCoupon_GEQ25min</th>\n",
       "      <th>direction_same</th>\n",
       "      <th>direction_opp</th>\n",
       "      <th>Y</th>\n",
       "    </tr>\n",
       "  </thead>\n",
       "  <tbody>\n",
       "    <tr>\n",
       "      <th>count</th>\n",
       "      <td>10147.000000</td>\n",
       "      <td>10147.000000</td>\n",
       "      <td>10147.000000</td>\n",
       "      <td>10147.0</td>\n",
       "      <td>10147.000000</td>\n",
       "      <td>10147.000000</td>\n",
       "      <td>10147.000000</td>\n",
       "      <td>10147.000000</td>\n",
       "      <td>10147.000000</td>\n",
       "    </tr>\n",
       "    <tr>\n",
       "      <th>mean</th>\n",
       "      <td>311272.276831</td>\n",
       "      <td>63.172366</td>\n",
       "      <td>0.412634</td>\n",
       "      <td>1.0</td>\n",
       "      <td>0.563024</td>\n",
       "      <td>0.119838</td>\n",
       "      <td>0.212181</td>\n",
       "      <td>0.787819</td>\n",
       "      <td>0.568444</td>\n",
       "    </tr>\n",
       "    <tr>\n",
       "      <th>std</th>\n",
       "      <td>106781.701016</td>\n",
       "      <td>19.232595</td>\n",
       "      <td>0.492332</td>\n",
       "      <td>0.0</td>\n",
       "      <td>0.496037</td>\n",
       "      <td>0.324788</td>\n",
       "      <td>0.408872</td>\n",
       "      <td>0.408872</td>\n",
       "      <td>0.495318</td>\n",
       "    </tr>\n",
       "    <tr>\n",
       "      <th>min</th>\n",
       "      <td>123472.000000</td>\n",
       "      <td>30.000000</td>\n",
       "      <td>0.000000</td>\n",
       "      <td>1.0</td>\n",
       "      <td>0.000000</td>\n",
       "      <td>0.000000</td>\n",
       "      <td>0.000000</td>\n",
       "      <td>0.000000</td>\n",
       "      <td>0.000000</td>\n",
       "    </tr>\n",
       "    <tr>\n",
       "      <th>25%</th>\n",
       "      <td>221439.000000</td>\n",
       "      <td>55.000000</td>\n",
       "      <td>0.000000</td>\n",
       "      <td>1.0</td>\n",
       "      <td>0.000000</td>\n",
       "      <td>0.000000</td>\n",
       "      <td>0.000000</td>\n",
       "      <td>1.000000</td>\n",
       "      <td>0.000000</td>\n",
       "    </tr>\n",
       "    <tr>\n",
       "      <th>50%</th>\n",
       "      <td>310062.000000</td>\n",
       "      <td>80.000000</td>\n",
       "      <td>0.000000</td>\n",
       "      <td>1.0</td>\n",
       "      <td>1.000000</td>\n",
       "      <td>0.000000</td>\n",
       "      <td>0.000000</td>\n",
       "      <td>1.000000</td>\n",
       "      <td>1.000000</td>\n",
       "    </tr>\n",
       "    <tr>\n",
       "      <th>75%</th>\n",
       "      <td>401537.000000</td>\n",
       "      <td>80.000000</td>\n",
       "      <td>1.000000</td>\n",
       "      <td>1.0</td>\n",
       "      <td>1.000000</td>\n",
       "      <td>0.000000</td>\n",
       "      <td>0.000000</td>\n",
       "      <td>1.000000</td>\n",
       "      <td>1.000000</td>\n",
       "    </tr>\n",
       "    <tr>\n",
       "      <th>max</th>\n",
       "      <td>499988.000000</td>\n",
       "      <td>80.000000</td>\n",
       "      <td>1.000000</td>\n",
       "      <td>1.0</td>\n",
       "      <td>1.000000</td>\n",
       "      <td>1.000000</td>\n",
       "      <td>1.000000</td>\n",
       "      <td>1.000000</td>\n",
       "      <td>1.000000</td>\n",
       "    </tr>\n",
       "  </tbody>\n",
       "</table>\n",
       "</div>"
      ],
      "text/plain": [
       "         customer_id   temperature  has_children  toCoupon_GEQ5min  \\\n",
       "count   10147.000000  10147.000000  10147.000000           10147.0   \n",
       "mean   311272.276831     63.172366      0.412634               1.0   \n",
       "std    106781.701016     19.232595      0.492332               0.0   \n",
       "min    123472.000000     30.000000      0.000000               1.0   \n",
       "25%    221439.000000     55.000000      0.000000               1.0   \n",
       "50%    310062.000000     80.000000      0.000000               1.0   \n",
       "75%    401537.000000     80.000000      1.000000               1.0   \n",
       "max    499988.000000     80.000000      1.000000               1.0   \n",
       "\n",
       "       toCoupon_GEQ15min  toCoupon_GEQ25min  direction_same  direction_opp  \\\n",
       "count       10147.000000       10147.000000    10147.000000   10147.000000   \n",
       "mean            0.563024           0.119838        0.212181       0.787819   \n",
       "std             0.496037           0.324788        0.408872       0.408872   \n",
       "min             0.000000           0.000000        0.000000       0.000000   \n",
       "25%             0.000000           0.000000        0.000000       1.000000   \n",
       "50%             1.000000           0.000000        0.000000       1.000000   \n",
       "75%             1.000000           0.000000        0.000000       1.000000   \n",
       "max             1.000000           1.000000        1.000000       1.000000   \n",
       "\n",
       "                  Y  \n",
       "count  10147.000000  \n",
       "mean       0.568444  \n",
       "std        0.495318  \n",
       "min        0.000000  \n",
       "25%        0.000000  \n",
       "50%        1.000000  \n",
       "75%        1.000000  \n",
       "max        1.000000  "
      ]
     },
     "execution_count": 7,
     "metadata": {},
     "output_type": "execute_result"
    }
   ],
   "source": [
    "df_train.describe()"
   ]
  },
  {
   "cell_type": "code",
   "execution_count": 8,
   "metadata": {},
   "outputs": [
    {
     "name": "stdout",
     "output_type": "stream",
     "text": [
      "Values in Column customer_id:\n",
      "[374679 469678 216140 ... 356159 218541 467387]\n",
      "\n",
      "Values in Column destination:\n",
      "['No Urgent Place' 'Home' 'Work']\n",
      "\n",
      "Values in Column passanger:\n",
      "['Friend(s)' 'Alone' 'Partner' 'Kid(s)']\n",
      "\n",
      "Values in Column weather:\n",
      "['Sunny' 'Rainy' 'Snowy']\n",
      "\n",
      "Values in Column temperature:\n",
      "[80 55 30]\n",
      "\n",
      "Values in Column time:\n",
      "['6PM' '10AM' '7AM' '10PM' '2PM']\n",
      "\n",
      "Values in Column coupon:\n",
      "['Coffee House' 'Carry out & Take away' 'Bar' 'Restaurant(<20)'\n",
      " 'Restaurant(20-50)']\n",
      "\n",
      "Values in Column expiration:\n",
      "['1d' '2h']\n",
      "\n",
      "Values in Column gender:\n",
      "['Female' 'Male']\n",
      "\n",
      "Values in Column age:\n",
      "['below21' '21' '26' '50plus' '46' '31' '36' '41']\n",
      "\n",
      "Values in Column maritalStatus:\n",
      "['Single' 'Unmarried partner' 'Married partner' 'Divorced' 'Widowed']\n",
      "\n",
      "Values in Column has_children:\n",
      "[0 1]\n",
      "\n",
      "Values in Column education:\n",
      "['Some college - no degree' 'High School Graduate' 'Associates degree'\n",
      " 'Bachelors degree' 'Graduate degree (Masters or Doctorate)'\n",
      " 'Some High School']\n",
      "\n",
      "Values in Column occupation:\n",
      "['Healthcare Support' 'Food Preparation & Serving Related' 'Unemployed'\n",
      " 'Retired' 'Office & Administrative Support' 'Protective Service'\n",
      " 'Transportation & Material Moving' 'Business & Financial'\n",
      " 'Computer & Mathematical' 'Life Physical Social Science' 'Student'\n",
      " 'Sales & Related' 'Healthcare Practitioners & Technical' 'Legal'\n",
      " 'Management' 'Community & Social Services'\n",
      " 'Arts Design Entertainment Sports & Media' 'Education&Training&Library'\n",
      " 'Installation Maintenance & Repair' 'Personal Care & Service'\n",
      " 'Construction & Extraction' 'Architecture & Engineering'\n",
      " 'Building & Grounds Cleaning & Maintenance' 'Production Occupations'\n",
      " 'Farming Fishing & Forestry']\n",
      "\n",
      "Values in Column income:\n",
      "['Less than $12500' '$12500 - $24999' '$25000 - $37499' '$50000 - $62499'\n",
      " '$75000 - $87499' '$100000 or More' '$37500 - $49999' '$62500 - $74999'\n",
      " '$87500 - $99999']\n",
      "\n",
      "Values in Column car:\n",
      "[nan 'Scooter and motorcycle' 'crossover' 'Mazda5'\n",
      " 'Car that is too old to install Onstar :D' 'do not drive']\n",
      "\n",
      "Values in Column Bar:\n",
      "['never' '1~3' 'less1' 'gt8' '4~8' nan]\n",
      "\n",
      "Values in Column CoffeeHouse:\n",
      "['1~3' 'never' '4~8' 'gt8' 'less1' nan]\n",
      "\n",
      "Values in Column CarryAway:\n",
      "['less1' 'gt8' '1~3' '4~8' nan 'never']\n",
      "\n",
      "Values in Column RestaurantLessThan20:\n",
      "['4~8' 'less1' '1~3' 'gt8' 'never' nan]\n",
      "\n",
      "Values in Column Restaurant20To50:\n",
      "['less1' '1~3' 'never' '4~8' 'gt8' nan]\n",
      "\n",
      "Values in Column toCoupon_GEQ5min:\n",
      "[1]\n",
      "\n",
      "Values in Column toCoupon_GEQ15min:\n",
      "[0 1]\n",
      "\n",
      "Values in Column toCoupon_GEQ25min:\n",
      "[0 1]\n",
      "\n",
      "Values in Column direction_same:\n",
      "[0 1]\n",
      "\n",
      "Values in Column direction_opp:\n",
      "[1 0]\n",
      "\n"
     ]
    }
   ],
   "source": [
    "# Value Checking of each feature\n",
    "for col in df_test.columns:\n",
    "    print('Values in Column {}:'.format(col))\n",
    "    print(df_test[col].unique())\n",
    "    print()"
   ]
  },
  {
   "cell_type": "code",
   "execution_count": 9,
   "metadata": {},
   "outputs": [
    {
     "data": {
      "text/plain": [
       "Alone        5802\n",
       "Friend(s)    2676\n",
       "Partner       855\n",
       "Kid(s)        814\n",
       "Name: passanger, dtype: int64"
      ]
     },
     "execution_count": 9,
     "metadata": {},
     "output_type": "execute_result"
    }
   ],
   "source": [
    "df_train.passanger.value_counts()"
   ]
  },
  {
   "cell_type": "code",
   "execution_count": 10,
   "metadata": {},
   "outputs": [
    {
     "data": {
      "text/plain": [
       "customer_id                 0\n",
       "destination                 0\n",
       "passanger                   0\n",
       "weather                     0\n",
       "temperature                 0\n",
       "time                        0\n",
       "coupon                      0\n",
       "expiration                  0\n",
       "gender                      0\n",
       "age                         0\n",
       "maritalStatus               0\n",
       "has_children                0\n",
       "education                   0\n",
       "occupation                  0\n",
       "income                      0\n",
       "car                     10063\n",
       "Bar                        88\n",
       "CoffeeHouse               172\n",
       "CarryAway                 122\n",
       "RestaurantLessThan20       97\n",
       "Restaurant20To50          148\n",
       "toCoupon_GEQ5min            0\n",
       "toCoupon_GEQ15min           0\n",
       "toCoupon_GEQ25min           0\n",
       "direction_same              0\n",
       "direction_opp               0\n",
       "Y                           0\n",
       "dtype: int64"
      ]
     },
     "execution_count": 10,
     "metadata": {},
     "output_type": "execute_result"
    }
   ],
   "source": [
    "df_train.isna().sum()"
   ]
  },
  {
   "cell_type": "code",
   "execution_count": 11,
   "metadata": {},
   "outputs": [
    {
     "data": {
      "text/plain": [
       "customer_id                0\n",
       "destination                0\n",
       "passanger                  0\n",
       "weather                    0\n",
       "temperature                0\n",
       "time                       0\n",
       "coupon                     0\n",
       "expiration                 0\n",
       "gender                     0\n",
       "age                        0\n",
       "maritalStatus              0\n",
       "has_children               0\n",
       "education                  0\n",
       "occupation                 0\n",
       "income                     0\n",
       "car                     2513\n",
       "Bar                       19\n",
       "CoffeeHouse               45\n",
       "CarryAway                 29\n",
       "RestaurantLessThan20      33\n",
       "Restaurant20To50          41\n",
       "toCoupon_GEQ5min           0\n",
       "toCoupon_GEQ15min          0\n",
       "toCoupon_GEQ25min          0\n",
       "direction_same             0\n",
       "direction_opp              0\n",
       "dtype: int64"
      ]
     },
     "execution_count": 11,
     "metadata": {},
     "output_type": "execute_result"
    }
   ],
   "source": [
    "df_test.isna().sum()"
   ]
  },
  {
   "cell_type": "code",
   "execution_count": 12,
   "metadata": {},
   "outputs": [],
   "source": [
    "# dropping car feature as is it null\n",
    "\n",
    "df_train.drop(['car'], axis=1, inplace=True)\n",
    "df_test.drop(['car'], axis=1, inplace=True)"
   ]
  },
  {
   "cell_type": "code",
   "execution_count": 13,
   "metadata": {},
   "outputs": [],
   "source": [
    "num_df = df_train.select_dtypes(include = ['int64','float64'])\n",
    "\n",
    "cat_df = df_train.select_dtypes(include = ['object'])\n",
    "\n"
   ]
  },
  {
   "cell_type": "markdown",
   "metadata": {},
   "source": [
    "### Missing Value Imputation"
   ]
  },
  {
   "cell_type": "code",
   "execution_count": 14,
   "metadata": {},
   "outputs": [],
   "source": [
    "# fill null values of train data with mode for categoricals\n",
    "\n",
    "df_train['Bar'] = df_train['Bar'].fillna(df_train['Bar'].mode()[0])\n",
    "df_train['CoffeeHouse'] = df_train['CoffeeHouse'].fillna(df_train['CoffeeHouse'].mode()[0])\n",
    "df_train['CarryAway'] = df_train['CarryAway'].fillna(df_train['CarryAway'].mode()[0])\n",
    "df_train['RestaurantLessThan20'] = df_train['RestaurantLessThan20'].fillna(df_train['RestaurantLessThan20'].mode()[0])\n",
    "df_train['Restaurant20To50'] = df_train['Restaurant20To50'].fillna(df_train['Restaurant20To50'].mode()[0])\n",
    "\n",
    "# test data\n",
    "df_test['Bar'] = df_test['Bar'].fillna(df_test['Bar'].mode()[0])\n",
    "df_test['CoffeeHouse'] = df_test['CoffeeHouse'].fillna(df_test['CoffeeHouse'].mode()[0])\n",
    "df_test['CarryAway'] = df_test['CarryAway'].fillna(df_test['CarryAway'].mode()[0])\n",
    "df_test['RestaurantLessThan20'] = df_test['RestaurantLessThan20'].fillna(df_test['RestaurantLessThan20'].mode()[0])\n",
    "df_test['Restaurant20To50'] = df_test['Restaurant20To50'].fillna(df_test['Restaurant20To50'].mode()[0])\n",
    "\n"
   ]
  },
  {
   "cell_type": "code",
   "execution_count": 15,
   "metadata": {},
   "outputs": [
    {
     "data": {
      "text/plain": [
       "customer_id             0\n",
       "destination             0\n",
       "passanger               0\n",
       "weather                 0\n",
       "temperature             0\n",
       "time                    0\n",
       "coupon                  0\n",
       "expiration              0\n",
       "gender                  0\n",
       "age                     0\n",
       "maritalStatus           0\n",
       "has_children            0\n",
       "education               0\n",
       "occupation              0\n",
       "income                  0\n",
       "Bar                     0\n",
       "CoffeeHouse             0\n",
       "CarryAway               0\n",
       "RestaurantLessThan20    0\n",
       "Restaurant20To50        0\n",
       "toCoupon_GEQ5min        0\n",
       "toCoupon_GEQ15min       0\n",
       "toCoupon_GEQ25min       0\n",
       "direction_same          0\n",
       "direction_opp           0\n",
       "Y                       0\n",
       "dtype: int64"
      ]
     },
     "execution_count": 15,
     "metadata": {},
     "output_type": "execute_result"
    }
   ],
   "source": [
    "df_train.isna().sum()"
   ]
  },
  {
   "cell_type": "code",
   "execution_count": 16,
   "metadata": {},
   "outputs": [
    {
     "data": {
      "text/plain": [
       "customer_id             0\n",
       "destination             0\n",
       "passanger               0\n",
       "weather                 0\n",
       "temperature             0\n",
       "time                    0\n",
       "coupon                  0\n",
       "expiration              0\n",
       "gender                  0\n",
       "age                     0\n",
       "maritalStatus           0\n",
       "has_children            0\n",
       "education               0\n",
       "occupation              0\n",
       "income                  0\n",
       "Bar                     0\n",
       "CoffeeHouse             0\n",
       "CarryAway               0\n",
       "RestaurantLessThan20    0\n",
       "Restaurant20To50        0\n",
       "toCoupon_GEQ5min        0\n",
       "toCoupon_GEQ15min       0\n",
       "toCoupon_GEQ25min       0\n",
       "direction_same          0\n",
       "direction_opp           0\n",
       "dtype: int64"
      ]
     },
     "execution_count": 16,
     "metadata": {},
     "output_type": "execute_result"
    }
   ],
   "source": [
    "df_test.isna().sum()"
   ]
  },
  {
   "cell_type": "code",
   "execution_count": 17,
   "metadata": {},
   "outputs": [],
   "source": [
    "cat_df = df_train.select_dtypes(include = ['object'])\n"
   ]
  },
  {
   "cell_type": "code",
   "execution_count": 18,
   "metadata": {},
   "outputs": [
    {
     "data": {
      "image/png": "[encoded data removed]",
      "text/plain": [
       "<Figure size 1800x1800 with 17 Axes>"
      ]
     },
     "metadata": {},
     "output_type": "display_data"
    }
   ],
   "source": [
    "plot_categoricals = cat_df\n",
    "count = 1\n",
    "fig, axes = plt.subplots(2,2, figsize=(25,25), sharex=True, sharey=True)\n",
    "for col in plot_categoricals:\n",
    "    ax1 = plt.subplot(6,3, count )\n",
    "    \n",
    "    sns.countplot(x=col, data=df_train, ax=ax1, hue='Y')\n",
    "    count += 1\n",
    "plt.show()"
   ]
  },
  {
   "cell_type": "code",
   "execution_count": 19,
   "metadata": {},
   "outputs": [],
   "source": [
    "# value is 1. Hence dropping the column\n",
    "df_train.drop(['toCoupon_GEQ5min'], axis=1, inplace=True)\n",
    "df_test.drop(['toCoupon_GEQ5min'], axis=1, inplace=True)\n"
   ]
  },
  {
   "cell_type": "code",
   "execution_count": 20,
   "metadata": {},
   "outputs": [],
   "source": [
    "df_distance = df_train.copy()\n",
    "\n",
    "df_distance['distance'] = None\n",
    "df_distance.loc[df_distance['toCoupon_GEQ15min'] == 0, 'distance'] = 0\n",
    "\n",
    "df_distance.loc[(df_distance['toCoupon_GEQ15min'] == 1) & \\\n",
    "             (df_distance['toCoupon_GEQ25min'] == 0), 'distance'] = 1\n",
    "             \n",
    "df_distance.loc[df_distance['toCoupon_GEQ25min'] == 1, 'distance'] = 2\n",
    "#df_train.distance.isna().sum()\n",
    "\n",
    "\n",
    "df_distance.distance = df_distance.distance.astype('int64')\n",
    "#df_train.distance.unique()\n",
    "\n",
    "df_distance.distance.value_counts()\n",
    "df_distance.drop(columns=['toCoupon_GEQ15min', 'toCoupon_GEQ25min'], inplace=True)\n"
   ]
  },
  {
   "cell_type": "code",
   "execution_count": 21,
   "metadata": {},
   "outputs": [
    {
     "data": {
      "image/png": "[encoded data removed]",
      "text/plain": [
       "<Figure size 720x360 with 2 Axes>"
      ]
     },
     "metadata": {},
     "output_type": "display_data"
    }
   ],
   "source": [
    "\n",
    "fig, axes = plt.subplots(1, 2, figsize=(10, 5))\n",
    "axes = axes.flatten()\n",
    "\n",
    "for ax, col in zip(axes, ['distance', 'temperature']):\n",
    "    sns.countplot(x=col, hue='Y', data=df_distance, \n",
    "                  ax=ax);\n",
    "\n",
    "plt.tight_layout()\n",
    "plt.show()"
   ]
  },
  {
   "cell_type": "code",
   "execution_count": null,
   "metadata": {},
   "outputs": [],
   "source": []
  },
  {
   "cell_type": "code",
   "execution_count": null,
   "metadata": {},
   "outputs": [],
   "source": []
  },
  {
   "cell_type": "code",
   "execution_count": 22,
   "metadata": {},
   "outputs": [
    {
     "data": {
      "text/plain": [
       "Index(['customer_id', 'destination', 'passanger', 'weather', 'temperature',\n",
       "       'time', 'coupon', 'expiration', 'gender', 'age', 'maritalStatus',\n",
       "       'has_children', 'education', 'occupation', 'income', 'Bar',\n",
       "       'CoffeeHouse', 'CarryAway', 'RestaurantLessThan20', 'Restaurant20To50',\n",
       "       'toCoupon_GEQ15min', 'toCoupon_GEQ25min', 'direction_same',\n",
       "       'direction_opp'],\n",
       "      dtype='object')"
      ]
     },
     "execution_count": 22,
     "metadata": {},
     "output_type": "execute_result"
    }
   ],
   "source": [
    "cols = df_train.drop(['Y'], axis=1).columns\n",
    "cols"
   ]
  },
  {
   "cell_type": "code",
   "execution_count": 23,
   "metadata": {},
   "outputs": [
    {
     "data": {
      "text/plain": [
       "<AxesSubplot:>"
      ]
     },
     "execution_count": 23,
     "metadata": {},
     "output_type": "execute_result"
    },
    {
     "data": {
      "image/png": "[encoded data removed]",
      "text/plain": [
       "<Figure size 1490.4x595.44 with 2 Axes>"
      ]
     },
     "metadata": {},
     "output_type": "display_data"
    }
   ],
   "source": [
    "sns.heatmap(df_train[cols].corr(), annot=True)"
   ]
  },
  {
   "cell_type": "code",
   "execution_count": 24,
   "metadata": {},
   "outputs": [],
   "source": [
    "# direction_same and direction_opp are negatively correlated\n",
    "# we can remove one of them\n",
    "\n",
    "#df_train.drop('direction_opp', axis=1, inplace=True)"
   ]
  },
  {
   "cell_type": "code",
   "execution_count": null,
   "metadata": {},
   "outputs": [],
   "source": []
  },
  {
   "cell_type": "markdown",
   "metadata": {},
   "source": [
    "### Label / One Hot Encoding for the Categorical Features"
   ]
  },
  {
   "cell_type": "code",
   "execution_count": 25,
   "metadata": {},
   "outputs": [
    {
     "data": {
      "text/plain": [
       "Index(['customer_id', 'temperature', 'has_children', 'toCoupon_GEQ15min',\n",
       "       'toCoupon_GEQ25min', 'direction_same', 'direction_opp', 'Y'],\n",
       "      dtype='object')"
      ]
     },
     "execution_count": 25,
     "metadata": {},
     "output_type": "execute_result"
    }
   ],
   "source": [
    "num_df = df_train.select_dtypes(include = ['int64','float64'])\n",
    "num_df.columns"
   ]
  },
  {
   "cell_type": "code",
   "execution_count": 26,
   "metadata": {},
   "outputs": [
    {
     "data": {
      "image/png": "[encoded data removed]",
      "text/plain": [
       "<Figure size 576x360 with 1 Axes>"
      ]
     },
     "metadata": {},
     "output_type": "display_data"
    }
   ],
   "source": [
    "fig, axes = plt.subplots(1,1, figsize=(8,5), sharex=True, sharey=True)\n",
    "\n",
    "\n",
    "sns.countplot(x='occupation', data=df_train, order=df_train['occupation'].value_counts().index)\n",
    "plt.xticks(rotation=90);"
   ]
  },
  {
   "cell_type": "code",
   "execution_count": 27,
   "metadata": {},
   "outputs": [],
   "source": [
    "others = ['Student' ,'Unemployed' ,'Retired' ]\n",
    "\n",
    "# all other occupation will be termed as employed\n",
    "# label encoding values as\n",
    "# Student = 0\n",
    "# UnEmployed = 1\n",
    "# Retired = 3\n",
    "# All others are considered as Employed and assigned a value of 2\n",
    "\n",
    "def occpn_employed(occupation):\n",
    "    #display(occupation)\n",
    "    if occupation not in others:\n",
    "        \n",
    "        return 2\n",
    "    elif occupation == 'Student':\n",
    "        return 0\n",
    "    elif occupation == 'Unemployed':\n",
    "        return 1\n",
    "    else :\n",
    "        return 3"
   ]
  },
  {
   "cell_type": "code",
   "execution_count": 28,
   "metadata": {},
   "outputs": [
    {
     "data": {
      "text/html": [
       "<div>\n",
       "<style scoped>\n",
       "    .dataframe tbody tr th:only-of-type {\n",
       "        vertical-align: middle;\n",
       "    }\n",
       "\n",
       "    .dataframe tbody tr th {\n",
       "        vertical-align: top;\n",
       "    }\n",
       "\n",
       "    .dataframe thead th {\n",
       "        text-align: right;\n",
       "    }\n",
       "</style>\n",
       "<table border=\"1\" class=\"dataframe\">\n",
       "  <thead>\n",
       "    <tr style=\"text-align: right;\">\n",
       "      <th></th>\n",
       "      <th>customer_id</th>\n",
       "      <th>destination</th>\n",
       "      <th>passanger</th>\n",
       "      <th>weather</th>\n",
       "      <th>temperature</th>\n",
       "      <th>time</th>\n",
       "      <th>coupon</th>\n",
       "      <th>expiration</th>\n",
       "      <th>gender</th>\n",
       "      <th>age</th>\n",
       "      <th>...</th>\n",
       "      <th>income</th>\n",
       "      <th>Bar</th>\n",
       "      <th>CoffeeHouse</th>\n",
       "      <th>CarryAway</th>\n",
       "      <th>RestaurantLessThan20</th>\n",
       "      <th>Restaurant20To50</th>\n",
       "      <th>toCoupon_GEQ15min</th>\n",
       "      <th>toCoupon_GEQ25min</th>\n",
       "      <th>direction_same</th>\n",
       "      <th>direction_opp</th>\n",
       "    </tr>\n",
       "  </thead>\n",
       "  <tbody>\n",
       "    <tr>\n",
       "      <th>0</th>\n",
       "      <td>374679</td>\n",
       "      <td>No Urgent Place</td>\n",
       "      <td>Friend(s)</td>\n",
       "      <td>Sunny</td>\n",
       "      <td>80</td>\n",
       "      <td>6PM</td>\n",
       "      <td>Coffee House</td>\n",
       "      <td>1d</td>\n",
       "      <td>Female</td>\n",
       "      <td>below21</td>\n",
       "      <td>...</td>\n",
       "      <td>Less than $12500</td>\n",
       "      <td>never</td>\n",
       "      <td>1~3</td>\n",
       "      <td>less1</td>\n",
       "      <td>4~8</td>\n",
       "      <td>less1</td>\n",
       "      <td>0</td>\n",
       "      <td>0</td>\n",
       "      <td>0</td>\n",
       "      <td>1</td>\n",
       "    </tr>\n",
       "    <tr>\n",
       "      <th>1</th>\n",
       "      <td>469678</td>\n",
       "      <td>Home</td>\n",
       "      <td>Alone</td>\n",
       "      <td>Sunny</td>\n",
       "      <td>80</td>\n",
       "      <td>6PM</td>\n",
       "      <td>Carry out &amp; Take away</td>\n",
       "      <td>2h</td>\n",
       "      <td>Male</td>\n",
       "      <td>21</td>\n",
       "      <td>...</td>\n",
       "      <td>$12500 - $24999</td>\n",
       "      <td>1~3</td>\n",
       "      <td>never</td>\n",
       "      <td>gt8</td>\n",
       "      <td>4~8</td>\n",
       "      <td>1~3</td>\n",
       "      <td>1</td>\n",
       "      <td>0</td>\n",
       "      <td>1</td>\n",
       "      <td>0</td>\n",
       "    </tr>\n",
       "    <tr>\n",
       "      <th>2</th>\n",
       "      <td>216140</td>\n",
       "      <td>No Urgent Place</td>\n",
       "      <td>Alone</td>\n",
       "      <td>Rainy</td>\n",
       "      <td>55</td>\n",
       "      <td>10AM</td>\n",
       "      <td>Coffee House</td>\n",
       "      <td>1d</td>\n",
       "      <td>Female</td>\n",
       "      <td>26</td>\n",
       "      <td>...</td>\n",
       "      <td>$25000 - $37499</td>\n",
       "      <td>never</td>\n",
       "      <td>never</td>\n",
       "      <td>1~3</td>\n",
       "      <td>less1</td>\n",
       "      <td>never</td>\n",
       "      <td>1</td>\n",
       "      <td>0</td>\n",
       "      <td>0</td>\n",
       "      <td>1</td>\n",
       "    </tr>\n",
       "    <tr>\n",
       "      <th>3</th>\n",
       "      <td>184301</td>\n",
       "      <td>No Urgent Place</td>\n",
       "      <td>Partner</td>\n",
       "      <td>Sunny</td>\n",
       "      <td>80</td>\n",
       "      <td>6PM</td>\n",
       "      <td>Bar</td>\n",
       "      <td>1d</td>\n",
       "      <td>Male</td>\n",
       "      <td>50plus</td>\n",
       "      <td>...</td>\n",
       "      <td>$50000 - $62499</td>\n",
       "      <td>never</td>\n",
       "      <td>4~8</td>\n",
       "      <td>4~8</td>\n",
       "      <td>1~3</td>\n",
       "      <td>less1</td>\n",
       "      <td>1</td>\n",
       "      <td>0</td>\n",
       "      <td>0</td>\n",
       "      <td>1</td>\n",
       "    </tr>\n",
       "    <tr>\n",
       "      <th>4</th>\n",
       "      <td>148720</td>\n",
       "      <td>Work</td>\n",
       "      <td>Alone</td>\n",
       "      <td>Sunny</td>\n",
       "      <td>30</td>\n",
       "      <td>7AM</td>\n",
       "      <td>Carry out &amp; Take away</td>\n",
       "      <td>1d</td>\n",
       "      <td>Female</td>\n",
       "      <td>26</td>\n",
       "      <td>...</td>\n",
       "      <td>$75000 - $87499</td>\n",
       "      <td>never</td>\n",
       "      <td>never</td>\n",
       "      <td>1~3</td>\n",
       "      <td>4~8</td>\n",
       "      <td>less1</td>\n",
       "      <td>1</td>\n",
       "      <td>0</td>\n",
       "      <td>0</td>\n",
       "      <td>1</td>\n",
       "    </tr>\n",
       "  </tbody>\n",
       "</table>\n",
       "<p>5 rows × 24 columns</p>\n",
       "</div>"
      ],
      "text/plain": [
       "   customer_id      destination  passanger weather  temperature  time  \\\n",
       "0       374679  No Urgent Place  Friend(s)   Sunny           80   6PM   \n",
       "1       469678             Home      Alone   Sunny           80   6PM   \n",
       "2       216140  No Urgent Place      Alone   Rainy           55  10AM   \n",
       "3       184301  No Urgent Place    Partner   Sunny           80   6PM   \n",
       "4       148720             Work      Alone   Sunny           30   7AM   \n",
       "\n",
       "                  coupon expiration  gender      age  ...            income  \\\n",
       "0           Coffee House         1d  Female  below21  ...  Less than $12500   \n",
       "1  Carry out & Take away         2h    Male       21  ...   $12500 - $24999   \n",
       "2           Coffee House         1d  Female       26  ...   $25000 - $37499   \n",
       "3                    Bar         1d    Male   50plus  ...   $50000 - $62499   \n",
       "4  Carry out & Take away         1d  Female       26  ...   $75000 - $87499   \n",
       "\n",
       "     Bar CoffeeHouse  CarryAway RestaurantLessThan20 Restaurant20To50  \\\n",
       "0  never         1~3      less1                  4~8            less1   \n",
       "1    1~3       never        gt8                  4~8              1~3   \n",
       "2  never       never        1~3                less1            never   \n",
       "3  never         4~8        4~8                  1~3            less1   \n",
       "4  never       never        1~3                  4~8            less1   \n",
       "\n",
       "  toCoupon_GEQ15min toCoupon_GEQ25min direction_same direction_opp  \n",
       "0                 0                 0              0             1  \n",
       "1                 1                 0              1             0  \n",
       "2                 1                 0              0             1  \n",
       "3                 1                 0              0             1  \n",
       "4                 1                 0              0             1  \n",
       "\n",
       "[5 rows x 24 columns]"
      ]
     },
     "execution_count": 28,
     "metadata": {},
     "output_type": "execute_result"
    }
   ],
   "source": [
    "# train Data\n",
    "df_train['occupation'] = df_train['occupation'].apply(occpn_employed)\n",
    "df_train.head()\n",
    "\n",
    "# test data\n",
    "df_test['occupation'] = df_test['occupation'].apply(occpn_employed)\n",
    "df_test.head()\n",
    "\n"
   ]
  },
  {
   "cell_type": "code",
   "execution_count": 29,
   "metadata": {},
   "outputs": [],
   "source": [
    "# Label encoding of categoricals \n",
    "\n",
    "\n",
    "# train data\n",
    "df_dest = pd.get_dummies(df_train['destination'], prefix='dest')\n",
    "df_pass = pd.get_dummies(df_train['passanger'], prefix='pass')\n",
    "df_weather = pd.get_dummies(df_train['weather'], prefix='weather')\n",
    "df_coupon = pd.get_dummies(df_train['coupon'], prefix='coupon')\n",
    "df_gender = pd.get_dummies(df_train['gender'], prefix='gender')\n",
    "df_mar = pd.get_dummies(df_train['maritalStatus'], prefix='mar')\n",
    "\n",
    "new_features = pd.DataFrame()\n",
    "new_features = pd.concat((new_features, df_dest), axis=1)\n",
    "new_features = pd.concat((new_features, df_pass), axis=1)\n",
    "new_features = pd.concat((new_features, df_weather), axis=1)\n",
    "new_features = pd.concat((new_features, df_coupon), axis=1)\n",
    "new_features = pd.concat((new_features, df_gender), axis=1)\n",
    "new_features = pd.concat((new_features, df_mar), axis=1)"
   ]
  },
  {
   "cell_type": "code",
   "execution_count": 30,
   "metadata": {},
   "outputs": [],
   "source": [
    "# concat columns from new features to the pre_process_data if the columns dont already exist.\n",
    "# if they exist, drop them and add \n",
    "\n",
    "for new_col in new_features.columns:\n",
    "    if new_col in df_train.columns:\n",
    "        df_train.drop(new_col, axis=1, inplace=True)\n",
    "        \n",
    "df_train = pd.concat((df_train, new_features), axis=1)    \n",
    "\n",
    "df_train.drop(['destination', 'passanger', \n",
    "                       'weather', 'coupon', 'gender', 'maritalStatus']  , axis=1, inplace=True)\n"
   ]
  },
  {
   "cell_type": "code",
   "execution_count": 31,
   "metadata": {},
   "outputs": [
    {
     "data": {
      "text/plain": [
       "Index(['customer_id', 'temperature', 'time', 'expiration', 'age',\n",
       "       'has_children', 'education', 'occupation', 'income', 'Bar',\n",
       "       'CoffeeHouse', 'CarryAway', 'RestaurantLessThan20', 'Restaurant20To50',\n",
       "       'toCoupon_GEQ15min', 'toCoupon_GEQ25min', 'direction_same',\n",
       "       'direction_opp', 'Y', 'dest_Home', 'dest_No Urgent Place', 'dest_Work',\n",
       "       'pass_Alone', 'pass_Friend(s)', 'pass_Kid(s)', 'pass_Partner',\n",
       "       'weather_Rainy', 'weather_Snowy', 'weather_Sunny', 'coupon_Bar',\n",
       "       'coupon_Carry out & Take away', 'coupon_Coffee House',\n",
       "       'coupon_Restaurant(20-50)', 'coupon_Restaurant(<20)', 'gender_Female',\n",
       "       'gender_Male', 'mar_Divorced', 'mar_Married partner', 'mar_Single',\n",
       "       'mar_Unmarried partner', 'mar_Widowed'],\n",
       "      dtype='object')"
      ]
     },
     "execution_count": 31,
     "metadata": {},
     "output_type": "execute_result"
    }
   ],
   "source": [
    "df_train.columns"
   ]
  },
  {
   "cell_type": "code",
   "execution_count": 32,
   "metadata": {},
   "outputs": [],
   "source": [
    "# Label encoding of categoricals \n",
    "\n",
    "# test data\n",
    "df_dest = pd.get_dummies(df_test['destination'], prefix='dest')\n",
    "df_pass = pd.get_dummies(df_test['passanger'], prefix='pass')\n",
    "df_weather = pd.get_dummies(df_test['weather'], prefix='weather')\n",
    "df_coupon = pd.get_dummies(df_test['coupon'], prefix='coupon')\n",
    "df_gender = pd.get_dummies(df_test['gender'], prefix='gender')\n",
    "df_mar = pd.get_dummies(df_test['maritalStatus'], prefix='mar')\n",
    "\n",
    "new_features = pd.DataFrame()\n",
    "new_features = pd.concat((new_features, df_dest), axis=1)\n",
    "new_features = pd.concat((new_features, df_pass), axis=1)\n",
    "new_features = pd.concat((new_features, df_weather), axis=1)\n",
    "new_features = pd.concat((new_features, df_coupon), axis=1)\n",
    "new_features = pd.concat((new_features, df_gender), axis=1)\n",
    "new_features = pd.concat((new_features, df_mar), axis=1)"
   ]
  },
  {
   "cell_type": "code",
   "execution_count": 33,
   "metadata": {},
   "outputs": [],
   "source": [
    "for new_col in new_features.columns:\n",
    "    if new_col in df_test.columns:\n",
    "            df_test.drop(new_col, axis=1, inplace=True)\n",
    "        \n",
    "        \n",
    "df_test = pd.concat((df_test, new_features), axis=1)  \n",
    "\n",
    "df_test.drop(['destination', 'passanger', \n",
    "                       'weather', 'coupon', 'gender', 'maritalStatus']  , axis=1, inplace=True)"
   ]
  },
  {
   "cell_type": "code",
   "execution_count": 34,
   "metadata": {},
   "outputs": [
    {
     "data": {
      "text/plain": [
       "Index(['customer_id', 'temperature', 'time', 'expiration', 'age',\n",
       "       'has_children', 'education', 'occupation', 'income', 'Bar',\n",
       "       'CoffeeHouse', 'CarryAway', 'RestaurantLessThan20', 'Restaurant20To50',\n",
       "       'toCoupon_GEQ15min', 'toCoupon_GEQ25min', 'direction_same',\n",
       "       'direction_opp', 'dest_Home', 'dest_No Urgent Place', 'dest_Work',\n",
       "       'pass_Alone', 'pass_Friend(s)', 'pass_Kid(s)', 'pass_Partner',\n",
       "       'weather_Rainy', 'weather_Snowy', 'weather_Sunny', 'coupon_Bar',\n",
       "       'coupon_Carry out & Take away', 'coupon_Coffee House',\n",
       "       'coupon_Restaurant(20-50)', 'coupon_Restaurant(<20)', 'gender_Female',\n",
       "       'gender_Male', 'mar_Divorced', 'mar_Married partner', 'mar_Single',\n",
       "       'mar_Unmarried partner', 'mar_Widowed'],\n",
       "      dtype='object')"
      ]
     },
     "execution_count": 34,
     "metadata": {},
     "output_type": "execute_result"
    }
   ],
   "source": [
    "df_test.columns"
   ]
  },
  {
   "cell_type": "code",
   "execution_count": 35,
   "metadata": {},
   "outputs": [],
   "source": [
    "#train data\n",
    "\n",
    "df_train['age'] = df_train['age'].replace('50plus', '51').replace('below21', '20')\n",
    "df_train['age'].value_counts()\n",
    "\n",
    "# test data\n",
    "df_test['age'] = df_test['age'].replace('50plus', '51').replace('below21', '20')\n"
   ]
  },
  {
   "cell_type": "code",
   "execution_count": 36,
   "metadata": {},
   "outputs": [],
   "source": [
    "df_train['age'] = df_train['age'].astype('int64')\n",
    "df_test['age'] = df_test['age'].astype('int64')\n"
   ]
  },
  {
   "cell_type": "code",
   "execution_count": 37,
   "metadata": {},
   "outputs": [
    {
     "data": {
      "text/plain": [
       "array([21, 26, 31, 51, 36, 41, 46, 20])"
      ]
     },
     "execution_count": 37,
     "metadata": {},
     "output_type": "execute_result"
    }
   ],
   "source": [
    "# create bins\n",
    "df_train['age'].unique()"
   ]
  },
  {
   "cell_type": "code",
   "execution_count": 38,
   "metadata": {},
   "outputs": [
    {
     "data": {
      "text/plain": [
       "<Figure size 576x288 with 0 Axes>"
      ]
     },
     "metadata": {},
     "output_type": "display_data"
    },
    {
     "data": {
      "image/png": "[encoded data removed]",
      "text/plain": [
       "<Figure size 360x360 with 1 Axes>"
      ]
     },
     "metadata": {},
     "output_type": "display_data"
    }
   ],
   "source": [
    "plt.figure(figsize=(8,4))\n",
    "sns.displot(x='age', data=df_train)\n",
    "\n",
    "plt.show()"
   ]
  },
  {
   "cell_type": "code",
   "execution_count": 39,
   "metadata": {},
   "outputs": [],
   "source": [
    "bins = [0,20,35,50, 100]\n",
    "labels = [0,1,2,3]\n",
    "df_train['age'] = pd.cut(df_train.age, bins=bins, labels=labels, include_lowest=True)\n",
    "df_test['age'] = pd.cut(df_test.age, bins=bins, labels=labels, include_lowest=True)"
   ]
  },
  {
   "cell_type": "code",
   "execution_count": 40,
   "metadata": {},
   "outputs": [],
   "source": [
    "df_train['age'] = df_train['age'].astype('int64')\n",
    "df_test['age']  = df_test['age'].astype('int64')"
   ]
  },
  {
   "cell_type": "code",
   "execution_count": 41,
   "metadata": {},
   "outputs": [],
   "source": [
    "# label encoding of Education \n",
    "\n",
    "replacer= {\"education\":{\"Some High School\": 1, \n",
    "                    \"High School Graduate\": 2,\n",
    "                    \"Some college - no degree\": 3,\n",
    "                    \"Associates degree\": 4,\n",
    "                    \"Bachelors degree\": 5,\n",
    "                    \"Graduate degree (Masters or Doctorate)\": 6,\n",
    "          }}\n",
    "df_train = df_train.replace(replacer)\n",
    "df_test = df_test.replace(replacer)\n",
    "\n"
   ]
  },
  {
   "cell_type": "code",
   "execution_count": 42,
   "metadata": {},
   "outputs": [],
   "source": [
    "# bar\n",
    "\n",
    "# label encoding of bar \n",
    "\n",
    "replacer= {\"Bar\":{\"never\": 1, \n",
    "                    \"less1\": 2,\n",
    "                    \"1~3\": 3,\n",
    "                    \"4~8\": 4,\n",
    "                    \"gt8\": 5\n",
    "          }}\n",
    "df_train = df_train.replace(replacer)\n",
    "df_test = df_test.replace(replacer)\n",
    "\n"
   ]
  },
  {
   "cell_type": "code",
   "execution_count": 43,
   "metadata": {},
   "outputs": [],
   "source": [
    "\n",
    "replacer= {\"CoffeeHouse\":{\"never\": 1, \n",
    "                    \"less1\": 2,\n",
    "                    \"1~3\": 3,\n",
    "                    \"4~8\": 4,\n",
    "                    \"gt8\": 5\n",
    "          }}\n",
    "df_train = df_train.replace(replacer)\n",
    "df_test = df_test.replace(replacer)\n",
    "\n"
   ]
  },
  {
   "cell_type": "code",
   "execution_count": 44,
   "metadata": {},
   "outputs": [],
   "source": [
    "\n",
    "replacer= {\"CarryAway\":{\"never\": 1, \n",
    "                    \"less1\": 2,\n",
    "                    \"1~3\": 3,\n",
    "                    \"4~8\": 4,\n",
    "                    \"gt8\": 5\n",
    "          }}\n",
    "df_train = df_train.replace(replacer)\n",
    "df_test = df_test.replace(replacer)\n",
    "\n"
   ]
  },
  {
   "cell_type": "code",
   "execution_count": 45,
   "metadata": {},
   "outputs": [],
   "source": [
    "\n",
    "replacer= {\"RestaurantLessThan20\":{\"never\": 1, \n",
    "                    \"less1\": 2,\n",
    "                    \"1~3\": 3,\n",
    "                    \"4~8\": 4,\n",
    "                    \"gt8\": 5\n",
    "          }}\n",
    "df_train = df_train.replace(replacer)\n",
    "df_test = df_test.replace(replacer)\n",
    "\n"
   ]
  },
  {
   "cell_type": "code",
   "execution_count": 46,
   "metadata": {},
   "outputs": [],
   "source": [
    "\n",
    "replacer= {\"Restaurant20To50\":{\"never\": 1, \n",
    "                    \"less1\": 2,\n",
    "                    \"1~3\": 3,\n",
    "                    \"4~8\": 4,\n",
    "                    \"gt8\": 5\n",
    "          }}\n",
    "df_train = df_train.replace(replacer)\n",
    "df_test = df_test.replace(replacer)\n"
   ]
  },
  {
   "cell_type": "code",
   "execution_count": 47,
   "metadata": {},
   "outputs": [
    {
     "data": {
      "image/png": "[encoded data removed]",
      "text/plain": [
       "<Figure size 576x360 with 1 Axes>"
      ]
     },
     "metadata": {},
     "output_type": "display_data"
    }
   ],
   "source": [
    "fig, axes = plt.subplots(1,1, figsize=(8,5), sharex=True, sharey=True)\n",
    "\n",
    "df_train[\"time\"].value_counts().plot(kind='bar')\n",
    "#sns.countplot(x='occupation', data=df_train, ax=axes)\n",
    "plt.xticks(rotation=90);"
   ]
  },
  {
   "cell_type": "code",
   "execution_count": 48,
   "metadata": {},
   "outputs": [],
   "source": [
    "\n",
    "\n",
    "replacer= {\"time\":{\"7AM\": 1, \n",
    "                    \"10AM\": 2,\n",
    "                    \"2PM\": 3,\n",
    "                    \"6PM\": 4,\n",
    "                    \"10PM\": 5\n",
    "          }}\n",
    "df_train = df_train.replace(replacer)\n",
    "df_test = df_test.replace(replacer)\n"
   ]
  },
  {
   "cell_type": "code",
   "execution_count": 49,
   "metadata": {},
   "outputs": [],
   "source": [
    "\n",
    "replacer= {\"expiration\":{\"1d\": 1, \n",
    "                    \"2h\": 2\n",
    "\n",
    "          }}\n",
    "df_train = df_train.replace(replacer)\n",
    "df_test = df_test.replace(replacer)\n"
   ]
  },
  {
   "cell_type": "code",
   "execution_count": 50,
   "metadata": {},
   "outputs": [
    {
     "data": {
      "text/plain": [
       "array(['Less than $12500', '$37500 - $49999', '$25000 - $37499',\n",
       "       '$12500 - $24999', '$50000 - $62499', '$62500 - $74999',\n",
       "       '$87500 - $99999', '$100000 or More', '$75000 - $87499'],\n",
       "      dtype=object)"
      ]
     },
     "execution_count": 50,
     "metadata": {},
     "output_type": "execute_result"
    }
   ],
   "source": [
    "df_train['income'].unique()"
   ]
  },
  {
   "cell_type": "code",
   "execution_count": 51,
   "metadata": {},
   "outputs": [],
   "source": [
    "\n",
    "replacer= {\"income\":{\"Less than $12500\": 1, \n",
    "                    \"$12500 - $24999\": 2,\n",
    "                    \"$25000 - $37499\": 3,\n",
    "                    \"$37500 - $49999\": 4,\n",
    "                    \"$50000 - $62499\": 5,\n",
    "                    \"$62500 - $74999\": 6,\n",
    "                    \"$75000 - $87499\": 7,\n",
    "                    \"$87500 - $99999\": 8,\n",
    "                    \"$100000 or More\": 9,\n",
    "                     \n",
    "                     \n",
    "          }}\n",
    "df_train = df_train.replace(replacer)\n",
    "df_test = df_test.replace(replacer)\n"
   ]
  },
  {
   "cell_type": "code",
   "execution_count": 52,
   "metadata": {},
   "outputs": [
    {
     "name": "stdout",
     "output_type": "stream",
     "text": [
      "<class 'pandas.core.frame.DataFrame'>\n",
      "RangeIndex: 10147 entries, 0 to 10146\n",
      "Data columns (total 41 columns):\n",
      " #   Column                        Non-Null Count  Dtype\n",
      "---  ------                        --------------  -----\n",
      " 0   customer_id                   10147 non-null  int64\n",
      " 1   temperature                   10147 non-null  int64\n",
      " 2   time                          10147 non-null  int64\n",
      " 3   expiration                    10147 non-null  int64\n",
      " 4   age                           10147 non-null  int64\n",
      " 5   has_children                  10147 non-null  int64\n",
      " 6   education                     10147 non-null  int64\n",
      " 7   occupation                    10147 non-null  int64\n",
      " 8   income                        10147 non-null  int64\n",
      " 9   Bar                           10147 non-null  int64\n",
      " 10  CoffeeHouse                   10147 non-null  int64\n",
      " 11  CarryAway                     10147 non-null  int64\n",
      " 12  RestaurantLessThan20          10147 non-null  int64\n",
      " 13  Restaurant20To50              10147 non-null  int64\n",
      " 14  toCoupon_GEQ15min             10147 non-null  int64\n",
      " 15  toCoupon_GEQ25min             10147 non-null  int64\n",
      " 16  direction_same                10147 non-null  int64\n",
      " 17  direction_opp                 10147 non-null  int64\n",
      " 18  Y                             10147 non-null  int64\n",
      " 19  dest_Home                     10147 non-null  uint8\n",
      " 20  dest_No Urgent Place          10147 non-null  uint8\n",
      " 21  dest_Work                     10147 non-null  uint8\n",
      " 22  pass_Alone                    10147 non-null  uint8\n",
      " 23  pass_Friend(s)                10147 non-null  uint8\n",
      " 24  pass_Kid(s)                   10147 non-null  uint8\n",
      " 25  pass_Partner                  10147 non-null  uint8\n",
      " 26  weather_Rainy                 10147 non-null  uint8\n",
      " 27  weather_Snowy                 10147 non-null  uint8\n",
      " 28  weather_Sunny                 10147 non-null  uint8\n",
      " 29  coupon_Bar                    10147 non-null  uint8\n",
      " 30  coupon_Carry out & Take away  10147 non-null  uint8\n",
      " 31  coupon_Coffee House           10147 non-null  uint8\n",
      " 32  coupon_Restaurant(20-50)      10147 non-null  uint8\n",
      " 33  coupon_Restaurant(<20)        10147 non-null  uint8\n",
      " 34  gender_Female                 10147 non-null  uint8\n",
      " 35  gender_Male                   10147 non-null  uint8\n",
      " 36  mar_Divorced                  10147 non-null  uint8\n",
      " 37  mar_Married partner           10147 non-null  uint8\n",
      " 38  mar_Single                    10147 non-null  uint8\n",
      " 39  mar_Unmarried partner         10147 non-null  uint8\n",
      " 40  mar_Widowed                   10147 non-null  uint8\n",
      "dtypes: int64(19), uint8(22)\n",
      "memory usage: 1.7 MB\n"
     ]
    }
   ],
   "source": [
    "df_train.info()"
   ]
  },
  {
   "cell_type": "code",
   "execution_count": 53,
   "metadata": {},
   "outputs": [
    {
     "data": {
      "text/plain": [
       "Index(['customer_id', 'temperature', 'time', 'expiration', 'age',\n",
       "       'has_children', 'education', 'occupation', 'income', 'Bar',\n",
       "       'CoffeeHouse', 'CarryAway', 'RestaurantLessThan20', 'Restaurant20To50',\n",
       "       'toCoupon_GEQ15min', 'toCoupon_GEQ25min', 'direction_same',\n",
       "       'direction_opp', 'dest_Home', 'dest_No Urgent Place', 'dest_Work',\n",
       "       'pass_Alone', 'pass_Friend(s)', 'pass_Kid(s)', 'pass_Partner',\n",
       "       'weather_Rainy', 'weather_Snowy', 'weather_Sunny', 'coupon_Bar',\n",
       "       'coupon_Carry out & Take away', 'coupon_Coffee House',\n",
       "       'coupon_Restaurant(20-50)', 'coupon_Restaurant(<20)', 'gender_Female',\n",
       "       'gender_Male', 'mar_Divorced', 'mar_Married partner', 'mar_Single',\n",
       "       'mar_Unmarried partner', 'mar_Widowed'],\n",
       "      dtype='object')"
      ]
     },
     "execution_count": 53,
     "metadata": {},
     "output_type": "execute_result"
    }
   ],
   "source": [
    "cols = df_train.drop(['Y'], axis=1).columns\n",
    "cols"
   ]
  },
  {
   "cell_type": "code",
   "execution_count": 54,
   "metadata": {},
   "outputs": [
    {
     "data": {
      "text/plain": [
       "<AxesSubplot:>"
      ]
     },
     "execution_count": 54,
     "metadata": {},
     "output_type": "execute_result"
    },
    {
     "data": {
      "image/png": "[encoded data removed]",
      "text/plain": [
       "<Figure size 1490.4x595.44 with 2 Axes>"
      ]
     },
     "metadata": {},
     "output_type": "display_data"
    }
   ],
   "source": [
    "sns.heatmap(df_train[cols].corr())"
   ]
  },
  {
   "cell_type": "markdown",
   "metadata": {},
   "source": [
    "### Correlation between features"
   ]
  },
  {
   "cell_type": "code",
   "execution_count": 55,
   "metadata": {},
   "outputs": [
    {
     "data": {
      "text/html": [
       "<div>\n",
       "<style scoped>\n",
       "    .dataframe tbody tr th:only-of-type {\n",
       "        vertical-align: middle;\n",
       "    }\n",
       "\n",
       "    .dataframe tbody tr th {\n",
       "        vertical-align: top;\n",
       "    }\n",
       "\n",
       "    .dataframe thead th {\n",
       "        text-align: right;\n",
       "    }\n",
       "</style>\n",
       "<table border=\"1\" class=\"dataframe\">\n",
       "  <thead>\n",
       "    <tr style=\"text-align: right;\">\n",
       "      <th></th>\n",
       "      <th>customer_id</th>\n",
       "      <th>temperature</th>\n",
       "      <th>time</th>\n",
       "      <th>expiration</th>\n",
       "      <th>age</th>\n",
       "      <th>has_children</th>\n",
       "      <th>education</th>\n",
       "      <th>occupation</th>\n",
       "      <th>income</th>\n",
       "      <th>Bar</th>\n",
       "      <th>...</th>\n",
       "      <th>coupon_Coffee House</th>\n",
       "      <th>coupon_Restaurant(20-50)</th>\n",
       "      <th>coupon_Restaurant(&lt;20)</th>\n",
       "      <th>gender_Female</th>\n",
       "      <th>gender_Male</th>\n",
       "      <th>mar_Divorced</th>\n",
       "      <th>mar_Married partner</th>\n",
       "      <th>mar_Single</th>\n",
       "      <th>mar_Unmarried partner</th>\n",
       "      <th>mar_Widowed</th>\n",
       "    </tr>\n",
       "  </thead>\n",
       "  <tbody>\n",
       "    <tr>\n",
       "      <th>0</th>\n",
       "      <td>258868</td>\n",
       "      <td>80</td>\n",
       "      <td>4</td>\n",
       "      <td>1</td>\n",
       "      <td>1</td>\n",
       "      <td>0</td>\n",
       "      <td>3</td>\n",
       "      <td>0</td>\n",
       "      <td>1</td>\n",
       "      <td>2</td>\n",
       "      <td>...</td>\n",
       "      <td>0</td>\n",
       "      <td>0</td>\n",
       "      <td>1</td>\n",
       "      <td>0</td>\n",
       "      <td>1</td>\n",
       "      <td>0</td>\n",
       "      <td>0</td>\n",
       "      <td>0</td>\n",
       "      <td>1</td>\n",
       "      <td>0</td>\n",
       "    </tr>\n",
       "    <tr>\n",
       "      <th>1</th>\n",
       "      <td>318369</td>\n",
       "      <td>80</td>\n",
       "      <td>1</td>\n",
       "      <td>2</td>\n",
       "      <td>1</td>\n",
       "      <td>0</td>\n",
       "      <td>5</td>\n",
       "      <td>0</td>\n",
       "      <td>4</td>\n",
       "      <td>2</td>\n",
       "      <td>...</td>\n",
       "      <td>0</td>\n",
       "      <td>0</td>\n",
       "      <td>1</td>\n",
       "      <td>0</td>\n",
       "      <td>1</td>\n",
       "      <td>0</td>\n",
       "      <td>0</td>\n",
       "      <td>1</td>\n",
       "      <td>0</td>\n",
       "      <td>0</td>\n",
       "    </tr>\n",
       "    <tr>\n",
       "      <th>2</th>\n",
       "      <td>320906</td>\n",
       "      <td>80</td>\n",
       "      <td>2</td>\n",
       "      <td>2</td>\n",
       "      <td>1</td>\n",
       "      <td>0</td>\n",
       "      <td>3</td>\n",
       "      <td>0</td>\n",
       "      <td>1</td>\n",
       "      <td>2</td>\n",
       "      <td>...</td>\n",
       "      <td>1</td>\n",
       "      <td>0</td>\n",
       "      <td>0</td>\n",
       "      <td>1</td>\n",
       "      <td>0</td>\n",
       "      <td>0</td>\n",
       "      <td>1</td>\n",
       "      <td>0</td>\n",
       "      <td>0</td>\n",
       "      <td>0</td>\n",
       "    </tr>\n",
       "    <tr>\n",
       "      <th>3</th>\n",
       "      <td>412393</td>\n",
       "      <td>55</td>\n",
       "      <td>1</td>\n",
       "      <td>2</td>\n",
       "      <td>1</td>\n",
       "      <td>0</td>\n",
       "      <td>5</td>\n",
       "      <td>2</td>\n",
       "      <td>3</td>\n",
       "      <td>2</td>\n",
       "      <td>...</td>\n",
       "      <td>0</td>\n",
       "      <td>0</td>\n",
       "      <td>1</td>\n",
       "      <td>1</td>\n",
       "      <td>0</td>\n",
       "      <td>0</td>\n",
       "      <td>0</td>\n",
       "      <td>1</td>\n",
       "      <td>0</td>\n",
       "      <td>0</td>\n",
       "    </tr>\n",
       "    <tr>\n",
       "      <th>4</th>\n",
       "      <td>290854</td>\n",
       "      <td>30</td>\n",
       "      <td>4</td>\n",
       "      <td>1</td>\n",
       "      <td>1</td>\n",
       "      <td>0</td>\n",
       "      <td>3</td>\n",
       "      <td>1</td>\n",
       "      <td>2</td>\n",
       "      <td>3</td>\n",
       "      <td>...</td>\n",
       "      <td>1</td>\n",
       "      <td>0</td>\n",
       "      <td>0</td>\n",
       "      <td>0</td>\n",
       "      <td>1</td>\n",
       "      <td>0</td>\n",
       "      <td>0</td>\n",
       "      <td>1</td>\n",
       "      <td>0</td>\n",
       "      <td>0</td>\n",
       "    </tr>\n",
       "  </tbody>\n",
       "</table>\n",
       "<p>5 rows × 41 columns</p>\n",
       "</div>"
      ],
      "text/plain": [
       "   customer_id  temperature  time  expiration  age  has_children  education  \\\n",
       "0       258868           80     4           1    1             0          3   \n",
       "1       318369           80     1           2    1             0          5   \n",
       "2       320906           80     2           2    1             0          3   \n",
       "3       412393           55     1           2    1             0          5   \n",
       "4       290854           30     4           1    1             0          3   \n",
       "\n",
       "   occupation  income  Bar  ...  coupon_Coffee House  \\\n",
       "0           0       1    2  ...                    0   \n",
       "1           0       4    2  ...                    0   \n",
       "2           0       1    2  ...                    1   \n",
       "3           2       3    2  ...                    0   \n",
       "4           1       2    3  ...                    1   \n",
       "\n",
       "   coupon_Restaurant(20-50)  coupon_Restaurant(<20)  gender_Female  \\\n",
       "0                         0                       1              0   \n",
       "1                         0                       1              0   \n",
       "2                         0                       0              1   \n",
       "3                         0                       1              1   \n",
       "4                         0                       0              0   \n",
       "\n",
       "   gender_Male  mar_Divorced  mar_Married partner  mar_Single  \\\n",
       "0            1             0                    0           0   \n",
       "1            1             0                    0           1   \n",
       "2            0             0                    1           0   \n",
       "3            0             0                    0           1   \n",
       "4            1             0                    0           1   \n",
       "\n",
       "   mar_Unmarried partner  mar_Widowed  \n",
       "0                      1            0  \n",
       "1                      0            0  \n",
       "2                      0            0  \n",
       "3                      0            0  \n",
       "4                      0            0  \n",
       "\n",
       "[5 rows x 41 columns]"
      ]
     },
     "execution_count": 55,
     "metadata": {},
     "output_type": "execute_result"
    }
   ],
   "source": [
    "df_train.head()\n"
   ]
  },
  {
   "cell_type": "code",
   "execution_count": null,
   "metadata": {},
   "outputs": [],
   "source": []
  },
  {
   "cell_type": "code",
   "execution_count": 56,
   "metadata": {},
   "outputs": [],
   "source": [
    "df_train.to_csv('Data_Preprocess_Train.csv', index=False)\n",
    "df_test.to_csv('Data_Preprocess_Test.csv', index=False)"
   ]
  },
  {
   "cell_type": "code",
   "execution_count": 57,
   "metadata": {},
   "outputs": [],
   "source": [
    "input_file = \"Data_Preprocess_Train.csv\"\n",
    "test_file = \"Data_Preprocess_Test.csv\"\n"
   ]
  },
  {
   "cell_type": "code",
   "execution_count": 58,
   "metadata": {},
   "outputs": [],
   "source": [
    "# set to true if best parameters need to be calculated using gridsearch\n",
    "get_params = True\n",
    "RANDOM_STATE = 42"
   ]
  },
  {
   "cell_type": "code",
   "execution_count": 59,
   "metadata": {},
   "outputs": [],
   "source": [
    "from sklearn.linear_model import LogisticRegression\n",
    "from sklearn.svm import SVC\n",
    "from sklearn.neighbors import KNeighborsClassifier\n",
    "from sklearn.naive_bayes import GaussianNB\n",
    "from sklearn.tree import DecisionTreeClassifier\n",
    "\n",
    "from sklearn.ensemble import BaggingClassifier\n",
    "from sklearn.ensemble import RandomForestClassifier\n",
    "from sklearn.ensemble import GradientBoostingClassifier\n",
    "from sklearn.ensemble import AdaBoostClassifier\n",
    "from xgboost import XGBClassifier\n",
    "\n",
    "from sklearn.model_selection import GridSearchCV\n",
    "from sklearn.model_selection import RandomizedSearchCV\n",
    "\n",
    "from sklearn.metrics import classification_report, confusion_matrix\n",
    "from sklearn.metrics import accuracy_score, f1_score, auc, roc_curve\n",
    "\n",
    "import warnings\n",
    "warnings.filterwarnings('ignore')"
   ]
  },
  {
   "cell_type": "code",
   "execution_count": 60,
   "metadata": {},
   "outputs": [
    {
     "name": "stdout",
     "output_type": "stream",
     "text": [
      "current time:- 04-05-2022 23-21-06\n"
     ]
    }
   ],
   "source": [
    "# get current time for creating folder for saving predictions\n",
    "\n",
    "from datetime import datetime\n",
    "\n",
    "now = datetime.now() # current date and time\n",
    "dt = now.strftime(\"%m/%d/%Y, %H:%M:%S\")\n",
    "dt = dt.replace(',',\"\")\n",
    "dt = dt.replace('/',\"-\")\n",
    "dt = dt.replace(':',\"-\")\n",
    "print(\"current time:-\", dt)\n"
   ]
  },
  {
   "cell_type": "code",
   "execution_count": 61,
   "metadata": {},
   "outputs": [
    {
     "data": {
      "text/plain": [
       "'Predictions/04-05-2022 23-21-06/'"
      ]
     },
     "metadata": {},
     "output_type": "display_data"
    }
   ],
   "source": [
    "# create folder name with timestamp to store metrics and target data\n",
    "folder_name = 'Predictions/' + dt +'/'\n",
    "display(folder_name)\n",
    "\n",
    "# create folder\n",
    "import os\n",
    "if not os.path.exists(folder_name):\n",
    "    os.makedirs(folder_name)"
   ]
  },
  {
   "cell_type": "code",
   "execution_count": 62,
   "metadata": {},
   "outputs": [],
   "source": [
    "# Xdata and ydata are training data\n",
    "# Using grid search to get the best parameters for the model\n",
    "\n",
    "def get_best_params(model, param_range, Xdata, ydata):\n",
    "    \n",
    "    # cv_param = GridSearchCV(estimator=model, param_grid= param_range, cv=5, return_train_score=True, scoring='f1').fit(Xdata, ydata)\n",
    "    \n",
    "    cv_param = RandomizedSearchCV(estimator = model, param_distributions = param_range, n_iter = 10, verbose=5, cv = 10, random_state=RANDOM_STATE, n_jobs = -1, scoring='f1').fit(Xdata, ydata)\n",
    "    display()\n",
    "    return(cv_param.best_params_)"
   ]
  },
  {
   "cell_type": "code",
   "execution_count": 63,
   "metadata": {},
   "outputs": [],
   "source": [
    "# function to get model metrics\n",
    "\n",
    "def get_model_metrics(actual, predicted, classifier_name):\n",
    "    \n",
    "    acc            = accuracy_score(actual, predicted)\n",
    "    f1             = np.mean(f1_score(actual, predicted, average=None))\n",
    "    \n",
    "    tn, fp, fn, tp = confusion_matrix(actual, predicted).ravel()\n",
    "#    tn, fp, fn, tp = calc_from_conf_matrix(actual, predicted)\n",
    "    sensitivity    = tp / (tp + fn)\n",
    "    specificity    = tn / (tn + fp)\n",
    "    fpr, tpr, thresholds = roc_curve(actual, predicted, pos_label=1)\n",
    "    auc_value      = auc(fpr, tpr)\n",
    "    \n",
    "    display(acc)\n",
    "    return {'Classifier_Name': classifier_name,\n",
    "            'Accuracy'       : acc,\n",
    "            'F1_Score'       : f1,\n",
    "            'Sensitivity'    : sensitivity,\n",
    "            'Specificity'    : specificity,\n",
    "            'AUC'            : auc_value,\n",
    "            'FPR_Values'     : fpr,\n",
    "            'TPR_Values'     : tpr}"
   ]
  },
  {
   "cell_type": "code",
   "execution_count": 64,
   "metadata": {},
   "outputs": [],
   "source": [
    "# function that gets does prediction and plots results\n",
    "\n",
    "def perform_classification_function(model_name, model_instance, Xtrain, Xtest, ytrain, ytest):\n",
    "    \n",
    "    # predict y using the model instance\n",
    "    ypred   = model_instance.predict(Xtest)\n",
    "    \n",
    "#    fig, (axes1, axes2) = plt.subplots(1,2, figsize=(15,5))\n",
    "    fig, axes1 = plt.subplots(1,1, figsize=(6,4))\n",
    "    \n",
    "    print(\"Classification Report\")\n",
    "    print(\"=====================\")\n",
    "    print(classification_report(ytest, ypred))\n",
    "    \n",
    "    print(\"Confusion Matrix\")\n",
    "    print(\"================\")\n",
    "#    print(confusion_matrix(ytest, ypred))\n",
    "    \n",
    "# display the heatmap and decision boundaries map side-by-side\n",
    "    sns.heatmap(confusion_matrix(ytest, ypred), annot=True, cmap='crest',  linewidths=0.5, ax=axes1,fmt='d')\n",
    "    \n",
    "    \n",
    "    model_metrics = get_model_metrics(ytest, ypred, model_name)\n",
    "    \n",
    "    \n",
    "    return model_metrics"
   ]
  },
  {
   "cell_type": "code",
   "execution_count": 65,
   "metadata": {},
   "outputs": [
    {
     "data": {
      "text/html": [
       "<div>\n",
       "<style scoped>\n",
       "    .dataframe tbody tr th:only-of-type {\n",
       "        vertical-align: middle;\n",
       "    }\n",
       "\n",
       "    .dataframe tbody tr th {\n",
       "        vertical-align: top;\n",
       "    }\n",
       "\n",
       "    .dataframe thead th {\n",
       "        text-align: right;\n",
       "    }\n",
       "</style>\n",
       "<table border=\"1\" class=\"dataframe\">\n",
       "  <thead>\n",
       "    <tr style=\"text-align: right;\">\n",
       "      <th></th>\n",
       "      <th>Classifier_Name</th>\n",
       "      <th>Param_List</th>\n",
       "      <th>Accuracy</th>\n",
       "      <th>F1_Score</th>\n",
       "      <th>Sensitivity</th>\n",
       "      <th>Specificity</th>\n",
       "      <th>AUC</th>\n",
       "      <th>FPR_Values</th>\n",
       "      <th>TPR_Values</th>\n",
       "    </tr>\n",
       "  </thead>\n",
       "  <tbody>\n",
       "  </tbody>\n",
       "</table>\n",
       "</div>"
      ],
      "text/plain": [
       "Empty DataFrame\n",
       "Columns: [Classifier_Name, Param_List, Accuracy, F1_Score, Sensitivity, Specificity, AUC, FPR_Values, TPR_Values]\n",
       "Index: []"
      ]
     },
     "execution_count": 65,
     "metadata": {},
     "output_type": "execute_result"
    }
   ],
   "source": [
    "# create dataframe with model metrics for displaying the results\n",
    "\n",
    "column_names = [\"Classifier_Name\", \"Param_List\",\"Accuracy\", 'F1_Score', \"Sensitivity\", \"Specificity\",\\\n",
    "                \"AUC\", \"FPR_Values\", \"TPR_Values\"]\n",
    "metrics_df   = pd.DataFrame(columns=column_names)\n",
    "metrics_df"
   ]
  },
  {
   "cell_type": "code",
   "execution_count": 66,
   "metadata": {},
   "outputs": [
    {
     "data": {
      "text/html": [
       "<div>\n",
       "<style scoped>\n",
       "    .dataframe tbody tr th:only-of-type {\n",
       "        vertical-align: middle;\n",
       "    }\n",
       "\n",
       "    .dataframe tbody tr th {\n",
       "        vertical-align: top;\n",
       "    }\n",
       "\n",
       "    .dataframe thead th {\n",
       "        text-align: right;\n",
       "    }\n",
       "</style>\n",
       "<table border=\"1\" class=\"dataframe\">\n",
       "  <thead>\n",
       "    <tr style=\"text-align: right;\">\n",
       "      <th></th>\n",
       "      <th>customer_id</th>\n",
       "      <th>temperature</th>\n",
       "      <th>time</th>\n",
       "      <th>expiration</th>\n",
       "      <th>age</th>\n",
       "      <th>has_children</th>\n",
       "      <th>education</th>\n",
       "      <th>occupation</th>\n",
       "      <th>income</th>\n",
       "      <th>Bar</th>\n",
       "      <th>...</th>\n",
       "      <th>coupon_Coffee House</th>\n",
       "      <th>coupon_Restaurant_20_50</th>\n",
       "      <th>coupon_Restaurant_20</th>\n",
       "      <th>gender_Female</th>\n",
       "      <th>gender_Male</th>\n",
       "      <th>mar_Divorced</th>\n",
       "      <th>mar_Married partner</th>\n",
       "      <th>mar_Single</th>\n",
       "      <th>mar_Unmarried partner</th>\n",
       "      <th>mar_Widowed</th>\n",
       "    </tr>\n",
       "  </thead>\n",
       "  <tbody>\n",
       "    <tr>\n",
       "      <th>0</th>\n",
       "      <td>258868</td>\n",
       "      <td>80</td>\n",
       "      <td>4</td>\n",
       "      <td>1</td>\n",
       "      <td>1</td>\n",
       "      <td>0</td>\n",
       "      <td>3</td>\n",
       "      <td>0</td>\n",
       "      <td>1</td>\n",
       "      <td>2</td>\n",
       "      <td>...</td>\n",
       "      <td>0</td>\n",
       "      <td>0</td>\n",
       "      <td>1</td>\n",
       "      <td>0</td>\n",
       "      <td>1</td>\n",
       "      <td>0</td>\n",
       "      <td>0</td>\n",
       "      <td>0</td>\n",
       "      <td>1</td>\n",
       "      <td>0</td>\n",
       "    </tr>\n",
       "    <tr>\n",
       "      <th>1</th>\n",
       "      <td>318369</td>\n",
       "      <td>80</td>\n",
       "      <td>1</td>\n",
       "      <td>2</td>\n",
       "      <td>1</td>\n",
       "      <td>0</td>\n",
       "      <td>5</td>\n",
       "      <td>0</td>\n",
       "      <td>4</td>\n",
       "      <td>2</td>\n",
       "      <td>...</td>\n",
       "      <td>0</td>\n",
       "      <td>0</td>\n",
       "      <td>1</td>\n",
       "      <td>0</td>\n",
       "      <td>1</td>\n",
       "      <td>0</td>\n",
       "      <td>0</td>\n",
       "      <td>1</td>\n",
       "      <td>0</td>\n",
       "      <td>0</td>\n",
       "    </tr>\n",
       "    <tr>\n",
       "      <th>2</th>\n",
       "      <td>320906</td>\n",
       "      <td>80</td>\n",
       "      <td>2</td>\n",
       "      <td>2</td>\n",
       "      <td>1</td>\n",
       "      <td>0</td>\n",
       "      <td>3</td>\n",
       "      <td>0</td>\n",
       "      <td>1</td>\n",
       "      <td>2</td>\n",
       "      <td>...</td>\n",
       "      <td>1</td>\n",
       "      <td>0</td>\n",
       "      <td>0</td>\n",
       "      <td>1</td>\n",
       "      <td>0</td>\n",
       "      <td>0</td>\n",
       "      <td>1</td>\n",
       "      <td>0</td>\n",
       "      <td>0</td>\n",
       "      <td>0</td>\n",
       "    </tr>\n",
       "    <tr>\n",
       "      <th>3</th>\n",
       "      <td>412393</td>\n",
       "      <td>55</td>\n",
       "      <td>1</td>\n",
       "      <td>2</td>\n",
       "      <td>1</td>\n",
       "      <td>0</td>\n",
       "      <td>5</td>\n",
       "      <td>2</td>\n",
       "      <td>3</td>\n",
       "      <td>2</td>\n",
       "      <td>...</td>\n",
       "      <td>0</td>\n",
       "      <td>0</td>\n",
       "      <td>1</td>\n",
       "      <td>1</td>\n",
       "      <td>0</td>\n",
       "      <td>0</td>\n",
       "      <td>0</td>\n",
       "      <td>1</td>\n",
       "      <td>0</td>\n",
       "      <td>0</td>\n",
       "    </tr>\n",
       "    <tr>\n",
       "      <th>4</th>\n",
       "      <td>290854</td>\n",
       "      <td>30</td>\n",
       "      <td>4</td>\n",
       "      <td>1</td>\n",
       "      <td>1</td>\n",
       "      <td>0</td>\n",
       "      <td>3</td>\n",
       "      <td>1</td>\n",
       "      <td>2</td>\n",
       "      <td>3</td>\n",
       "      <td>...</td>\n",
       "      <td>1</td>\n",
       "      <td>0</td>\n",
       "      <td>0</td>\n",
       "      <td>0</td>\n",
       "      <td>1</td>\n",
       "      <td>0</td>\n",
       "      <td>0</td>\n",
       "      <td>1</td>\n",
       "      <td>0</td>\n",
       "      <td>0</td>\n",
       "    </tr>\n",
       "  </tbody>\n",
       "</table>\n",
       "<p>5 rows × 41 columns</p>\n",
       "</div>"
      ],
      "text/plain": [
       "   customer_id  temperature  time  expiration  age  has_children  education  \\\n",
       "0       258868           80     4           1    1             0          3   \n",
       "1       318369           80     1           2    1             0          5   \n",
       "2       320906           80     2           2    1             0          3   \n",
       "3       412393           55     1           2    1             0          5   \n",
       "4       290854           30     4           1    1             0          3   \n",
       "\n",
       "   occupation  income  Bar  ...  coupon_Coffee House  coupon_Restaurant_20_50  \\\n",
       "0           0       1    2  ...                    0                        0   \n",
       "1           0       4    2  ...                    0                        0   \n",
       "2           0       1    2  ...                    1                        0   \n",
       "3           2       3    2  ...                    0                        0   \n",
       "4           1       2    3  ...                    1                        0   \n",
       "\n",
       "   coupon_Restaurant_20  gender_Female  gender_Male  mar_Divorced  \\\n",
       "0                     1              0            1             0   \n",
       "1                     1              0            1             0   \n",
       "2                     0              1            0             0   \n",
       "3                     1              1            0             0   \n",
       "4                     0              0            1             0   \n",
       "\n",
       "   mar_Married partner  mar_Single  mar_Unmarried partner  mar_Widowed  \n",
       "0                    0           0                      1            0  \n",
       "1                    0           1                      0            0  \n",
       "2                    1           0                      0            0  \n",
       "3                    0           1                      0            0  \n",
       "4                    0           1                      0            0  \n",
       "\n",
       "[5 rows x 41 columns]"
      ]
     },
     "execution_count": 66,
     "metadata": {},
     "output_type": "execute_result"
    }
   ],
   "source": [
    "# reading the data which was output from EDA\n",
    "# some columns had special characters, hence they are being renamed\n",
    "\n",
    "data = pd.read_csv(input_file)\n",
    "data.columns = ['customer_id', 'temperature', 'time', 'expiration', 'age',\n",
    "       'has_children', 'education', 'occupation', 'income', 'Bar',\n",
    "       'CoffeeHouse', 'CarryAway', 'RestaurantLessThan20', 'Restaurant20To50',\n",
    "       'toCoupon_GEQ15min', 'toCoupon_GEQ25min', 'direction_same',\n",
    "       'direction_opp', 'Y', 'dest_Home', 'dest_No Urgent Place', 'dest_Work',\n",
    "       'pass_Alone', 'pass_Friends', 'pass_Kids', 'pass_Partner',\n",
    "       'weather_Rainy', 'weather_Snowy', 'weather_Sunny', 'coupon_Bar',\n",
    "       'coupon_Carry out & Take away', 'coupon_Coffee House',\n",
    "       'coupon_Restaurant_20_50', 'coupon_Restaurant_20', 'gender_Female',\n",
    "       'gender_Male', 'mar_Divorced', 'mar_Married partner', 'mar_Single',\n",
    "       'mar_Unmarried partner', 'mar_Widowed']\n",
    "data.head()"
   ]
  },
  {
   "cell_type": "code",
   "execution_count": 67,
   "metadata": {},
   "outputs": [],
   "source": [
    "X_scaled = data.drop(['customer_id','Y'], axis=1)\n",
    "y = data['Y']"
   ]
  },
  {
   "cell_type": "code",
   "execution_count": 68,
   "metadata": {},
   "outputs": [
    {
     "data": {
      "text/plain": [
       "(10147, 39)"
      ]
     },
     "execution_count": 68,
     "metadata": {},
     "output_type": "execute_result"
    }
   ],
   "source": [
    "X_scaled.shape"
   ]
  },
  {
   "cell_type": "code",
   "execution_count": 69,
   "metadata": {},
   "outputs": [
    {
     "name": "stdout",
     "output_type": "stream",
     "text": [
      "Counter({1: 5768, 0: 4379})\n"
     ]
    }
   ],
   "source": [
    "from collections import Counter\n",
    "print(Counter(y))"
   ]
  },
  {
   "cell_type": "code",
   "execution_count": 70,
   "metadata": {},
   "outputs": [
    {
     "data": {
      "text/plain": [
       "(10147, 1)"
      ]
     },
     "execution_count": 70,
     "metadata": {},
     "output_type": "execute_result"
    }
   ],
   "source": [
    "y = np.array(y).reshape(-1,1)\n",
    "y.shape"
   ]
  },
  {
   "cell_type": "code",
   "execution_count": 71,
   "metadata": {},
   "outputs": [],
   "source": [
    "from sklearn.model_selection import train_test_split\n",
    "\n",
    "Xtrain, Xtest, ytrain, ytest = train_test_split(X_scaled, y, test_size=0.15, random_state=RANDOM_STATE,\n",
    "                                               stratify=y)"
   ]
  },
  {
   "cell_type": "code",
   "execution_count": 72,
   "metadata": {},
   "outputs": [],
   "source": [
    "from sklearn.metrics import accuracy_score, f1_score"
   ]
  },
  {
   "cell_type": "code",
   "execution_count": 73,
   "metadata": {},
   "outputs": [
    {
     "data": {
      "text/html": [
       "<div>\n",
       "<style scoped>\n",
       "    .dataframe tbody tr th:only-of-type {\n",
       "        vertical-align: middle;\n",
       "    }\n",
       "\n",
       "    .dataframe tbody tr th {\n",
       "        vertical-align: top;\n",
       "    }\n",
       "\n",
       "    .dataframe thead th {\n",
       "        text-align: right;\n",
       "    }\n",
       "</style>\n",
       "<table border=\"1\" class=\"dataframe\">\n",
       "  <thead>\n",
       "    <tr style=\"text-align: right;\">\n",
       "      <th></th>\n",
       "      <th>Classifier_Name</th>\n",
       "      <th>Param_List</th>\n",
       "      <th>Accuracy</th>\n",
       "      <th>F1_Score</th>\n",
       "      <th>Sensitivity</th>\n",
       "      <th>Specificity</th>\n",
       "      <th>AUC</th>\n",
       "    </tr>\n",
       "  </thead>\n",
       "  <tbody>\n",
       "  </tbody>\n",
       "</table>\n",
       "</div>"
      ],
      "text/plain": [
       "Empty DataFrame\n",
       "Columns: [Classifier_Name, Param_List, Accuracy, F1_Score, Sensitivity, Specificity, AUC]\n",
       "Index: []"
      ]
     },
     "execution_count": 73,
     "metadata": {},
     "output_type": "execute_result"
    }
   ],
   "source": [
    "metrics_df.drop(['FPR_Values','TPR_Values'], axis=1)"
   ]
  },
  {
   "cell_type": "markdown",
   "metadata": {},
   "source": [
    "### Modeling"
   ]
  },
  {
   "cell_type": "markdown",
   "metadata": {},
   "source": [
    "It was found that XGBClassifier gave the best F1_score.<br>\n",
    "Its parameters were generated using RandomizedSearchCV.\n",
    "Hence our final model is XGBClassifier with the parameters as defined below:"
   ]
  },
  {
   "cell_type": "markdown",
   "metadata": {},
   "source": [
    "model=XGBClassifier(base_score=0.5, colsample_bylevel=0.75, colsample_bytree=0.6,\n",
    "       gamma=0, learning_rate=0.085, max_depth=13,\n",
    "       min_child_weight=0.7, missing=None, n_estimators=200, nthread=-1,\n",
    "       objective='binary:logistic', reg_alpha=0.7, reg_lambda=2,\n",
    "       scale_pos_weight=1, seed=1, silent=True, subsample=1, random_state=42)\n",
    "\n",
    "model.fit(Xtrain, ytrain)"
   ]
  },
  {
   "cell_type": "code",
   "execution_count": 74,
   "metadata": {},
   "outputs": [
    {
     "data": {
      "text/plain": [
       "XGBClassifier(colsample_bylevel=0.75, colsample_bytree=0.6, learning_rate=0.085,\n",
       "              max_depth=13, min_child_weight=0.7, n_estimators=200, nthread=-1,\n",
       "              random_state=42, reg_alpha=0.7, reg_lambda=2, seed=1,\n",
       "              silent=True)"
      ]
     },
     "metadata": {},
     "output_type": "display_data"
    },
    {
     "name": "stdout",
     "output_type": "stream",
     "text": [
      "Classification Report\n",
      "=====================\n",
      "              precision    recall  f1-score   support\n",
      "\n",
      "           0       0.76      0.73      0.75       657\n",
      "           1       0.80      0.83      0.81       866\n",
      "\n",
      "    accuracy                           0.79      1523\n",
      "   macro avg       0.78      0.78      0.78      1523\n",
      "weighted avg       0.78      0.79      0.78      1523\n",
      "\n",
      "Confusion Matrix\n",
      "================\n"
     ]
    },
    {
     "data": {
      "text/plain": [
       "0.7852921864740644"
      ]
     },
     "metadata": {},
     "output_type": "display_data"
    },
    {
     "data": {
      "image/png": "[encoded data removed]",
      "text/plain": [
       "<Figure size 432x288 with 2 Axes>"
      ]
     },
     "metadata": {},
     "output_type": "display_data"
    },
    {
     "name": "stdout",
     "output_type": "stream",
     "text": [
      "=====================================================================================================\n"
     ]
    }
   ],
   "source": [
    "metrics_df = metrics_df.iloc[0:0]\n",
    "\n",
    "\n",
    "count = 1\n",
    "inst_list = []\n",
    "\n",
    "model_name = 'XGBClassifier'\n",
    "model=XGBClassifier(base_score=0.5, colsample_bylevel=0.75, colsample_bytree=0.6,\n",
    "       gamma=0, learning_rate=0.085, max_depth=13,\n",
    "       min_child_weight=0.7, missing=None, n_estimators=200, nthread=-1,\n",
    "       objective='binary:logistic', reg_alpha=0.7, reg_lambda=2,\n",
    "       scale_pos_weight=1, seed=1, silent=True, subsample=1, random_state=42).fit(Xtrain, ytrain)\n",
    "\n",
    "display(model)\n",
    "\n",
    "model_metrics = perform_classification_function(model_name, model, Xtrain, Xtest, ytrain, ytest )\n",
    "\n",
    "inst_list.append(model)\n",
    "\n",
    "parameters = [\"base_score=0.5, colsample_bylevel=0.75, colsample_bytree=0.6, gamma=0, learning_rate=0.085, max_depth=13, min_child_weight=0.7, missing=None, n_estimators=200, nthread=-1, objective='binary:logistic', reg_alpha=0.7, reg_lambda=2, scale_pos_weight=1, seed=1, silent=True, subsample=1, random_state=42\"]\n",
    "metrics_df = metrics_df.append(model_metrics, ignore_index=True)\n",
    "metrics_df.loc[(metrics_df.Classifier_Name == model_name),['Param_List']] = parameters\n",
    "\n",
    "\n",
    "plt.show();\n",
    "\n",
    "print(\"=====================================================================================================\")\n"
   ]
  },
  {
   "cell_type": "code",
   "execution_count": 75,
   "metadata": {},
   "outputs": [
    {
     "data": {
      "text/html": [
       "<div>\n",
       "<style scoped>\n",
       "    .dataframe tbody tr th:only-of-type {\n",
       "        vertical-align: middle;\n",
       "    }\n",
       "\n",
       "    .dataframe tbody tr th {\n",
       "        vertical-align: top;\n",
       "    }\n",
       "\n",
       "    .dataframe thead th {\n",
       "        text-align: right;\n",
       "    }\n",
       "</style>\n",
       "<table border=\"1\" class=\"dataframe\">\n",
       "  <thead>\n",
       "    <tr style=\"text-align: right;\">\n",
       "      <th></th>\n",
       "      <th>Classifier_Name</th>\n",
       "      <th>Param_List</th>\n",
       "      <th>Accuracy</th>\n",
       "      <th>F1_Score</th>\n",
       "      <th>Sensitivity</th>\n",
       "      <th>Specificity</th>\n",
       "      <th>AUC</th>\n",
       "      <th>FPR_Values</th>\n",
       "      <th>TPR_Values</th>\n",
       "    </tr>\n",
       "  </thead>\n",
       "  <tbody>\n",
       "    <tr>\n",
       "      <th>0</th>\n",
       "      <td>XGBClassifier</td>\n",
       "      <td>base_score=0.5, colsample_bylevel=0.75, colsam...</td>\n",
       "      <td>0.785292</td>\n",
       "      <td>0.779918</td>\n",
       "      <td>0.827945</td>\n",
       "      <td>0.729072</td>\n",
       "      <td>0.778508</td>\n",
       "      <td>[0.0, 0.2709284627092846, 1.0]</td>\n",
       "      <td>[0.0, 0.8279445727482679, 1.0]</td>\n",
       "    </tr>\n",
       "  </tbody>\n",
       "</table>\n",
       "</div>"
      ],
      "text/plain": [
       "  Classifier_Name                                         Param_List  \\\n",
       "0   XGBClassifier  base_score=0.5, colsample_bylevel=0.75, colsam...   \n",
       "\n",
       "   Accuracy  F1_Score  Sensitivity  Specificity       AUC  \\\n",
       "0  0.785292  0.779918     0.827945     0.729072  0.778508   \n",
       "\n",
       "                       FPR_Values                      TPR_Values  \n",
       "0  [0.0, 0.2709284627092846, 1.0]  [0.0, 0.8279445727482679, 1.0]  "
      ]
     },
     "metadata": {},
     "output_type": "display_data"
    }
   ],
   "source": [
    "display(metrics_df)"
   ]
  },
  {
   "cell_type": "code",
   "execution_count": 76,
   "metadata": {},
   "outputs": [
    {
     "data": {
      "text/html": [
       "<div>\n",
       "<style scoped>\n",
       "    .dataframe tbody tr th:only-of-type {\n",
       "        vertical-align: middle;\n",
       "    }\n",
       "\n",
       "    .dataframe tbody tr th {\n",
       "        vertical-align: top;\n",
       "    }\n",
       "\n",
       "    .dataframe thead th {\n",
       "        text-align: right;\n",
       "    }\n",
       "</style>\n",
       "<table border=\"1\" class=\"dataframe\">\n",
       "  <thead>\n",
       "    <tr style=\"text-align: right;\">\n",
       "      <th></th>\n",
       "      <th>temperature</th>\n",
       "      <th>time</th>\n",
       "      <th>expiration</th>\n",
       "      <th>age</th>\n",
       "      <th>has_children</th>\n",
       "      <th>education</th>\n",
       "      <th>occupation</th>\n",
       "      <th>income</th>\n",
       "      <th>Bar</th>\n",
       "      <th>CoffeeHouse</th>\n",
       "      <th>...</th>\n",
       "      <th>coupon_Coffee House</th>\n",
       "      <th>coupon_Restaurant_20_50</th>\n",
       "      <th>coupon_Restaurant_20</th>\n",
       "      <th>gender_Female</th>\n",
       "      <th>gender_Male</th>\n",
       "      <th>mar_Divorced</th>\n",
       "      <th>mar_Married partner</th>\n",
       "      <th>mar_Single</th>\n",
       "      <th>mar_Unmarried partner</th>\n",
       "      <th>mar_Widowed</th>\n",
       "    </tr>\n",
       "  </thead>\n",
       "  <tbody>\n",
       "    <tr>\n",
       "      <th>0</th>\n",
       "      <td>80</td>\n",
       "      <td>4</td>\n",
       "      <td>1</td>\n",
       "      <td>0</td>\n",
       "      <td>0</td>\n",
       "      <td>3</td>\n",
       "      <td>2</td>\n",
       "      <td>1</td>\n",
       "      <td>1</td>\n",
       "      <td>3</td>\n",
       "      <td>...</td>\n",
       "      <td>1</td>\n",
       "      <td>0</td>\n",
       "      <td>0</td>\n",
       "      <td>1</td>\n",
       "      <td>0</td>\n",
       "      <td>0</td>\n",
       "      <td>0</td>\n",
       "      <td>1</td>\n",
       "      <td>0</td>\n",
       "      <td>0</td>\n",
       "    </tr>\n",
       "    <tr>\n",
       "      <th>1</th>\n",
       "      <td>80</td>\n",
       "      <td>4</td>\n",
       "      <td>2</td>\n",
       "      <td>1</td>\n",
       "      <td>0</td>\n",
       "      <td>2</td>\n",
       "      <td>2</td>\n",
       "      <td>2</td>\n",
       "      <td>3</td>\n",
       "      <td>1</td>\n",
       "      <td>...</td>\n",
       "      <td>0</td>\n",
       "      <td>0</td>\n",
       "      <td>0</td>\n",
       "      <td>0</td>\n",
       "      <td>1</td>\n",
       "      <td>0</td>\n",
       "      <td>0</td>\n",
       "      <td>0</td>\n",
       "      <td>1</td>\n",
       "      <td>0</td>\n",
       "    </tr>\n",
       "    <tr>\n",
       "      <th>2</th>\n",
       "      <td>55</td>\n",
       "      <td>2</td>\n",
       "      <td>1</td>\n",
       "      <td>1</td>\n",
       "      <td>1</td>\n",
       "      <td>3</td>\n",
       "      <td>1</td>\n",
       "      <td>3</td>\n",
       "      <td>1</td>\n",
       "      <td>1</td>\n",
       "      <td>...</td>\n",
       "      <td>1</td>\n",
       "      <td>0</td>\n",
       "      <td>0</td>\n",
       "      <td>1</td>\n",
       "      <td>0</td>\n",
       "      <td>0</td>\n",
       "      <td>1</td>\n",
       "      <td>0</td>\n",
       "      <td>0</td>\n",
       "      <td>0</td>\n",
       "    </tr>\n",
       "    <tr>\n",
       "      <th>3</th>\n",
       "      <td>80</td>\n",
       "      <td>4</td>\n",
       "      <td>1</td>\n",
       "      <td>3</td>\n",
       "      <td>1</td>\n",
       "      <td>4</td>\n",
       "      <td>3</td>\n",
       "      <td>5</td>\n",
       "      <td>1</td>\n",
       "      <td>4</td>\n",
       "      <td>...</td>\n",
       "      <td>0</td>\n",
       "      <td>0</td>\n",
       "      <td>0</td>\n",
       "      <td>0</td>\n",
       "      <td>1</td>\n",
       "      <td>0</td>\n",
       "      <td>0</td>\n",
       "      <td>0</td>\n",
       "      <td>1</td>\n",
       "      <td>0</td>\n",
       "    </tr>\n",
       "    <tr>\n",
       "      <th>4</th>\n",
       "      <td>30</td>\n",
       "      <td>1</td>\n",
       "      <td>1</td>\n",
       "      <td>1</td>\n",
       "      <td>0</td>\n",
       "      <td>3</td>\n",
       "      <td>2</td>\n",
       "      <td>7</td>\n",
       "      <td>1</td>\n",
       "      <td>1</td>\n",
       "      <td>...</td>\n",
       "      <td>0</td>\n",
       "      <td>0</td>\n",
       "      <td>0</td>\n",
       "      <td>1</td>\n",
       "      <td>0</td>\n",
       "      <td>0</td>\n",
       "      <td>1</td>\n",
       "      <td>0</td>\n",
       "      <td>0</td>\n",
       "      <td>0</td>\n",
       "    </tr>\n",
       "  </tbody>\n",
       "</table>\n",
       "<p>5 rows × 39 columns</p>\n",
       "</div>"
      ],
      "text/plain": [
       "   temperature  time  expiration  age  has_children  education  occupation  \\\n",
       "0           80     4           1    0             0          3           2   \n",
       "1           80     4           2    1             0          2           2   \n",
       "2           55     2           1    1             1          3           1   \n",
       "3           80     4           1    3             1          4           3   \n",
       "4           30     1           1    1             0          3           2   \n",
       "\n",
       "   income  Bar  CoffeeHouse  ...  coupon_Coffee House  \\\n",
       "0       1    1            3  ...                    1   \n",
       "1       2    3            1  ...                    0   \n",
       "2       3    1            1  ...                    1   \n",
       "3       5    1            4  ...                    0   \n",
       "4       7    1            1  ...                    0   \n",
       "\n",
       "   coupon_Restaurant_20_50  coupon_Restaurant_20  gender_Female  gender_Male  \\\n",
       "0                        0                     0              1            0   \n",
       "1                        0                     0              0            1   \n",
       "2                        0                     0              1            0   \n",
       "3                        0                     0              0            1   \n",
       "4                        0                     0              1            0   \n",
       "\n",
       "   mar_Divorced  mar_Married partner  mar_Single  mar_Unmarried partner  \\\n",
       "0             0                    0           1                      0   \n",
       "1             0                    0           0                      1   \n",
       "2             0                    1           0                      0   \n",
       "3             0                    0           0                      1   \n",
       "4             0                    1           0                      0   \n",
       "\n",
       "   mar_Widowed  \n",
       "0            0  \n",
       "1            0  \n",
       "2            0  \n",
       "3            0  \n",
       "4            0  \n",
       "\n",
       "[5 rows x 39 columns]"
      ]
     },
     "execution_count": 76,
     "metadata": {},
     "output_type": "execute_result"
    }
   ],
   "source": [
    "data_test = pd.read_csv(test_file)\n",
    "data_test.columns = ['customer_id','temperature', 'time', 'expiration', 'age', 'has_children', 'education',\n",
    "       'occupation', 'income', 'Bar', 'CoffeeHouse', 'CarryAway',\n",
    "       'RestaurantLessThan20', 'Restaurant20To50', 'toCoupon_GEQ15min',\n",
    "       'toCoupon_GEQ25min', 'direction_same', 'direction_opp', 'dest_Home',\n",
    "       'dest_No Urgent Place', 'dest_Work', 'pass_Alone', 'pass_Friends',\n",
    "       'pass_Kids', 'pass_Partner', 'weather_Rainy', 'weather_Snowy',\n",
    "       'weather_Sunny', 'coupon_Bar', 'coupon_Carry out & Take away',\n",
    "       'coupon_Coffee House', 'coupon_Restaurant_20_50',\n",
    "       'coupon_Restaurant_20', 'gender_Female', 'gender_Male',\n",
    "       'mar_Divorced', 'mar_Married partner', 'mar_Single',\n",
    "       'mar_Unmarried partner', 'mar_Widowed']\n",
    "data_test.drop(\"customer_id\", axis=1, inplace=True)\n",
    "data_test.head()"
   ]
  },
  {
   "cell_type": "code",
   "execution_count": 77,
   "metadata": {},
   "outputs": [],
   "source": [
    "ypred = model.predict(data_test)\n"
   ]
  },
  {
   "cell_type": "code",
   "execution_count": 78,
   "metadata": {},
   "outputs": [
    {
     "data": {
      "text/html": [
       "<div>\n",
       "<style scoped>\n",
       "    .dataframe tbody tr th:only-of-type {\n",
       "        vertical-align: middle;\n",
       "    }\n",
       "\n",
       "    .dataframe tbody tr th {\n",
       "        vertical-align: top;\n",
       "    }\n",
       "\n",
       "    .dataframe thead th {\n",
       "        text-align: right;\n",
       "    }\n",
       "</style>\n",
       "<table border=\"1\" class=\"dataframe\">\n",
       "  <thead>\n",
       "    <tr style=\"text-align: right;\">\n",
       "      <th></th>\n",
       "      <th>customer_id</th>\n",
       "      <th>temperature</th>\n",
       "      <th>time</th>\n",
       "      <th>expiration</th>\n",
       "      <th>age</th>\n",
       "      <th>has_children</th>\n",
       "      <th>education</th>\n",
       "      <th>occupation</th>\n",
       "      <th>income</th>\n",
       "      <th>Bar</th>\n",
       "      <th>...</th>\n",
       "      <th>coupon_Coffee House</th>\n",
       "      <th>coupon_Restaurant(20-50)</th>\n",
       "      <th>coupon_Restaurant(&lt;20)</th>\n",
       "      <th>gender_Female</th>\n",
       "      <th>gender_Male</th>\n",
       "      <th>mar_Divorced</th>\n",
       "      <th>mar_Married partner</th>\n",
       "      <th>mar_Single</th>\n",
       "      <th>mar_Unmarried partner</th>\n",
       "      <th>mar_Widowed</th>\n",
       "    </tr>\n",
       "  </thead>\n",
       "  <tbody>\n",
       "    <tr>\n",
       "      <th>0</th>\n",
       "      <td>374679</td>\n",
       "      <td>80</td>\n",
       "      <td>4</td>\n",
       "      <td>1</td>\n",
       "      <td>0</td>\n",
       "      <td>0</td>\n",
       "      <td>3</td>\n",
       "      <td>2</td>\n",
       "      <td>1</td>\n",
       "      <td>1</td>\n",
       "      <td>...</td>\n",
       "      <td>1</td>\n",
       "      <td>0</td>\n",
       "      <td>0</td>\n",
       "      <td>1</td>\n",
       "      <td>0</td>\n",
       "      <td>0</td>\n",
       "      <td>0</td>\n",
       "      <td>1</td>\n",
       "      <td>0</td>\n",
       "      <td>0</td>\n",
       "    </tr>\n",
       "    <tr>\n",
       "      <th>1</th>\n",
       "      <td>469678</td>\n",
       "      <td>80</td>\n",
       "      <td>4</td>\n",
       "      <td>2</td>\n",
       "      <td>1</td>\n",
       "      <td>0</td>\n",
       "      <td>2</td>\n",
       "      <td>2</td>\n",
       "      <td>2</td>\n",
       "      <td>3</td>\n",
       "      <td>...</td>\n",
       "      <td>0</td>\n",
       "      <td>0</td>\n",
       "      <td>0</td>\n",
       "      <td>0</td>\n",
       "      <td>1</td>\n",
       "      <td>0</td>\n",
       "      <td>0</td>\n",
       "      <td>0</td>\n",
       "      <td>1</td>\n",
       "      <td>0</td>\n",
       "    </tr>\n",
       "    <tr>\n",
       "      <th>2</th>\n",
       "      <td>216140</td>\n",
       "      <td>55</td>\n",
       "      <td>2</td>\n",
       "      <td>1</td>\n",
       "      <td>1</td>\n",
       "      <td>1</td>\n",
       "      <td>3</td>\n",
       "      <td>1</td>\n",
       "      <td>3</td>\n",
       "      <td>1</td>\n",
       "      <td>...</td>\n",
       "      <td>1</td>\n",
       "      <td>0</td>\n",
       "      <td>0</td>\n",
       "      <td>1</td>\n",
       "      <td>0</td>\n",
       "      <td>0</td>\n",
       "      <td>1</td>\n",
       "      <td>0</td>\n",
       "      <td>0</td>\n",
       "      <td>0</td>\n",
       "    </tr>\n",
       "    <tr>\n",
       "      <th>3</th>\n",
       "      <td>184301</td>\n",
       "      <td>80</td>\n",
       "      <td>4</td>\n",
       "      <td>1</td>\n",
       "      <td>3</td>\n",
       "      <td>1</td>\n",
       "      <td>4</td>\n",
       "      <td>3</td>\n",
       "      <td>5</td>\n",
       "      <td>1</td>\n",
       "      <td>...</td>\n",
       "      <td>0</td>\n",
       "      <td>0</td>\n",
       "      <td>0</td>\n",
       "      <td>0</td>\n",
       "      <td>1</td>\n",
       "      <td>0</td>\n",
       "      <td>0</td>\n",
       "      <td>0</td>\n",
       "      <td>1</td>\n",
       "      <td>0</td>\n",
       "    </tr>\n",
       "    <tr>\n",
       "      <th>4</th>\n",
       "      <td>148720</td>\n",
       "      <td>30</td>\n",
       "      <td>1</td>\n",
       "      <td>1</td>\n",
       "      <td>1</td>\n",
       "      <td>0</td>\n",
       "      <td>3</td>\n",
       "      <td>2</td>\n",
       "      <td>7</td>\n",
       "      <td>1</td>\n",
       "      <td>...</td>\n",
       "      <td>0</td>\n",
       "      <td>0</td>\n",
       "      <td>0</td>\n",
       "      <td>1</td>\n",
       "      <td>0</td>\n",
       "      <td>0</td>\n",
       "      <td>1</td>\n",
       "      <td>0</td>\n",
       "      <td>0</td>\n",
       "      <td>0</td>\n",
       "    </tr>\n",
       "  </tbody>\n",
       "</table>\n",
       "<p>5 rows × 40 columns</p>\n",
       "</div>"
      ],
      "text/plain": [
       "   customer_id  temperature  time  expiration  age  has_children  education  \\\n",
       "0       374679           80     4           1    0             0          3   \n",
       "1       469678           80     4           2    1             0          2   \n",
       "2       216140           55     2           1    1             1          3   \n",
       "3       184301           80     4           1    3             1          4   \n",
       "4       148720           30     1           1    1             0          3   \n",
       "\n",
       "   occupation  income  Bar  ...  coupon_Coffee House  \\\n",
       "0           2       1    1  ...                    1   \n",
       "1           2       2    3  ...                    0   \n",
       "2           1       3    1  ...                    1   \n",
       "3           3       5    1  ...                    0   \n",
       "4           2       7    1  ...                    0   \n",
       "\n",
       "   coupon_Restaurant(20-50)  coupon_Restaurant(<20)  gender_Female  \\\n",
       "0                         0                       0              1   \n",
       "1                         0                       0              0   \n",
       "2                         0                       0              1   \n",
       "3                         0                       0              0   \n",
       "4                         0                       0              1   \n",
       "\n",
       "   gender_Male  mar_Divorced  mar_Married partner  mar_Single  \\\n",
       "0            0             0                    0           1   \n",
       "1            1             0                    0           0   \n",
       "2            0             0                    1           0   \n",
       "3            1             0                    0           0   \n",
       "4            0             0                    1           0   \n",
       "\n",
       "   mar_Unmarried partner  mar_Widowed  \n",
       "0                      0            0  \n",
       "1                      1            0  \n",
       "2                      0            0  \n",
       "3                      1            0  \n",
       "4                      0            0  \n",
       "\n",
       "[5 rows x 40 columns]"
      ]
     },
     "execution_count": 78,
     "metadata": {},
     "output_type": "execute_result"
    }
   ],
   "source": [
    "# read the test file to obtain customer_id\n",
    "\n",
    "data_test_df=pd.read_csv(test_file)\n",
    "data_test_df.head()\n"
   ]
  },
  {
   "cell_type": "code",
   "execution_count": 79,
   "metadata": {},
   "outputs": [
    {
     "data": {
      "text/plain": [
       "((2537, 2), (2537, 40))"
      ]
     },
     "execution_count": 79,
     "metadata": {},
     "output_type": "execute_result"
    }
   ],
   "source": [
    "# create submission file with test customers and their predictions\n",
    "\n",
    "submission_df=pd.DataFrame({\n",
    "    \"customer_id\": data_test_df['customer_id'],\n",
    "    \"Y\": ypred\n",
    "})\n",
    "\n",
    "submission_df.shape, data_test_df.shape"
   ]
  },
  {
   "cell_type": "code",
   "execution_count": 80,
   "metadata": {},
   "outputs": [],
   "source": [
    "submission_df.to_csv('submission_xgb.csv', index=False)"
   ]
  },
  {
   "cell_type": "code",
   "execution_count": null,
   "metadata": {},
   "outputs": [],
   "source": []
  }
 ],
 "metadata": {
  "kernelspec": {
   "display_name": "Python 3 (ipykernel)",
   "language": "python",
   "name": "python3"
  },
  "language_info": {
   "codemirror_mode": {
    "name": "ipython",
    "version": 3
   },
   "file_extension": ".py",
   "mimetype": "text/x-python",
   "name": "python",
   "nbconvert_exporter": "python",
   "pygments_lexer": "ipython3",
   "version": "3.8.18"
  }
 },
 "nbformat": 4,
 "nbformat_minor": 4
}
