{
 "cells": [
  {
   "cell_type": "markdown",
   "metadata": {},
   "source": [
    "# <center> POSTGRADUATE CERTIFICATE PROGRAM IN DATA SCIENCE AND MACHINE LEARNING (PGCP-DSML)</center>"
   ]
  },
  {
   "cell_type": "markdown",
   "metadata": {},
   "source": [
    "## <center> Hackathon 2  </center>"
   ]
  },
  {
   "cell_type": "markdown",
   "metadata": {},
   "source": [
    "## <center> Classification Models  </center>"
   ]
  },
  {
   "cell_type": "markdown",
   "metadata": {},
   "source": [
    "## <center> Submitted by Mighty Condas </center>"
   ]
  },
  {
   "cell_type": "code",
   "execution_count": 1,
   "metadata": {},
   "outputs": [],
   "source": [
    "input_file= \"Data_Preprocess_Train.csv\"\n",
    "test_file  = \"Data_Preprocess_Test.csv\""
   ]
  },
  {
   "cell_type": "code",
   "execution_count": 2,
   "metadata": {},
   "outputs": [],
   "source": [
    "master_models_list = ['LogisticRegression', 'SVC', 'KNeighborsClassifier', 'GaussianNB', \\\n",
    "               'DecisionTreeClassifier', 'BaggingClassifier', 'RandomForestClassifier',\\\n",
    "               'GradientBoostingClassifier', 'AdaBoostClassifier','XGBClassifier']"
   ]
  },
  {
   "cell_type": "code",
   "execution_count": 3,
   "metadata": {},
   "outputs": [
    {
     "data": {
      "text/plain": [
       "['LogisticRegression',\n",
       " 'SVC',\n",
       " 'KNeighborsClassifier',\n",
       " 'GaussianNB',\n",
       " 'DecisionTreeClassifier',\n",
       " 'BaggingClassifier',\n",
       " 'RandomForestClassifier',\n",
       " 'GradientBoostingClassifier',\n",
       " 'AdaBoostClassifier']"
      ]
     },
     "execution_count": 3,
     "metadata": {},
     "output_type": "execute_result"
    }
   ],
   "source": [
    "# models to be trained. list of models from above can be entered for automatic generation of models\n",
    "\n",
    "models_list = master_models_list\n",
    "models_list.remove('XGBClassifier')\n",
    "models_list"
   ]
  },
  {
   "cell_type": "code",
   "execution_count": 4,
   "metadata": {},
   "outputs": [],
   "source": [
    "# set to true if best parameters need to be calculated using gridsearch\n",
    "get_params = True"
   ]
  },
  {
   "cell_type": "code",
   "execution_count": 5,
   "metadata": {
    "scrolled": true
   },
   "outputs": [],
   "source": [
    "# import necessary libraries\n",
    "\n",
    "import numpy as np \n",
    "import pandas as pd\n",
    "import matplotlib.pyplot as plt \n",
    "import seaborn as sns; sns.set()\n",
    "sns.set(font_scale = 1.3)\n",
    "%matplotlib inline\n",
    "plt.rcParams.update({'font.size': 15})\n",
    "\n",
    "pd.set_option('display.max_rows', None)\n",
    "pd.set_option('display.max_columns', None)"
   ]
  },
  {
   "cell_type": "code",
   "execution_count": 6,
   "metadata": {
    "scrolled": true
   },
   "outputs": [],
   "source": [
    "from sklearn.linear_model import LogisticRegression\n",
    "from sklearn.svm import SVC\n",
    "from sklearn.neighbors import KNeighborsClassifier\n",
    "from sklearn.naive_bayes import GaussianNB\n",
    "from sklearn.tree import DecisionTreeClassifier\n",
    "\n",
    "from sklearn.ensemble import BaggingClassifier\n",
    "from sklearn.ensemble import RandomForestClassifier\n",
    "from sklearn.ensemble import GradientBoostingClassifier\n",
    "from sklearn.ensemble import AdaBoostClassifier\n",
    "# from xgboost import XGBClassifier\n",
    "\n",
    "from sklearn.model_selection import GridSearchCV\n",
    "from sklearn.model_selection import RandomizedSearchCV\n",
    "\n",
    "from sklearn.metrics import classification_report, confusion_matrix\n",
    "from sklearn.metrics import accuracy_score, f1_score, auc, roc_curve\n",
    "\n",
    "import warnings\n",
    "warnings.filterwarnings('ignore')"
   ]
  },
  {
   "cell_type": "code",
   "execution_count": 7,
   "metadata": {},
   "outputs": [
    {
     "name": "stdout",
     "output_type": "stream",
     "text": [
      "current time:- 04-05-2022 09-50-18\n"
     ]
    }
   ],
   "source": [
    "# get current time for creating folder for saving predictions\n",
    "\n",
    "from datetime import datetime\n",
    "\n",
    "now = datetime.now() # current date and time\n",
    "dt = now.strftime(\"%m/%d/%Y, %H:%M:%S\")\n",
    "dt = dt.replace(',',\"\")\n",
    "dt = dt.replace('/',\"-\")\n",
    "dt = dt.replace(':',\"-\")\n",
    "print(\"current time:-\", dt)\n",
    "\n"
   ]
  },
  {
   "cell_type": "code",
   "execution_count": 8,
   "metadata": {},
   "outputs": [
    {
     "data": {
      "text/plain": [
       "'Predictions/04-05-2022 09-50-18/'"
      ]
     },
     "metadata": {},
     "output_type": "display_data"
    }
   ],
   "source": [
    "# create folder name with timestamp to store metrics and target data\n",
    "folder_name = 'Predictions/' + dt +'/'\n",
    "display(folder_name)\n",
    "\n",
    "# create folder\n",
    "import os\n",
    "if not os.path.exists(folder_name):\n",
    "    os.makedirs(folder_name)"
   ]
  },
  {
   "cell_type": "markdown",
   "metadata": {},
   "source": [
    "Steps followed:"
   ]
  },
  {
   "cell_type": "markdown",
   "metadata": {},
   "source": [
    "\n",
    "-   For each model:\n",
    "1.   Build the model and fit the data\n",
    "2.   Plot the function \n",
    "3.   Calculate MSE and R2 score of the fitting"
   ]
  },
  {
   "cell_type": "code",
   "execution_count": 9,
   "metadata": {},
   "outputs": [],
   "source": [
    "# Xdata and ydata are training data\n",
    "# Using grid search to get the best parameters for the model\n",
    "\n",
    "def get_best_params(model, param_range, Xdata, ydata):\n",
    "    \n",
    "    cv_param = GridSearchCV(estimator=model, param_grid= param_range,\n",
    "                          cv=10, return_train_score=True).fit(Xdata, ydata)\n",
    "    display()\n",
    "    return(cv_param.best_params_)"
   ]
  },
  {
   "cell_type": "code",
   "execution_count": 10,
   "metadata": {},
   "outputs": [],
   "source": [
    "# this function calculates tp, tn, fp and fn for binary and multiclass data\n",
    "\n",
    "def calc_from_conf_matrix(actual, predicted):\n",
    "    \n",
    "\n",
    "\n",
    "    cm = confusion_matrix(actual, predicted)\n",
    "    \n",
    "    tp_lst = []\n",
    "    tn_lst = []\n",
    "    fp_lst = []\n",
    "    fn_lst = []\n",
    "\n",
    "    sum_diagonal = np.trace(cm)\n",
    "\n",
    "    for i in range(cm.shape[0]):\n",
    "    \n",
    "#        for j in range(cm.shape[1]):\n",
    "            \n",
    "#            if (i == j):\n",
    "#                tp_lst.append(cm[i,j])\n",
    "\n",
    "        tp_lst.append(cm[i,i])    \n",
    "        tn_lst.append(sum_diagonal - cm[i][i])\n",
    "        fp_lst.append(np.sum(cm[:,i], axis=0) - cm[i][i])\n",
    "        fn_lst.append(np.sum(cm[i,:]) - cm[i][i])\n",
    "            \n",
    "        return (np.mean(tn_lst),\n",
    "               np.mean(fp_lst),\n",
    "               np.mean(fn_lst),\n",
    "               np.sum(tp_lst))\n",
    "    \n",
    "    \n",
    "  "
   ]
  },
  {
   "cell_type": "code",
   "execution_count": 11,
   "metadata": {},
   "outputs": [],
   "source": [
    "# function to get model metrics\n",
    "\n",
    "def get_model_metrics(actual, predicted, classifier_name):\n",
    "    \n",
    "    acc            = accuracy_score(actual, predicted)\n",
    "    f1             = np.mean(f1_score(actual, predicted, average=None))\n",
    "    \n",
    "    tn, fp, fn, tp = confusion_matrix(actual, predicted).ravel()\n",
    "#    tn, fp, fn, tp = calc_from_conf_matrix(actual, predicted)\n",
    "    sensitivity    = tp / (tp + fn)\n",
    "    specificity    = tn / (tn + fp)\n",
    "    fpr, tpr, thresholds = roc_curve(actual, predicted, pos_label=1)\n",
    "    auc_value      = auc(fpr, tpr)\n",
    "    \n",
    "    display(acc)\n",
    "    return {'Classifier_Name': classifier_name,\n",
    "            'Accuracy'       : acc,\n",
    "            'F1_Score'       : f1,\n",
    "            'Sensitivity'    : sensitivity,\n",
    "            'Specificity'    : specificity,\n",
    "            'AUC'            : auc_value,\n",
    "            'FPR_Values'     : fpr,\n",
    "            'TPR_Values'     : tpr}"
   ]
  },
  {
   "cell_type": "code",
   "execution_count": 12,
   "metadata": {},
   "outputs": [],
   "source": [
    "# function that gets does prediction and plots results\n",
    "\n",
    "def perform_classification_function(model_name, model_instance, parameters, Xtrain, Xtest, ytrain, ytest):\n",
    "    \n",
    "    # predict y using the model instance\n",
    "    ypred   = model_instance.predict(Xtest)\n",
    "    \n",
    "    print(\"Classification Report\")\n",
    "    print(\"=====================\")\n",
    "    print(classification_report(ytest, ypred))\n",
    "    \n",
    "    print(\"Confusion Matrix\")\n",
    "    print(\"================\")\n",
    "    print(confusion_matrix(ytest, ypred))\n",
    "    \n",
    "# display the heatmap and decision boundaries map side-by-side\n",
    "#    sns.heatmap(confusion_matrix(ytest, ypred), annot=True, cmap='crest',  linewidths=0.5, ax=axes1,fmt='d')\n",
    "    \n",
    "#    display_decision_boundaries(model_name, model_instance, parameters, Xtest, ytest, axes2)\n",
    "    \n",
    "    model_metrics = get_model_metrics(ytest, ypred, model_name)\n",
    "    \n",
    "    \n",
    "    return model_metrics"
   ]
  },
  {
   "cell_type": "code",
   "execution_count": 13,
   "metadata": {
    "scrolled": true
   },
   "outputs": [
    {
     "data": {
      "text/html": [
       "<div>\n",
       "<style scoped>\n",
       "    .dataframe tbody tr th:only-of-type {\n",
       "        vertical-align: middle;\n",
       "    }\n",
       "\n",
       "    .dataframe tbody tr th {\n",
       "        vertical-align: top;\n",
       "    }\n",
       "\n",
       "    .dataframe thead th {\n",
       "        text-align: right;\n",
       "    }\n",
       "</style>\n",
       "<table border=\"1\" class=\"dataframe\">\n",
       "  <thead>\n",
       "    <tr style=\"text-align: right;\">\n",
       "      <th></th>\n",
       "      <th>Classifier_Name</th>\n",
       "      <th>Param_List</th>\n",
       "      <th>Accuracy</th>\n",
       "      <th>F1_Score</th>\n",
       "      <th>Sensitivity</th>\n",
       "      <th>Specificity</th>\n",
       "      <th>AUC</th>\n",
       "      <th>FPR_Values</th>\n",
       "      <th>TPR_Values</th>\n",
       "    </tr>\n",
       "  </thead>\n",
       "  <tbody>\n",
       "  </tbody>\n",
       "</table>\n",
       "</div>"
      ],
      "text/plain": [
       "Empty DataFrame\n",
       "Columns: [Classifier_Name, Param_List, Accuracy, F1_Score, Sensitivity, Specificity, AUC, FPR_Values, TPR_Values]\n",
       "Index: []"
      ]
     },
     "execution_count": 13,
     "metadata": {},
     "output_type": "execute_result"
    }
   ],
   "source": [
    "# create dataframe with model metrics for displaying the results\n",
    "\n",
    "column_names = [\"Classifier_Name\", \"Param_List\",\"Accuracy\", 'F1_Score', \"Sensitivity\", \"Specificity\",\\\n",
    "                \"AUC\", \"FPR_Values\", \"TPR_Values\"]\n",
    "metrics_df   = pd.DataFrame(columns=column_names)\n",
    "metrics_df"
   ]
  },
  {
   "cell_type": "code",
   "execution_count": null,
   "metadata": {},
   "outputs": [],
   "source": []
  },
  {
   "cell_type": "markdown",
   "metadata": {},
   "source": [
    "---"
   ]
  },
  {
   "cell_type": "code",
   "execution_count": 14,
   "metadata": {
    "scrolled": true
   },
   "outputs": [],
   "source": [
    "import numpy as np \n",
    "import matplotlib.pyplot as plt "
   ]
  },
  {
   "cell_type": "code",
   "execution_count": 15,
   "metadata": {},
   "outputs": [
    {
     "data": {
      "text/html": [
       "<div>\n",
       "<style scoped>\n",
       "    .dataframe tbody tr th:only-of-type {\n",
       "        vertical-align: middle;\n",
       "    }\n",
       "\n",
       "    .dataframe tbody tr th {\n",
       "        vertical-align: top;\n",
       "    }\n",
       "\n",
       "    .dataframe thead th {\n",
       "        text-align: right;\n",
       "    }\n",
       "</style>\n",
       "<table border=\"1\" class=\"dataframe\">\n",
       "  <thead>\n",
       "    <tr style=\"text-align: right;\">\n",
       "      <th></th>\n",
       "      <th>customer_id</th>\n",
       "      <th>temperature</th>\n",
       "      <th>time</th>\n",
       "      <th>expiration</th>\n",
       "      <th>age</th>\n",
       "      <th>has_children</th>\n",
       "      <th>education</th>\n",
       "      <th>occupation</th>\n",
       "      <th>income</th>\n",
       "      <th>Bar</th>\n",
       "      <th>CoffeeHouse</th>\n",
       "      <th>CarryAway</th>\n",
       "      <th>RestaurantLessThan20</th>\n",
       "      <th>Restaurant20To50</th>\n",
       "      <th>toCoupon_GEQ15min</th>\n",
       "      <th>toCoupon_GEQ25min</th>\n",
       "      <th>direction_same</th>\n",
       "      <th>direction_opp</th>\n",
       "      <th>Y</th>\n",
       "      <th>dest_Home</th>\n",
       "      <th>dest_No Urgent Place</th>\n",
       "      <th>dest_Work</th>\n",
       "      <th>pass_Alone</th>\n",
       "      <th>pass_Friend(s)</th>\n",
       "      <th>pass_Kid(s)</th>\n",
       "      <th>pass_Partner</th>\n",
       "      <th>weather_Rainy</th>\n",
       "      <th>weather_Snowy</th>\n",
       "      <th>weather_Sunny</th>\n",
       "      <th>coupon_Bar</th>\n",
       "      <th>coupon_Carry out &amp; Take away</th>\n",
       "      <th>coupon_Coffee House</th>\n",
       "      <th>coupon_Restaurant(20-50)</th>\n",
       "      <th>coupon_Restaurant(&lt;20)</th>\n",
       "      <th>gender_Female</th>\n",
       "      <th>gender_Male</th>\n",
       "      <th>mar_Divorced</th>\n",
       "      <th>mar_Married partner</th>\n",
       "      <th>mar_Single</th>\n",
       "      <th>mar_Unmarried partner</th>\n",
       "      <th>mar_Widowed</th>\n",
       "    </tr>\n",
       "  </thead>\n",
       "  <tbody>\n",
       "    <tr>\n",
       "      <th>0</th>\n",
       "      <td>258868</td>\n",
       "      <td>80</td>\n",
       "      <td>4</td>\n",
       "      <td>1</td>\n",
       "      <td>1</td>\n",
       "      <td>0</td>\n",
       "      <td>3</td>\n",
       "      <td>0</td>\n",
       "      <td>1</td>\n",
       "      <td>2</td>\n",
       "      <td>3</td>\n",
       "      <td>4</td>\n",
       "      <td>4</td>\n",
       "      <td>1</td>\n",
       "      <td>1</td>\n",
       "      <td>0</td>\n",
       "      <td>0</td>\n",
       "      <td>1</td>\n",
       "      <td>1</td>\n",
       "      <td>0</td>\n",
       "      <td>1</td>\n",
       "      <td>0</td>\n",
       "      <td>0</td>\n",
       "      <td>1</td>\n",
       "      <td>0</td>\n",
       "      <td>0</td>\n",
       "      <td>0</td>\n",
       "      <td>0</td>\n",
       "      <td>1</td>\n",
       "      <td>0</td>\n",
       "      <td>0</td>\n",
       "      <td>0</td>\n",
       "      <td>0</td>\n",
       "      <td>1</td>\n",
       "      <td>0</td>\n",
       "      <td>1</td>\n",
       "      <td>0</td>\n",
       "      <td>0</td>\n",
       "      <td>0</td>\n",
       "      <td>1</td>\n",
       "      <td>0</td>\n",
       "    </tr>\n",
       "    <tr>\n",
       "      <th>1</th>\n",
       "      <td>318369</td>\n",
       "      <td>80</td>\n",
       "      <td>1</td>\n",
       "      <td>2</td>\n",
       "      <td>1</td>\n",
       "      <td>0</td>\n",
       "      <td>5</td>\n",
       "      <td>0</td>\n",
       "      <td>4</td>\n",
       "      <td>2</td>\n",
       "      <td>3</td>\n",
       "      <td>4</td>\n",
       "      <td>3</td>\n",
       "      <td>2</td>\n",
       "      <td>0</td>\n",
       "      <td>0</td>\n",
       "      <td>1</td>\n",
       "      <td>0</td>\n",
       "      <td>0</td>\n",
       "      <td>0</td>\n",
       "      <td>0</td>\n",
       "      <td>1</td>\n",
       "      <td>1</td>\n",
       "      <td>0</td>\n",
       "      <td>0</td>\n",
       "      <td>0</td>\n",
       "      <td>0</td>\n",
       "      <td>0</td>\n",
       "      <td>1</td>\n",
       "      <td>0</td>\n",
       "      <td>0</td>\n",
       "      <td>0</td>\n",
       "      <td>0</td>\n",
       "      <td>1</td>\n",
       "      <td>0</td>\n",
       "      <td>1</td>\n",
       "      <td>0</td>\n",
       "      <td>0</td>\n",
       "      <td>1</td>\n",
       "      <td>0</td>\n",
       "      <td>0</td>\n",
       "    </tr>\n",
       "    <tr>\n",
       "      <th>2</th>\n",
       "      <td>320906</td>\n",
       "      <td>80</td>\n",
       "      <td>2</td>\n",
       "      <td>2</td>\n",
       "      <td>1</td>\n",
       "      <td>0</td>\n",
       "      <td>3</td>\n",
       "      <td>0</td>\n",
       "      <td>1</td>\n",
       "      <td>2</td>\n",
       "      <td>5</td>\n",
       "      <td>4</td>\n",
       "      <td>3</td>\n",
       "      <td>3</td>\n",
       "      <td>1</td>\n",
       "      <td>0</td>\n",
       "      <td>0</td>\n",
       "      <td>1</td>\n",
       "      <td>0</td>\n",
       "      <td>0</td>\n",
       "      <td>1</td>\n",
       "      <td>0</td>\n",
       "      <td>1</td>\n",
       "      <td>0</td>\n",
       "      <td>0</td>\n",
       "      <td>0</td>\n",
       "      <td>0</td>\n",
       "      <td>0</td>\n",
       "      <td>1</td>\n",
       "      <td>0</td>\n",
       "      <td>0</td>\n",
       "      <td>1</td>\n",
       "      <td>0</td>\n",
       "      <td>0</td>\n",
       "      <td>1</td>\n",
       "      <td>0</td>\n",
       "      <td>0</td>\n",
       "      <td>1</td>\n",
       "      <td>0</td>\n",
       "      <td>0</td>\n",
       "      <td>0</td>\n",
       "    </tr>\n",
       "    <tr>\n",
       "      <th>3</th>\n",
       "      <td>412393</td>\n",
       "      <td>55</td>\n",
       "      <td>1</td>\n",
       "      <td>2</td>\n",
       "      <td>1</td>\n",
       "      <td>0</td>\n",
       "      <td>5</td>\n",
       "      <td>2</td>\n",
       "      <td>3</td>\n",
       "      <td>2</td>\n",
       "      <td>2</td>\n",
       "      <td>4</td>\n",
       "      <td>3</td>\n",
       "      <td>1</td>\n",
       "      <td>1</td>\n",
       "      <td>1</td>\n",
       "      <td>0</td>\n",
       "      <td>1</td>\n",
       "      <td>0</td>\n",
       "      <td>0</td>\n",
       "      <td>0</td>\n",
       "      <td>1</td>\n",
       "      <td>1</td>\n",
       "      <td>0</td>\n",
       "      <td>0</td>\n",
       "      <td>0</td>\n",
       "      <td>1</td>\n",
       "      <td>0</td>\n",
       "      <td>0</td>\n",
       "      <td>0</td>\n",
       "      <td>0</td>\n",
       "      <td>0</td>\n",
       "      <td>0</td>\n",
       "      <td>1</td>\n",
       "      <td>1</td>\n",
       "      <td>0</td>\n",
       "      <td>0</td>\n",
       "      <td>0</td>\n",
       "      <td>1</td>\n",
       "      <td>0</td>\n",
       "      <td>0</td>\n",
       "    </tr>\n",
       "    <tr>\n",
       "      <th>4</th>\n",
       "      <td>290854</td>\n",
       "      <td>30</td>\n",
       "      <td>4</td>\n",
       "      <td>1</td>\n",
       "      <td>1</td>\n",
       "      <td>0</td>\n",
       "      <td>3</td>\n",
       "      <td>1</td>\n",
       "      <td>2</td>\n",
       "      <td>3</td>\n",
       "      <td>2</td>\n",
       "      <td>4</td>\n",
       "      <td>2</td>\n",
       "      <td>1</td>\n",
       "      <td>1</td>\n",
       "      <td>0</td>\n",
       "      <td>0</td>\n",
       "      <td>1</td>\n",
       "      <td>0</td>\n",
       "      <td>1</td>\n",
       "      <td>0</td>\n",
       "      <td>0</td>\n",
       "      <td>1</td>\n",
       "      <td>0</td>\n",
       "      <td>0</td>\n",
       "      <td>0</td>\n",
       "      <td>0</td>\n",
       "      <td>1</td>\n",
       "      <td>0</td>\n",
       "      <td>0</td>\n",
       "      <td>0</td>\n",
       "      <td>1</td>\n",
       "      <td>0</td>\n",
       "      <td>0</td>\n",
       "      <td>0</td>\n",
       "      <td>1</td>\n",
       "      <td>0</td>\n",
       "      <td>0</td>\n",
       "      <td>1</td>\n",
       "      <td>0</td>\n",
       "      <td>0</td>\n",
       "    </tr>\n",
       "  </tbody>\n",
       "</table>\n",
       "</div>"
      ],
      "text/plain": [
       "   customer_id  temperature  time  expiration  age  has_children  education  \\\n",
       "0       258868           80     4           1    1             0          3   \n",
       "1       318369           80     1           2    1             0          5   \n",
       "2       320906           80     2           2    1             0          3   \n",
       "3       412393           55     1           2    1             0          5   \n",
       "4       290854           30     4           1    1             0          3   \n",
       "\n",
       "   occupation  income  Bar  CoffeeHouse  CarryAway  RestaurantLessThan20  \\\n",
       "0           0       1    2            3          4                     4   \n",
       "1           0       4    2            3          4                     3   \n",
       "2           0       1    2            5          4                     3   \n",
       "3           2       3    2            2          4                     3   \n",
       "4           1       2    3            2          4                     2   \n",
       "\n",
       "   Restaurant20To50  toCoupon_GEQ15min  toCoupon_GEQ25min  direction_same  \\\n",
       "0                 1                  1                  0               0   \n",
       "1                 2                  0                  0               1   \n",
       "2                 3                  1                  0               0   \n",
       "3                 1                  1                  1               0   \n",
       "4                 1                  1                  0               0   \n",
       "\n",
       "   direction_opp  Y  dest_Home  dest_No Urgent Place  dest_Work  pass_Alone  \\\n",
       "0              1  1          0                     1          0           0   \n",
       "1              0  0          0                     0          1           1   \n",
       "2              1  0          0                     1          0           1   \n",
       "3              1  0          0                     0          1           1   \n",
       "4              1  0          1                     0          0           1   \n",
       "\n",
       "   pass_Friend(s)  pass_Kid(s)  pass_Partner  weather_Rainy  weather_Snowy  \\\n",
       "0               1            0             0              0              0   \n",
       "1               0            0             0              0              0   \n",
       "2               0            0             0              0              0   \n",
       "3               0            0             0              1              0   \n",
       "4               0            0             0              0              1   \n",
       "\n",
       "   weather_Sunny  coupon_Bar  coupon_Carry out & Take away  \\\n",
       "0              1           0                             0   \n",
       "1              1           0                             0   \n",
       "2              1           0                             0   \n",
       "3              0           0                             0   \n",
       "4              0           0                             0   \n",
       "\n",
       "   coupon_Coffee House  coupon_Restaurant(20-50)  coupon_Restaurant(<20)  \\\n",
       "0                    0                         0                       1   \n",
       "1                    0                         0                       1   \n",
       "2                    1                         0                       0   \n",
       "3                    0                         0                       1   \n",
       "4                    1                         0                       0   \n",
       "\n",
       "   gender_Female  gender_Male  mar_Divorced  mar_Married partner  mar_Single  \\\n",
       "0              0            1             0                    0           0   \n",
       "1              0            1             0                    0           1   \n",
       "2              1            0             0                    1           0   \n",
       "3              1            0             0                    0           1   \n",
       "4              0            1             0                    0           1   \n",
       "\n",
       "   mar_Unmarried partner  mar_Widowed  \n",
       "0                      1            0  \n",
       "1                      0            0  \n",
       "2                      0            0  \n",
       "3                      0            0  \n",
       "4                      0            0  "
      ]
     },
     "execution_count": 15,
     "metadata": {},
     "output_type": "execute_result"
    }
   ],
   "source": [
    "# reading the unscaled data which was output from EDA\n",
    "\n",
    "data = pd.read_csv(input_file )\n",
    "\n",
    "data.head()"
   ]
  },
  {
   "cell_type": "code",
   "execution_count": 16,
   "metadata": {},
   "outputs": [],
   "source": [
    "X_scaled = data.drop(['customer_id','Y'], axis=1)\n",
    "y = data['Y']"
   ]
  },
  {
   "cell_type": "code",
   "execution_count": 17,
   "metadata": {},
   "outputs": [
    {
     "data": {
      "text/plain": [
       "(10147, 39)"
      ]
     },
     "execution_count": 17,
     "metadata": {},
     "output_type": "execute_result"
    }
   ],
   "source": [
    "\n",
    "X_scaled.shape"
   ]
  },
  {
   "cell_type": "code",
   "execution_count": 18,
   "metadata": {
    "scrolled": true
   },
   "outputs": [
    {
     "data": {
      "text/plain": [
       "Counter({1: 5768, 0: 4379})"
      ]
     },
     "execution_count": 18,
     "metadata": {},
     "output_type": "execute_result"
    }
   ],
   "source": [
    "from collections import Counter\n",
    "Counter(y)"
   ]
  },
  {
   "cell_type": "code",
   "execution_count": 19,
   "metadata": {},
   "outputs": [],
   "source": [
    "y = np.array(y).reshape(-1,1)\n"
   ]
  },
  {
   "cell_type": "markdown",
   "metadata": {},
   "source": [
    "##### ii) Apply standard scaler function to normalize the data as per normal distribution."
   ]
  },
  {
   "cell_type": "code",
   "execution_count": 20,
   "metadata": {
    "scrolled": true
   },
   "outputs": [
    {
     "data": {
      "text/plain": [
       "(10147, 1)"
      ]
     },
     "execution_count": 20,
     "metadata": {},
     "output_type": "execute_result"
    }
   ],
   "source": [
    "#from sklearn.preprocessing import StandardScaler\n",
    "\n",
    "#ss = StandardScaler()\n",
    "#X_scaled = ss.fit_transform(X)\n",
    "#X_scaled.shape, \n",
    "y.shape\n"
   ]
  },
  {
   "cell_type": "markdown",
   "metadata": {},
   "source": [
    "##### iii) Split the dataset into 85% training and 15% testing patterns."
   ]
  },
  {
   "cell_type": "code",
   "execution_count": 21,
   "metadata": {
    "scrolled": true
   },
   "outputs": [],
   "source": [
    "from sklearn.model_selection import train_test_split\n",
    "\n",
    "Xtrain, Xtest, ytrain, ytest = train_test_split(X_scaled, y, test_size=0.15, random_state=42,\n",
    "                                               stratify=y)"
   ]
  },
  {
   "cell_type": "code",
   "execution_count": 22,
   "metadata": {},
   "outputs": [],
   "source": [
    "from sklearn.metrics import accuracy_score, f1_score"
   ]
  },
  {
   "cell_type": "markdown",
   "metadata": {},
   "source": [
    "#### Modeling all Base Classifiers to find which model works best"
   ]
  },
  {
   "cell_type": "code",
   "execution_count": 23,
   "metadata": {},
   "outputs": [
    {
     "data": {
      "text/plain": [
       "[LogisticRegression(random_state=42),\n",
       " SVC(random_state=42),\n",
       " KNeighborsClassifier(),\n",
       " GaussianNB(),\n",
       " DecisionTreeClassifier(random_state=42),\n",
       " BaggingClassifier(random_state=42),\n",
       " RandomForestClassifier(random_state=42),\n",
       " GradientBoostingClassifier(random_state=42),\n",
       " AdaBoostClassifier(random_state=42)]"
      ]
     },
     "execution_count": 23,
     "metadata": {},
     "output_type": "execute_result"
    }
   ],
   "source": [
    "# create parameters list with requried parameters for the models chosen\n",
    "# order of parameters must be same as models list\n",
    "\n",
    "RANDOM_STATE = 42\n",
    "model_instance_list = []\n",
    "\n",
    "if 'LogisticRegression' in models_list:\n",
    "    model_instance_list.append(LogisticRegression(random_state=RANDOM_STATE))\n",
    "if 'SVC' in models_list:\n",
    "    model_instance_list.append(SVC(random_state=RANDOM_STATE))\n",
    "if 'KNeighborsClassifier' in models_list:\n",
    "    model_instance_list.append(KNeighborsClassifier())\n",
    "\n",
    "#------------\n",
    "\n",
    "if 'GaussianNB' in models_list:\n",
    "    model_instance_list.append(GaussianNB())\n",
    "if 'DecisionTreeClassifier' in models_list:\n",
    "    model_instance_list.append(DecisionTreeClassifier(random_state=RANDOM_STATE))\n",
    "if 'BaggingClassifier' in models_list:\n",
    "    model_instance_list.append(BaggingClassifier(random_state=RANDOM_STATE))\n",
    "\n",
    "if 'RandomForestClassifier' in models_list:\n",
    "    model_instance_list.append(RandomForestClassifier(random_state=RANDOM_STATE))\n",
    "if 'GradientBoostingClassifier' in models_list:\n",
    "    model_instance_list.append(GradientBoostingClassifier(random_state=RANDOM_STATE))\n",
    "if 'AdaBoostClassifier' in models_list:\n",
    "    model_instance_list.append(AdaBoostClassifier(random_state=RANDOM_STATE))    \n",
    "if 'XGBClassifier' in models_list:\n",
    "    model_instance_list.append(XGBClassifier(random_state=RANDOM_STATE))     \n",
    "    \n",
    "model_instance_list\n"
   ]
  },
  {
   "cell_type": "code",
   "execution_count": 24,
   "metadata": {},
   "outputs": [],
   "source": [
    "# determine number of rows and columns for subplots based on the number of models\n",
    "\n",
    "count  = 1\n",
    "n_cols = 2\n",
    "if len(models_list) > 2:\n",
    "    n_cols = 3               # set max columns in a row to be 3\n",
    "    \n",
    "\n",
    "n_rows = (len(models_list) / n_cols) + 1"
   ]
  },
  {
   "cell_type": "code",
   "execution_count": 25,
   "metadata": {},
   "outputs": [
    {
     "data": {
      "text/plain": [
       "LogisticRegression(random_state=42)"
      ]
     },
     "metadata": {},
     "output_type": "display_data"
    },
    {
     "name": "stdout",
     "output_type": "stream",
     "text": [
      "Classification Report\n",
      "=====================\n",
      "              precision    recall  f1-score   support\n",
      "\n",
      "           0       0.67      0.59      0.63       657\n",
      "           1       0.71      0.77      0.74       866\n",
      "\n",
      "    accuracy                           0.70      1523\n",
      "   macro avg       0.69      0.68      0.68      1523\n",
      "weighted avg       0.69      0.70      0.69      1523\n",
      "\n",
      "Confusion Matrix\n",
      "================\n",
      "[[388 269]\n",
      " [195 671]]\n"
     ]
    },
    {
     "data": {
      "text/plain": [
       "0.6953381483913329"
      ]
     },
     "metadata": {},
     "output_type": "display_data"
    },
    {
     "name": "stdout",
     "output_type": "stream",
     "text": [
      "=====================================================================================================\n"
     ]
    },
    {
     "data": {
      "text/plain": [
       "SVC(random_state=42)"
      ]
     },
     "metadata": {},
     "output_type": "display_data"
    },
    {
     "name": "stdout",
     "output_type": "stream",
     "text": [
      "Classification Report\n",
      "=====================\n",
      "              precision    recall  f1-score   support\n",
      "\n",
      "           0       0.00      0.00      0.00       657\n",
      "           1       0.57      1.00      0.72       866\n",
      "\n",
      "    accuracy                           0.57      1523\n",
      "   macro avg       0.28      0.50      0.36      1523\n",
      "weighted avg       0.32      0.57      0.41      1523\n",
      "\n",
      "Confusion Matrix\n",
      "================\n",
      "[[  0 657]\n",
      " [  0 866]]\n"
     ]
    },
    {
     "data": {
      "text/plain": [
       "0.5686145764937623"
      ]
     },
     "metadata": {},
     "output_type": "display_data"
    },
    {
     "name": "stdout",
     "output_type": "stream",
     "text": [
      "=====================================================================================================\n"
     ]
    },
    {
     "data": {
      "text/plain": [
       "KNeighborsClassifier()"
      ]
     },
     "metadata": {},
     "output_type": "display_data"
    },
    {
     "name": "stdout",
     "output_type": "stream",
     "text": [
      "Classification Report\n",
      "=====================\n",
      "              precision    recall  f1-score   support\n",
      "\n",
      "           0       0.59      0.54      0.56       657\n",
      "           1       0.67      0.72      0.70       866\n",
      "\n",
      "    accuracy                           0.64      1523\n",
      "   macro avg       0.63      0.63      0.63      1523\n",
      "weighted avg       0.64      0.64      0.64      1523\n",
      "\n",
      "Confusion Matrix\n",
      "================\n",
      "[[352 305]\n",
      " [241 625]]\n"
     ]
    },
    {
     "data": {
      "text/plain": [
       "0.6414970453053185"
      ]
     },
     "metadata": {},
     "output_type": "display_data"
    },
    {
     "name": "stdout",
     "output_type": "stream",
     "text": [
      "=====================================================================================================\n"
     ]
    },
    {
     "data": {
      "text/plain": [
       "GaussianNB()"
      ]
     },
     "metadata": {},
     "output_type": "display_data"
    },
    {
     "name": "stdout",
     "output_type": "stream",
     "text": [
      "Classification Report\n",
      "=====================\n",
      "              precision    recall  f1-score   support\n",
      "\n",
      "           0       0.64      0.61      0.63       657\n",
      "           1       0.71      0.74      0.73       866\n",
      "\n",
      "    accuracy                           0.69      1523\n",
      "   macro avg       0.68      0.68      0.68      1523\n",
      "weighted avg       0.68      0.69      0.68      1523\n",
      "\n",
      "Confusion Matrix\n",
      "================\n",
      "[[400 257]\n",
      " [222 644]]\n"
     ]
    },
    {
     "data": {
      "text/plain": [
       "0.685489166119501"
      ]
     },
     "metadata": {},
     "output_type": "display_data"
    },
    {
     "name": "stdout",
     "output_type": "stream",
     "text": [
      "=====================================================================================================\n"
     ]
    },
    {
     "data": {
      "text/plain": [
       "DecisionTreeClassifier(random_state=42)"
      ]
     },
     "metadata": {},
     "output_type": "display_data"
    },
    {
     "name": "stdout",
     "output_type": "stream",
     "text": [
      "Classification Report\n",
      "=====================\n",
      "              precision    recall  f1-score   support\n",
      "\n",
      "           0       0.62      0.64      0.63       657\n",
      "           1       0.72      0.70      0.71       866\n",
      "\n",
      "    accuracy                           0.67      1523\n",
      "   macro avg       0.67      0.67      0.67      1523\n",
      "weighted avg       0.67      0.67      0.67      1523\n",
      "\n",
      "Confusion Matrix\n",
      "================\n",
      "[[420 237]\n",
      " [261 605]]\n"
     ]
    },
    {
     "data": {
      "text/plain": [
       "0.6730137885751806"
      ]
     },
     "metadata": {},
     "output_type": "display_data"
    },
    {
     "name": "stdout",
     "output_type": "stream",
     "text": [
      "=====================================================================================================\n"
     ]
    },
    {
     "data": {
      "text/plain": [
       "BaggingClassifier(random_state=42)"
      ]
     },
     "metadata": {},
     "output_type": "display_data"
    },
    {
     "name": "stdout",
     "output_type": "stream",
     "text": [
      "Classification Report\n",
      "=====================\n",
      "              precision    recall  f1-score   support\n",
      "\n",
      "           0       0.67      0.72      0.69       657\n",
      "           1       0.78      0.73      0.75       866\n",
      "\n",
      "    accuracy                           0.72      1523\n",
      "   macro avg       0.72      0.72      0.72      1523\n",
      "weighted avg       0.73      0.72      0.73      1523\n",
      "\n",
      "Confusion Matrix\n",
      "================\n",
      "[[475 182]\n",
      " [237 629]]\n"
     ]
    },
    {
     "data": {
      "text/plain": [
       "0.7248850952068286"
      ]
     },
     "metadata": {},
     "output_type": "display_data"
    },
    {
     "name": "stdout",
     "output_type": "stream",
     "text": [
      "=====================================================================================================\n"
     ]
    },
    {
     "data": {
      "text/plain": [
       "RandomForestClassifier(random_state=42)"
      ]
     },
     "metadata": {},
     "output_type": "display_data"
    },
    {
     "name": "stdout",
     "output_type": "stream",
     "text": [
      "Classification Report\n",
      "=====================\n",
      "              precision    recall  f1-score   support\n",
      "\n",
      "           0       0.75      0.67      0.71       657\n",
      "           1       0.77      0.83      0.80       866\n",
      "\n",
      "    accuracy                           0.76      1523\n",
      "   macro avg       0.76      0.75      0.75      1523\n",
      "weighted avg       0.76      0.76      0.76      1523\n",
      "\n",
      "Confusion Matrix\n",
      "================\n",
      "[[438 219]\n",
      " [143 723]]\n"
     ]
    },
    {
     "data": {
      "text/plain": [
       "0.7623112278397899"
      ]
     },
     "metadata": {},
     "output_type": "display_data"
    },
    {
     "name": "stdout",
     "output_type": "stream",
     "text": [
      "=====================================================================================================\n"
     ]
    },
    {
     "data": {
      "text/plain": [
       "GradientBoostingClassifier(random_state=42)"
      ]
     },
     "metadata": {},
     "output_type": "display_data"
    },
    {
     "name": "stdout",
     "output_type": "stream",
     "text": [
      "Classification Report\n",
      "=====================\n",
      "              precision    recall  f1-score   support\n",
      "\n",
      "           0       0.73      0.63      0.68       657\n",
      "           1       0.75      0.83      0.78       866\n",
      "\n",
      "    accuracy                           0.74      1523\n",
      "   macro avg       0.74      0.73      0.73      1523\n",
      "weighted avg       0.74      0.74      0.74      1523\n",
      "\n",
      "Confusion Matrix\n",
      "================\n",
      "[[414 243]\n",
      " [151 715]]\n"
     ]
    },
    {
     "data": {
      "text/plain": [
       "0.7413000656598818"
      ]
     },
     "metadata": {},
     "output_type": "display_data"
    },
    {
     "name": "stdout",
     "output_type": "stream",
     "text": [
      "=====================================================================================================\n"
     ]
    },
    {
     "data": {
      "text/plain": [
       "AdaBoostClassifier(random_state=42)"
      ]
     },
     "metadata": {},
     "output_type": "display_data"
    },
    {
     "name": "stdout",
     "output_type": "stream",
     "text": [
      "Classification Report\n",
      "=====================\n",
      "              precision    recall  f1-score   support\n",
      "\n",
      "           0       0.67      0.58      0.62       657\n",
      "           1       0.71      0.78      0.74       866\n",
      "\n",
      "    accuracy                           0.69      1523\n",
      "   macro avg       0.69      0.68      0.68      1523\n",
      "weighted avg       0.69      0.69      0.69      1523\n",
      "\n",
      "Confusion Matrix\n",
      "================\n",
      "[[381 276]\n",
      " [190 676]]\n"
     ]
    },
    {
     "data": {
      "text/plain": [
       "0.6940249507550886"
      ]
     },
     "metadata": {},
     "output_type": "display_data"
    },
    {
     "name": "stdout",
     "output_type": "stream",
     "text": [
      "=====================================================================================================\n"
     ]
    }
   ],
   "source": [
    "metrics_df = metrics_df.iloc[0:0]\n",
    "\n",
    "\n",
    "count = 1\n",
    "inst_list = []\n",
    "\n",
    "for i, model_name in enumerate(models_list):\n",
    "    \n",
    "# Python locals() function returns the dictionary of the current local symbol table.    \n",
    "# ** is dictionary unpacking.\n",
    "\n",
    "\n",
    "    instance = model_instance_list[i].fit(Xtrain, ytrain)\n",
    "    display(instance)\n",
    "    \n",
    "#    parameters = [ str(key)+ \" : \" + str(values)  for key, values in parameters_list[i].items()]\n",
    "#    parameters = \" \" if not parameters else str(parameters)\n",
    "    parameters = ''\n",
    "    \n",
    "    model_metrics = perform_classification_function(model_name, instance, str(parameters), Xtrain, Xtest, ytrain, ytest )\n",
    "\n",
    "    inst_list.append(instance)\n",
    "\n",
    "    metrics_df = metrics_df.append(model_metrics, ignore_index=True)\n",
    "    metrics_df.loc[(metrics_df.Classifier_Name == model_name),['Param_List']] = parameters\n",
    "    \n",
    "    \n",
    "   \n",
    "    print(\"=====================================================================================================\")\n"
   ]
  },
  {
   "cell_type": "code",
   "execution_count": 26,
   "metadata": {},
   "outputs": [
    {
     "data": {
      "text/html": [
       "<div>\n",
       "<style scoped>\n",
       "    .dataframe tbody tr th:only-of-type {\n",
       "        vertical-align: middle;\n",
       "    }\n",
       "\n",
       "    .dataframe tbody tr th {\n",
       "        vertical-align: top;\n",
       "    }\n",
       "\n",
       "    .dataframe thead th {\n",
       "        text-align: right;\n",
       "    }\n",
       "</style>\n",
       "<table border=\"1\" class=\"dataframe\">\n",
       "  <thead>\n",
       "    <tr style=\"text-align: right;\">\n",
       "      <th></th>\n",
       "      <th>Classifier_Name</th>\n",
       "      <th>Param_List</th>\n",
       "      <th>Accuracy</th>\n",
       "      <th>F1_Score</th>\n",
       "      <th>Sensitivity</th>\n",
       "      <th>Specificity</th>\n",
       "      <th>AUC</th>\n",
       "    </tr>\n",
       "  </thead>\n",
       "  <tbody>\n",
       "    <tr>\n",
       "      <th>6</th>\n",
       "      <td>RandomForestClassifier</td>\n",
       "      <td></td>\n",
       "      <td>0.762311</td>\n",
       "      <td>0.753686</td>\n",
       "      <td>0.834873</td>\n",
       "      <td>0.666667</td>\n",
       "      <td>0.750770</td>\n",
       "    </tr>\n",
       "    <tr>\n",
       "      <th>7</th>\n",
       "      <td>GradientBoostingClassifier</td>\n",
       "      <td></td>\n",
       "      <td>0.741300</td>\n",
       "      <td>0.730784</td>\n",
       "      <td>0.825635</td>\n",
       "      <td>0.630137</td>\n",
       "      <td>0.727886</td>\n",
       "    </tr>\n",
       "    <tr>\n",
       "      <th>5</th>\n",
       "      <td>BaggingClassifier</td>\n",
       "      <td></td>\n",
       "      <td>0.724885</td>\n",
       "      <td>0.722043</td>\n",
       "      <td>0.726328</td>\n",
       "      <td>0.722983</td>\n",
       "      <td>0.724656</td>\n",
       "    </tr>\n",
       "    <tr>\n",
       "      <th>0</th>\n",
       "      <td>LogisticRegression</td>\n",
       "      <td></td>\n",
       "      <td>0.695338</td>\n",
       "      <td>0.684443</td>\n",
       "      <td>0.774827</td>\n",
       "      <td>0.590563</td>\n",
       "      <td>0.682695</td>\n",
       "    </tr>\n",
       "    <tr>\n",
       "      <th>8</th>\n",
       "      <td>AdaBoostClassifier</td>\n",
       "      <td></td>\n",
       "      <td>0.694025</td>\n",
       "      <td>0.682098</td>\n",
       "      <td>0.780600</td>\n",
       "      <td>0.579909</td>\n",
       "      <td>0.680255</td>\n",
       "    </tr>\n",
       "    <tr>\n",
       "      <th>3</th>\n",
       "      <td>GaussianNB</td>\n",
       "      <td></td>\n",
       "      <td>0.685489</td>\n",
       "      <td>0.677204</td>\n",
       "      <td>0.743649</td>\n",
       "      <td>0.608828</td>\n",
       "      <td>0.676238</td>\n",
       "    </tr>\n",
       "    <tr>\n",
       "      <th>4</th>\n",
       "      <td>DecisionTreeClassifier</td>\n",
       "      <td></td>\n",
       "      <td>0.673014</td>\n",
       "      <td>0.668117</td>\n",
       "      <td>0.698614</td>\n",
       "      <td>0.639269</td>\n",
       "      <td>0.668942</td>\n",
       "    </tr>\n",
       "    <tr>\n",
       "      <th>2</th>\n",
       "      <td>KNeighborsClassifier</td>\n",
       "      <td></td>\n",
       "      <td>0.641497</td>\n",
       "      <td>0.629596</td>\n",
       "      <td>0.721709</td>\n",
       "      <td>0.535769</td>\n",
       "      <td>0.628739</td>\n",
       "    </tr>\n",
       "    <tr>\n",
       "      <th>1</th>\n",
       "      <td>SVC</td>\n",
       "      <td></td>\n",
       "      <td>0.568615</td>\n",
       "      <td>0.362495</td>\n",
       "      <td>1.000000</td>\n",
       "      <td>0.000000</td>\n",
       "      <td>0.500000</td>\n",
       "    </tr>\n",
       "  </tbody>\n",
       "</table>\n",
       "</div>"
      ],
      "text/plain": [
       "              Classifier_Name Param_List  Accuracy  F1_Score  Sensitivity  \\\n",
       "6      RandomForestClassifier             0.762311  0.753686     0.834873   \n",
       "7  GradientBoostingClassifier             0.741300  0.730784     0.825635   \n",
       "5           BaggingClassifier             0.724885  0.722043     0.726328   \n",
       "0          LogisticRegression             0.695338  0.684443     0.774827   \n",
       "8          AdaBoostClassifier             0.694025  0.682098     0.780600   \n",
       "3                  GaussianNB             0.685489  0.677204     0.743649   \n",
       "4      DecisionTreeClassifier             0.673014  0.668117     0.698614   \n",
       "2        KNeighborsClassifier             0.641497  0.629596     0.721709   \n",
       "1                         SVC             0.568615  0.362495     1.000000   \n",
       "\n",
       "   Specificity       AUC  \n",
       "6     0.666667  0.750770  \n",
       "7     0.630137  0.727886  \n",
       "5     0.722983  0.724656  \n",
       "0     0.590563  0.682695  \n",
       "8     0.579909  0.680255  \n",
       "3     0.608828  0.676238  \n",
       "4     0.639269  0.668942  \n",
       "2     0.535769  0.628739  \n",
       "1     0.000000  0.500000  "
      ]
     },
     "execution_count": 26,
     "metadata": {},
     "output_type": "execute_result"
    }
   ],
   "source": [
    "metrics_df.drop(['FPR_Values','TPR_Values'], axis=1).sort_values(by='F1_Score', ascending=False)\n"
   ]
  },
  {
   "cell_type": "code",
   "execution_count": 27,
   "metadata": {},
   "outputs": [
    {
     "data": {
      "image/png": "[encoded data removed]",
      "text/plain": [
       "<Figure size 576x360 with 1 Axes>"
      ]
     },
     "metadata": {
      "needs_background": "light"
     },
     "output_type": "display_data"
    }
   ],
   "source": [
    "plt.figure(figsize=(8,5))\n",
    "sns.set(font_scale=1)\n",
    "for row, data in metrics_df.iterrows():\n",
    "    \n",
    "    plt.plot(np.array(data.FPR_Values), np.array(data.TPR_Values), label=data.Classifier_Name)\n",
    "\n",
    "plt.savefig(folder_name + \"AUC_Comparisons.jpeg\")\n",
    "\n",
    "\n",
    "plt.legend();"
   ]
  },
  {
   "cell_type": "code",
   "execution_count": 29,
   "metadata": {},
   "outputs": [
    {
     "data": {
      "text/plain": [
       "RandomForestClassifier(random_state=42)"
      ]
     },
     "execution_count": 29,
     "metadata": {},
     "output_type": "execute_result"
    }
   ],
   "source": [
    "rf_model = RandomForestClassifier(random_state=RANDOM_STATE)\n",
    "rf_model.fit(Xtrain, ytrain)"
   ]
  },
  {
   "cell_type": "code",
   "execution_count": 36,
   "metadata": {},
   "outputs": [
    {
     "data": {
      "text/plain": [
       "array([1, 0, 0, ..., 1, 0, 0])"
      ]
     },
     "execution_count": 36,
     "metadata": {},
     "output_type": "execute_result"
    }
   ],
   "source": [
    "ypred = rf_model.predict(Xtest)\n",
    "ypred"
   ]
  },
  {
   "cell_type": "code",
   "execution_count": 37,
   "metadata": {},
   "outputs": [
    {
     "data": {
      "text/plain": [
       "array([[0],\n",
       "       [1],\n",
       "       [0],\n",
       "       ...,\n",
       "       [0],\n",
       "       [0],\n",
       "       [0]])"
      ]
     },
     "execution_count": 37,
     "metadata": {},
     "output_type": "execute_result"
    }
   ],
   "source": [
    "ytest"
   ]
  },
  {
   "cell_type": "code",
   "execution_count": 43,
   "metadata": {},
   "outputs": [
    {
     "data": {
      "text/plain": [
       "(1523, 1)"
      ]
     },
     "execution_count": 43,
     "metadata": {},
     "output_type": "execute_result"
    }
   ],
   "source": [
    "ytest.shape"
   ]
  },
  {
   "cell_type": "code",
   "execution_count": 44,
   "metadata": {},
   "outputs": [
    {
     "data": {
      "text/plain": [
       "(1523,)"
      ]
     },
     "execution_count": 44,
     "metadata": {},
     "output_type": "execute_result"
    }
   ],
   "source": [
    "ypred.shape"
   ]
  },
  {
   "cell_type": "code",
   "execution_count": 47,
   "metadata": {},
   "outputs": [
    {
     "data": {
      "text/html": [
       "<div>\n",
       "<style scoped>\n",
       "    .dataframe tbody tr th:only-of-type {\n",
       "        vertical-align: middle;\n",
       "    }\n",
       "\n",
       "    .dataframe tbody tr th {\n",
       "        vertical-align: top;\n",
       "    }\n",
       "\n",
       "    .dataframe thead th {\n",
       "        text-align: right;\n",
       "    }\n",
       "</style>\n",
       "<table border=\"1\" class=\"dataframe\">\n",
       "  <thead>\n",
       "    <tr style=\"text-align: right;\">\n",
       "      <th></th>\n",
       "      <th>temperature</th>\n",
       "      <th>time</th>\n",
       "      <th>expiration</th>\n",
       "      <th>age</th>\n",
       "      <th>has_children</th>\n",
       "      <th>education</th>\n",
       "      <th>occupation</th>\n",
       "      <th>income</th>\n",
       "      <th>Bar</th>\n",
       "      <th>CoffeeHouse</th>\n",
       "      <th>CarryAway</th>\n",
       "      <th>RestaurantLessThan20</th>\n",
       "      <th>Restaurant20To50</th>\n",
       "      <th>toCoupon_GEQ15min</th>\n",
       "      <th>toCoupon_GEQ25min</th>\n",
       "      <th>direction_same</th>\n",
       "      <th>direction_opp</th>\n",
       "      <th>dest_Home</th>\n",
       "      <th>dest_No Urgent Place</th>\n",
       "      <th>dest_Work</th>\n",
       "      <th>pass_Alone</th>\n",
       "      <th>pass_Friend(s)</th>\n",
       "      <th>pass_Kid(s)</th>\n",
       "      <th>pass_Partner</th>\n",
       "      <th>weather_Rainy</th>\n",
       "      <th>weather_Snowy</th>\n",
       "      <th>weather_Sunny</th>\n",
       "      <th>coupon_Bar</th>\n",
       "      <th>coupon_Carry out &amp; Take away</th>\n",
       "      <th>coupon_Coffee House</th>\n",
       "      <th>coupon_Restaurant(20-50)</th>\n",
       "      <th>coupon_Restaurant(&lt;20)</th>\n",
       "      <th>gender_Female</th>\n",
       "      <th>gender_Male</th>\n",
       "      <th>mar_Divorced</th>\n",
       "      <th>mar_Married partner</th>\n",
       "      <th>mar_Single</th>\n",
       "      <th>mar_Unmarried partner</th>\n",
       "      <th>mar_Widowed</th>\n",
       "    </tr>\n",
       "  </thead>\n",
       "  <tbody>\n",
       "    <tr>\n",
       "      <th>0</th>\n",
       "      <td>80</td>\n",
       "      <td>4</td>\n",
       "      <td>1</td>\n",
       "      <td>0</td>\n",
       "      <td>0</td>\n",
       "      <td>3</td>\n",
       "      <td>2</td>\n",
       "      <td>1</td>\n",
       "      <td>1</td>\n",
       "      <td>3</td>\n",
       "      <td>2</td>\n",
       "      <td>4</td>\n",
       "      <td>2</td>\n",
       "      <td>0</td>\n",
       "      <td>0</td>\n",
       "      <td>0</td>\n",
       "      <td>1</td>\n",
       "      <td>0</td>\n",
       "      <td>1</td>\n",
       "      <td>0</td>\n",
       "      <td>0</td>\n",
       "      <td>1</td>\n",
       "      <td>0</td>\n",
       "      <td>0</td>\n",
       "      <td>0</td>\n",
       "      <td>0</td>\n",
       "      <td>1</td>\n",
       "      <td>0</td>\n",
       "      <td>0</td>\n",
       "      <td>1</td>\n",
       "      <td>0</td>\n",
       "      <td>0</td>\n",
       "      <td>1</td>\n",
       "      <td>0</td>\n",
       "      <td>0</td>\n",
       "      <td>0</td>\n",
       "      <td>1</td>\n",
       "      <td>0</td>\n",
       "      <td>0</td>\n",
       "    </tr>\n",
       "    <tr>\n",
       "      <th>1</th>\n",
       "      <td>80</td>\n",
       "      <td>4</td>\n",
       "      <td>2</td>\n",
       "      <td>1</td>\n",
       "      <td>0</td>\n",
       "      <td>2</td>\n",
       "      <td>2</td>\n",
       "      <td>2</td>\n",
       "      <td>3</td>\n",
       "      <td>1</td>\n",
       "      <td>5</td>\n",
       "      <td>4</td>\n",
       "      <td>3</td>\n",
       "      <td>1</td>\n",
       "      <td>0</td>\n",
       "      <td>1</td>\n",
       "      <td>0</td>\n",
       "      <td>1</td>\n",
       "      <td>0</td>\n",
       "      <td>0</td>\n",
       "      <td>1</td>\n",
       "      <td>0</td>\n",
       "      <td>0</td>\n",
       "      <td>0</td>\n",
       "      <td>0</td>\n",
       "      <td>0</td>\n",
       "      <td>1</td>\n",
       "      <td>0</td>\n",
       "      <td>1</td>\n",
       "      <td>0</td>\n",
       "      <td>0</td>\n",
       "      <td>0</td>\n",
       "      <td>0</td>\n",
       "      <td>1</td>\n",
       "      <td>0</td>\n",
       "      <td>0</td>\n",
       "      <td>0</td>\n",
       "      <td>1</td>\n",
       "      <td>0</td>\n",
       "    </tr>\n",
       "    <tr>\n",
       "      <th>2</th>\n",
       "      <td>55</td>\n",
       "      <td>2</td>\n",
       "      <td>1</td>\n",
       "      <td>1</td>\n",
       "      <td>1</td>\n",
       "      <td>3</td>\n",
       "      <td>1</td>\n",
       "      <td>3</td>\n",
       "      <td>1</td>\n",
       "      <td>1</td>\n",
       "      <td>3</td>\n",
       "      <td>2</td>\n",
       "      <td>1</td>\n",
       "      <td>1</td>\n",
       "      <td>0</td>\n",
       "      <td>0</td>\n",
       "      <td>1</td>\n",
       "      <td>0</td>\n",
       "      <td>1</td>\n",
       "      <td>0</td>\n",
       "      <td>1</td>\n",
       "      <td>0</td>\n",
       "      <td>0</td>\n",
       "      <td>0</td>\n",
       "      <td>1</td>\n",
       "      <td>0</td>\n",
       "      <td>0</td>\n",
       "      <td>0</td>\n",
       "      <td>0</td>\n",
       "      <td>1</td>\n",
       "      <td>0</td>\n",
       "      <td>0</td>\n",
       "      <td>1</td>\n",
       "      <td>0</td>\n",
       "      <td>0</td>\n",
       "      <td>1</td>\n",
       "      <td>0</td>\n",
       "      <td>0</td>\n",
       "      <td>0</td>\n",
       "    </tr>\n",
       "    <tr>\n",
       "      <th>3</th>\n",
       "      <td>80</td>\n",
       "      <td>4</td>\n",
       "      <td>1</td>\n",
       "      <td>3</td>\n",
       "      <td>1</td>\n",
       "      <td>4</td>\n",
       "      <td>3</td>\n",
       "      <td>5</td>\n",
       "      <td>1</td>\n",
       "      <td>4</td>\n",
       "      <td>4</td>\n",
       "      <td>3</td>\n",
       "      <td>2</td>\n",
       "      <td>1</td>\n",
       "      <td>0</td>\n",
       "      <td>0</td>\n",
       "      <td>1</td>\n",
       "      <td>0</td>\n",
       "      <td>1</td>\n",
       "      <td>0</td>\n",
       "      <td>0</td>\n",
       "      <td>0</td>\n",
       "      <td>0</td>\n",
       "      <td>1</td>\n",
       "      <td>0</td>\n",
       "      <td>0</td>\n",
       "      <td>1</td>\n",
       "      <td>1</td>\n",
       "      <td>0</td>\n",
       "      <td>0</td>\n",
       "      <td>0</td>\n",
       "      <td>0</td>\n",
       "      <td>0</td>\n",
       "      <td>1</td>\n",
       "      <td>0</td>\n",
       "      <td>0</td>\n",
       "      <td>0</td>\n",
       "      <td>1</td>\n",
       "      <td>0</td>\n",
       "    </tr>\n",
       "    <tr>\n",
       "      <th>4</th>\n",
       "      <td>30</td>\n",
       "      <td>1</td>\n",
       "      <td>1</td>\n",
       "      <td>1</td>\n",
       "      <td>0</td>\n",
       "      <td>3</td>\n",
       "      <td>2</td>\n",
       "      <td>7</td>\n",
       "      <td>1</td>\n",
       "      <td>1</td>\n",
       "      <td>3</td>\n",
       "      <td>4</td>\n",
       "      <td>2</td>\n",
       "      <td>1</td>\n",
       "      <td>0</td>\n",
       "      <td>0</td>\n",
       "      <td>1</td>\n",
       "      <td>0</td>\n",
       "      <td>0</td>\n",
       "      <td>1</td>\n",
       "      <td>1</td>\n",
       "      <td>0</td>\n",
       "      <td>0</td>\n",
       "      <td>0</td>\n",
       "      <td>0</td>\n",
       "      <td>0</td>\n",
       "      <td>1</td>\n",
       "      <td>0</td>\n",
       "      <td>1</td>\n",
       "      <td>0</td>\n",
       "      <td>0</td>\n",
       "      <td>0</td>\n",
       "      <td>1</td>\n",
       "      <td>0</td>\n",
       "      <td>0</td>\n",
       "      <td>1</td>\n",
       "      <td>0</td>\n",
       "      <td>0</td>\n",
       "      <td>0</td>\n",
       "    </tr>\n",
       "  </tbody>\n",
       "</table>\n",
       "</div>"
      ],
      "text/plain": [
       "   temperature  time  expiration  age  has_children  education  occupation  \\\n",
       "0           80     4           1    0             0          3           2   \n",
       "1           80     4           2    1             0          2           2   \n",
       "2           55     2           1    1             1          3           1   \n",
       "3           80     4           1    3             1          4           3   \n",
       "4           30     1           1    1             0          3           2   \n",
       "\n",
       "   income  Bar  CoffeeHouse  CarryAway  RestaurantLessThan20  \\\n",
       "0       1    1            3          2                     4   \n",
       "1       2    3            1          5                     4   \n",
       "2       3    1            1          3                     2   \n",
       "3       5    1            4          4                     3   \n",
       "4       7    1            1          3                     4   \n",
       "\n",
       "   Restaurant20To50  toCoupon_GEQ15min  toCoupon_GEQ25min  direction_same  \\\n",
       "0                 2                  0                  0               0   \n",
       "1                 3                  1                  0               1   \n",
       "2                 1                  1                  0               0   \n",
       "3                 2                  1                  0               0   \n",
       "4                 2                  1                  0               0   \n",
       "\n",
       "   direction_opp  dest_Home  dest_No Urgent Place  dest_Work  pass_Alone  \\\n",
       "0              1          0                     1          0           0   \n",
       "1              0          1                     0          0           1   \n",
       "2              1          0                     1          0           1   \n",
       "3              1          0                     1          0           0   \n",
       "4              1          0                     0          1           1   \n",
       "\n",
       "   pass_Friend(s)  pass_Kid(s)  pass_Partner  weather_Rainy  weather_Snowy  \\\n",
       "0               1            0             0              0              0   \n",
       "1               0            0             0              0              0   \n",
       "2               0            0             0              1              0   \n",
       "3               0            0             1              0              0   \n",
       "4               0            0             0              0              0   \n",
       "\n",
       "   weather_Sunny  coupon_Bar  coupon_Carry out & Take away  \\\n",
       "0              1           0                             0   \n",
       "1              1           0                             1   \n",
       "2              0           0                             0   \n",
       "3              1           1                             0   \n",
       "4              1           0                             1   \n",
       "\n",
       "   coupon_Coffee House  coupon_Restaurant(20-50)  coupon_Restaurant(<20)  \\\n",
       "0                    1                         0                       0   \n",
       "1                    0                         0                       0   \n",
       "2                    1                         0                       0   \n",
       "3                    0                         0                       0   \n",
       "4                    0                         0                       0   \n",
       "\n",
       "   gender_Female  gender_Male  mar_Divorced  mar_Married partner  mar_Single  \\\n",
       "0              1            0             0                    0           1   \n",
       "1              0            1             0                    0           0   \n",
       "2              1            0             0                    1           0   \n",
       "3              0            1             0                    0           0   \n",
       "4              1            0             0                    1           0   \n",
       "\n",
       "   mar_Unmarried partner  mar_Widowed  \n",
       "0                      0            0  \n",
       "1                      1            0  \n",
       "2                      0            0  \n",
       "3                      1            0  \n",
       "4                      0            0  "
      ]
     },
     "execution_count": 47,
     "metadata": {},
     "output_type": "execute_result"
    }
   ],
   "source": [
    "data_test = pd.read_csv(test_file)\n",
    "data_test.drop(\"customer_id\", axis=1, inplace=True)\n",
    "data_test.head()"
   ]
  },
  {
   "cell_type": "code",
   "execution_count": 48,
   "metadata": {},
   "outputs": [],
   "source": [
    "ypred = rf_model.predict(data_test)"
   ]
  },
  {
   "cell_type": "code",
   "execution_count": 49,
   "metadata": {},
   "outputs": [
    {
     "data": {
      "text/plain": [
       "array([1, 1, 1, ..., 0, 0, 1])"
      ]
     },
     "execution_count": 49,
     "metadata": {},
     "output_type": "execute_result"
    }
   ],
   "source": [
    "ypred"
   ]
  },
  {
   "cell_type": "code",
   "execution_count": 54,
   "metadata": {},
   "outputs": [
    {
     "data": {
      "text/html": [
       "<div>\n",
       "<style scoped>\n",
       "    .dataframe tbody tr th:only-of-type {\n",
       "        vertical-align: middle;\n",
       "    }\n",
       "\n",
       "    .dataframe tbody tr th {\n",
       "        vertical-align: top;\n",
       "    }\n",
       "\n",
       "    .dataframe thead th {\n",
       "        text-align: right;\n",
       "    }\n",
       "</style>\n",
       "<table border=\"1\" class=\"dataframe\">\n",
       "  <thead>\n",
       "    <tr style=\"text-align: right;\">\n",
       "      <th></th>\n",
       "      <th>customer_id</th>\n",
       "      <th>temperature</th>\n",
       "      <th>time</th>\n",
       "      <th>expiration</th>\n",
       "      <th>age</th>\n",
       "      <th>has_children</th>\n",
       "      <th>education</th>\n",
       "      <th>occupation</th>\n",
       "      <th>income</th>\n",
       "      <th>Bar</th>\n",
       "      <th>CoffeeHouse</th>\n",
       "      <th>CarryAway</th>\n",
       "      <th>RestaurantLessThan20</th>\n",
       "      <th>Restaurant20To50</th>\n",
       "      <th>toCoupon_GEQ15min</th>\n",
       "      <th>toCoupon_GEQ25min</th>\n",
       "      <th>direction_same</th>\n",
       "      <th>direction_opp</th>\n",
       "      <th>dest_Home</th>\n",
       "      <th>dest_No Urgent Place</th>\n",
       "      <th>dest_Work</th>\n",
       "      <th>pass_Alone</th>\n",
       "      <th>pass_Friend(s)</th>\n",
       "      <th>pass_Kid(s)</th>\n",
       "      <th>pass_Partner</th>\n",
       "      <th>weather_Rainy</th>\n",
       "      <th>weather_Snowy</th>\n",
       "      <th>weather_Sunny</th>\n",
       "      <th>coupon_Bar</th>\n",
       "      <th>coupon_Carry out &amp; Take away</th>\n",
       "      <th>coupon_Coffee House</th>\n",
       "      <th>coupon_Restaurant(20-50)</th>\n",
       "      <th>coupon_Restaurant(&lt;20)</th>\n",
       "      <th>gender_Female</th>\n",
       "      <th>gender_Male</th>\n",
       "      <th>mar_Divorced</th>\n",
       "      <th>mar_Married partner</th>\n",
       "      <th>mar_Single</th>\n",
       "      <th>mar_Unmarried partner</th>\n",
       "      <th>mar_Widowed</th>\n",
       "    </tr>\n",
       "  </thead>\n",
       "  <tbody>\n",
       "    <tr>\n",
       "      <th>0</th>\n",
       "      <td>374679</td>\n",
       "      <td>80</td>\n",
       "      <td>4</td>\n",
       "      <td>1</td>\n",
       "      <td>0</td>\n",
       "      <td>0</td>\n",
       "      <td>3</td>\n",
       "      <td>2</td>\n",
       "      <td>1</td>\n",
       "      <td>1</td>\n",
       "      <td>3</td>\n",
       "      <td>2</td>\n",
       "      <td>4</td>\n",
       "      <td>2</td>\n",
       "      <td>0</td>\n",
       "      <td>0</td>\n",
       "      <td>0</td>\n",
       "      <td>1</td>\n",
       "      <td>0</td>\n",
       "      <td>1</td>\n",
       "      <td>0</td>\n",
       "      <td>0</td>\n",
       "      <td>1</td>\n",
       "      <td>0</td>\n",
       "      <td>0</td>\n",
       "      <td>0</td>\n",
       "      <td>0</td>\n",
       "      <td>1</td>\n",
       "      <td>0</td>\n",
       "      <td>0</td>\n",
       "      <td>1</td>\n",
       "      <td>0</td>\n",
       "      <td>0</td>\n",
       "      <td>1</td>\n",
       "      <td>0</td>\n",
       "      <td>0</td>\n",
       "      <td>0</td>\n",
       "      <td>1</td>\n",
       "      <td>0</td>\n",
       "      <td>0</td>\n",
       "    </tr>\n",
       "    <tr>\n",
       "      <th>1</th>\n",
       "      <td>469678</td>\n",
       "      <td>80</td>\n",
       "      <td>4</td>\n",
       "      <td>2</td>\n",
       "      <td>1</td>\n",
       "      <td>0</td>\n",
       "      <td>2</td>\n",
       "      <td>2</td>\n",
       "      <td>2</td>\n",
       "      <td>3</td>\n",
       "      <td>1</td>\n",
       "      <td>5</td>\n",
       "      <td>4</td>\n",
       "      <td>3</td>\n",
       "      <td>1</td>\n",
       "      <td>0</td>\n",
       "      <td>1</td>\n",
       "      <td>0</td>\n",
       "      <td>1</td>\n",
       "      <td>0</td>\n",
       "      <td>0</td>\n",
       "      <td>1</td>\n",
       "      <td>0</td>\n",
       "      <td>0</td>\n",
       "      <td>0</td>\n",
       "      <td>0</td>\n",
       "      <td>0</td>\n",
       "      <td>1</td>\n",
       "      <td>0</td>\n",
       "      <td>1</td>\n",
       "      <td>0</td>\n",
       "      <td>0</td>\n",
       "      <td>0</td>\n",
       "      <td>0</td>\n",
       "      <td>1</td>\n",
       "      <td>0</td>\n",
       "      <td>0</td>\n",
       "      <td>0</td>\n",
       "      <td>1</td>\n",
       "      <td>0</td>\n",
       "    </tr>\n",
       "    <tr>\n",
       "      <th>2</th>\n",
       "      <td>216140</td>\n",
       "      <td>55</td>\n",
       "      <td>2</td>\n",
       "      <td>1</td>\n",
       "      <td>1</td>\n",
       "      <td>1</td>\n",
       "      <td>3</td>\n",
       "      <td>1</td>\n",
       "      <td>3</td>\n",
       "      <td>1</td>\n",
       "      <td>1</td>\n",
       "      <td>3</td>\n",
       "      <td>2</td>\n",
       "      <td>1</td>\n",
       "      <td>1</td>\n",
       "      <td>0</td>\n",
       "      <td>0</td>\n",
       "      <td>1</td>\n",
       "      <td>0</td>\n",
       "      <td>1</td>\n",
       "      <td>0</td>\n",
       "      <td>1</td>\n",
       "      <td>0</td>\n",
       "      <td>0</td>\n",
       "      <td>0</td>\n",
       "      <td>1</td>\n",
       "      <td>0</td>\n",
       "      <td>0</td>\n",
       "      <td>0</td>\n",
       "      <td>0</td>\n",
       "      <td>1</td>\n",
       "      <td>0</td>\n",
       "      <td>0</td>\n",
       "      <td>1</td>\n",
       "      <td>0</td>\n",
       "      <td>0</td>\n",
       "      <td>1</td>\n",
       "      <td>0</td>\n",
       "      <td>0</td>\n",
       "      <td>0</td>\n",
       "    </tr>\n",
       "    <tr>\n",
       "      <th>3</th>\n",
       "      <td>184301</td>\n",
       "      <td>80</td>\n",
       "      <td>4</td>\n",
       "      <td>1</td>\n",
       "      <td>3</td>\n",
       "      <td>1</td>\n",
       "      <td>4</td>\n",
       "      <td>3</td>\n",
       "      <td>5</td>\n",
       "      <td>1</td>\n",
       "      <td>4</td>\n",
       "      <td>4</td>\n",
       "      <td>3</td>\n",
       "      <td>2</td>\n",
       "      <td>1</td>\n",
       "      <td>0</td>\n",
       "      <td>0</td>\n",
       "      <td>1</td>\n",
       "      <td>0</td>\n",
       "      <td>1</td>\n",
       "      <td>0</td>\n",
       "      <td>0</td>\n",
       "      <td>0</td>\n",
       "      <td>0</td>\n",
       "      <td>1</td>\n",
       "      <td>0</td>\n",
       "      <td>0</td>\n",
       "      <td>1</td>\n",
       "      <td>1</td>\n",
       "      <td>0</td>\n",
       "      <td>0</td>\n",
       "      <td>0</td>\n",
       "      <td>0</td>\n",
       "      <td>0</td>\n",
       "      <td>1</td>\n",
       "      <td>0</td>\n",
       "      <td>0</td>\n",
       "      <td>0</td>\n",
       "      <td>1</td>\n",
       "      <td>0</td>\n",
       "    </tr>\n",
       "    <tr>\n",
       "      <th>4</th>\n",
       "      <td>148720</td>\n",
       "      <td>30</td>\n",
       "      <td>1</td>\n",
       "      <td>1</td>\n",
       "      <td>1</td>\n",
       "      <td>0</td>\n",
       "      <td>3</td>\n",
       "      <td>2</td>\n",
       "      <td>7</td>\n",
       "      <td>1</td>\n",
       "      <td>1</td>\n",
       "      <td>3</td>\n",
       "      <td>4</td>\n",
       "      <td>2</td>\n",
       "      <td>1</td>\n",
       "      <td>0</td>\n",
       "      <td>0</td>\n",
       "      <td>1</td>\n",
       "      <td>0</td>\n",
       "      <td>0</td>\n",
       "      <td>1</td>\n",
       "      <td>1</td>\n",
       "      <td>0</td>\n",
       "      <td>0</td>\n",
       "      <td>0</td>\n",
       "      <td>0</td>\n",
       "      <td>0</td>\n",
       "      <td>1</td>\n",
       "      <td>0</td>\n",
       "      <td>1</td>\n",
       "      <td>0</td>\n",
       "      <td>0</td>\n",
       "      <td>0</td>\n",
       "      <td>1</td>\n",
       "      <td>0</td>\n",
       "      <td>0</td>\n",
       "      <td>1</td>\n",
       "      <td>0</td>\n",
       "      <td>0</td>\n",
       "      <td>0</td>\n",
       "    </tr>\n",
       "  </tbody>\n",
       "</table>\n",
       "</div>"
      ],
      "text/plain": [
       "   customer_id  temperature  time  expiration  age  has_children  education  \\\n",
       "0       374679           80     4           1    0             0          3   \n",
       "1       469678           80     4           2    1             0          2   \n",
       "2       216140           55     2           1    1             1          3   \n",
       "3       184301           80     4           1    3             1          4   \n",
       "4       148720           30     1           1    1             0          3   \n",
       "\n",
       "   occupation  income  Bar  CoffeeHouse  CarryAway  RestaurantLessThan20  \\\n",
       "0           2       1    1            3          2                     4   \n",
       "1           2       2    3            1          5                     4   \n",
       "2           1       3    1            1          3                     2   \n",
       "3           3       5    1            4          4                     3   \n",
       "4           2       7    1            1          3                     4   \n",
       "\n",
       "   Restaurant20To50  toCoupon_GEQ15min  toCoupon_GEQ25min  direction_same  \\\n",
       "0                 2                  0                  0               0   \n",
       "1                 3                  1                  0               1   \n",
       "2                 1                  1                  0               0   \n",
       "3                 2                  1                  0               0   \n",
       "4                 2                  1                  0               0   \n",
       "\n",
       "   direction_opp  dest_Home  dest_No Urgent Place  dest_Work  pass_Alone  \\\n",
       "0              1          0                     1          0           0   \n",
       "1              0          1                     0          0           1   \n",
       "2              1          0                     1          0           1   \n",
       "3              1          0                     1          0           0   \n",
       "4              1          0                     0          1           1   \n",
       "\n",
       "   pass_Friend(s)  pass_Kid(s)  pass_Partner  weather_Rainy  weather_Snowy  \\\n",
       "0               1            0             0              0              0   \n",
       "1               0            0             0              0              0   \n",
       "2               0            0             0              1              0   \n",
       "3               0            0             1              0              0   \n",
       "4               0            0             0              0              0   \n",
       "\n",
       "   weather_Sunny  coupon_Bar  coupon_Carry out & Take away  \\\n",
       "0              1           0                             0   \n",
       "1              1           0                             1   \n",
       "2              0           0                             0   \n",
       "3              1           1                             0   \n",
       "4              1           0                             1   \n",
       "\n",
       "   coupon_Coffee House  coupon_Restaurant(20-50)  coupon_Restaurant(<20)  \\\n",
       "0                    1                         0                       0   \n",
       "1                    0                         0                       0   \n",
       "2                    1                         0                       0   \n",
       "3                    0                         0                       0   \n",
       "4                    0                         0                       0   \n",
       "\n",
       "   gender_Female  gender_Male  mar_Divorced  mar_Married partner  mar_Single  \\\n",
       "0              1            0             0                    0           1   \n",
       "1              0            1             0                    0           0   \n",
       "2              1            0             0                    1           0   \n",
       "3              0            1             0                    0           0   \n",
       "4              1            0             0                    1           0   \n",
       "\n",
       "   mar_Unmarried partner  mar_Widowed  \n",
       "0                      0            0  \n",
       "1                      1            0  \n",
       "2                      0            0  \n",
       "3                      1            0  \n",
       "4                      0            0  "
      ]
     },
     "execution_count": 54,
     "metadata": {},
     "output_type": "execute_result"
    }
   ],
   "source": [
    "data_test_df=pd.read_csv(test_file)\n",
    "data_test_df.head()"
   ]
  },
  {
   "cell_type": "code",
   "execution_count": 56,
   "metadata": {},
   "outputs": [],
   "source": [
    "submission_df=pd.DataFrame({\n",
    "    \"customer_id\": data_test_df['customer_id'],\n",
    "    \"Y\": ypred\n",
    "})"
   ]
  },
  {
   "cell_type": "code",
   "execution_count": 58,
   "metadata": {},
   "outputs": [
    {
     "data": {
      "text/html": [
       "<div>\n",
       "<style scoped>\n",
       "    .dataframe tbody tr th:only-of-type {\n",
       "        vertical-align: middle;\n",
       "    }\n",
       "\n",
       "    .dataframe tbody tr th {\n",
       "        vertical-align: top;\n",
       "    }\n",
       "\n",
       "    .dataframe thead th {\n",
       "        text-align: right;\n",
       "    }\n",
       "</style>\n",
       "<table border=\"1\" class=\"dataframe\">\n",
       "  <thead>\n",
       "    <tr style=\"text-align: right;\">\n",
       "      <th></th>\n",
       "      <th>customer_id</th>\n",
       "      <th>Y</th>\n",
       "    </tr>\n",
       "  </thead>\n",
       "  <tbody>\n",
       "    <tr>\n",
       "      <th>0</th>\n",
       "      <td>374679</td>\n",
       "      <td>1</td>\n",
       "    </tr>\n",
       "    <tr>\n",
       "      <th>1</th>\n",
       "      <td>469678</td>\n",
       "      <td>1</td>\n",
       "    </tr>\n",
       "    <tr>\n",
       "      <th>2</th>\n",
       "      <td>216140</td>\n",
       "      <td>1</td>\n",
       "    </tr>\n",
       "    <tr>\n",
       "      <th>3</th>\n",
       "      <td>184301</td>\n",
       "      <td>0</td>\n",
       "    </tr>\n",
       "    <tr>\n",
       "      <th>4</th>\n",
       "      <td>148720</td>\n",
       "      <td>1</td>\n",
       "    </tr>\n",
       "  </tbody>\n",
       "</table>\n",
       "</div>"
      ],
      "text/plain": [
       "   customer_id  Y\n",
       "0       374679  1\n",
       "1       469678  1\n",
       "2       216140  1\n",
       "3       184301  0\n",
       "4       148720  1"
      ]
     },
     "execution_count": 58,
     "metadata": {},
     "output_type": "execute_result"
    }
   ],
   "source": [
    "submission_df.head()"
   ]
  },
  {
   "cell_type": "code",
   "execution_count": 60,
   "metadata": {},
   "outputs": [
    {
     "data": {
      "text/plain": [
       "((2537, 2), (2537, 40))"
      ]
     },
     "execution_count": 60,
     "metadata": {},
     "output_type": "execute_result"
    }
   ],
   "source": [
    "submission_df.shape, data_test_df.shape"
   ]
  },
  {
   "cell_type": "code",
   "execution_count": 64,
   "metadata": {},
   "outputs": [],
   "source": [
    "submission_df.to_csv('submission_rfc_no_parameter.csv', index=False)"
   ]
  }
 ],
 "metadata": {
  "kernelspec": {
   "display_name": "Python 3 (ipykernel)",
   "language": "python",
   "name": "python3"
  },
  "language_info": {
   "codemirror_mode": {
    "name": "ipython",
    "version": 3
   },
   "file_extension": ".py",
   "mimetype": "text/x-python",
   "name": "python",
   "nbconvert_exporter": "python",
   "pygments_lexer": "ipython3",
   "version": "3.8.18"
  }
 },
 "nbformat": 4,
 "nbformat_minor": 4
}
